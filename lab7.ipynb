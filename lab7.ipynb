{
  "cells": [
    {
      "metadata": {
        "id": "8a77807f92f26ee"
      },
      "cell_type": "markdown",
      "source": [
        "# ЛР7 Кривохата Марія ІМ-21"
      ],
      "id": "8a77807f92f26ee"
    },
    {
      "metadata": {
        "jupyter": {
          "is_executing": true
        },
        "id": "7df9140457caed5e"
      },
      "cell_type": "code",
      "source": [
        "import spacy\n",
        "from spacy.matcher import Matcher\n",
        "import json\n",
        "import re"
      ],
      "id": "7df9140457caed5e",
      "outputs": [],
      "execution_count": null
    },
    {
      "metadata": {
        "id": "457b95866582b599"
      },
      "cell_type": "code",
      "outputs": [],
      "execution_count": null,
      "source": [
        "nlp = spacy.load(\"en_core_web_sm\")\n",
        "\n",
        "with open(\"/content/sample_data/events.json\", \"r\", encoding=\"utf8\") as f:\n",
        "    data = json.load(f)"
      ],
      "id": "457b95866582b599"
    },
    {
      "cell_type": "markdown",
      "source": [
        "1. Виділити назви спортивних команд за допомогою класу Matcher."
      ],
      "metadata": {
        "id": "2afveabcy50X"
      },
      "id": "2afveabcy50X"
    },
    {
      "metadata": {
        "id": "1b346883f7e154d4"
      },
      "cell_type": "code",
      "outputs": [],
      "execution_count": null,
      "source": [
        "utterances = []\n",
        "for dialogue in data:\n",
        "    for turn in dialogue.get(\"turns\", []):\n",
        "        text = turn.get(\"utterance\")\n",
        "        if text:\n",
        "            utterances.append(text)"
      ],
      "id": "1b346883f7e154d4"
    },
    {
      "metadata": {
        "colab": {
          "base_uri": "https://localhost:8080/"
        },
        "id": "5077f8ebadc666d3",
        "outputId": "ed9ad72d-3b12-4592-a235-d65c1b915eec"
      },
      "cell_type": "code",
      "outputs": [
        {
          "output_type": "stream",
          "name": "stdout",
          "text": [
            "[\"Okay, I'm looking for a list of dates for special events in San Francisco. Would you help pull up a list for me, please?\", \"Sure, I'll be happy to assist you. Do you prefer information on a particular even?\", \"Well, I'm thinking the Giants Vs Dodgers game. I've heard it's really entertaining.\", 'All right. The Giants Vs Dodgers game takes place on 5 days at Oracle Park. The event is coming up next Monday.', 'Are there other dates listed for the events?', 'I show the event taking place next Friday. It is the Giants Vs Dodgers game at Oracle Park.', 'Okay, that would be fine. Would you arrange for me to purchase 3 tickets for that event, please?', 'Yes, I am reserving 3 tickets for you to attend the Giants Vs Dodgers game next Friday. The event will take place in San Francisco. Please confirm', 'Wonderful. Yes, please confirm. That is exactly what I want. Now, what is the address of the venue? And, at what time will the game start?', 'You now have a reservation for the event. The address of the venue is 24 Willie Mays Plaza, and the event will begin at 5 pm.', 'Fine and dandy. I really appreciate your assistance.', 'Would you like any other assistance?', \"Nope, you've been great. Thanks so much.\", 'My pleasure. Assistance completed at this time.', \"I'm interested in finding dates for events.\", 'Do you have a city you prefer? What events are you interested in?', 'I am looking for events in Anaheim and I head that Brown Sabbath is really good.', 'The Brown Sabbath event will happen today at Crossroads at House of Blues Anaheim.', 'What events are there on other dates?', \"There's Brown Sabbath tomorrow at Crossroads at House of Blues Anaheim.\", 'That sounds good.', 'Do you want to buy tickets for this event?', 'Yes, I would like to buy tickets.', 'How many tickets do you want?', 'I want 2 tickets.', 'Just to confirm the event is tomorrow and the is Brown Sabbath with 2 tickets in Anaheim.', 'I just want one ticket.', 'Just to confirm, you just one 1 ticket for Brown Sabbath.', 'Yes, that works for me.', 'Reservations have been made.', \"That's all I need and thanks a lot for the help.\", 'Have a great day.', 'I would like to find local event dates.', 'Do you have a preferred city and event?', 'Yes, Chi-town and I heard The Buttertones is good.', 'In 5 days, next Wednesday is The Buttertones at Chop Shop.', 'Are there other dates?', 'Next Thursday is available for The Buttertones at the Chop Shop.', 'What a bout in New York City for Buddy Guy who is good?', 'The Buddy Guy even at Sony Hall is today.', 'When does it start?', 'It starts at 5 pm.', 'Where is the address?', 'The address is 235 West 46th Street.', 'This is a good one for me.', 'Would you like tickets?', 'I want two tickets to this.', 'Please confirm for today 2 tickets for Buddy Guy in New York.', 'Thank you that is good.', 'Your tickets are confirmed.', 'Thanks that is all today.', 'Have a great day today.', 'Hi, I am trying to find some dates for events in the city.', 'Is there a particular city you would like me to research the event for?', 'I am looking for events in ATL...I heard that Yellow Jackets Vs Bulls is supposed to be really exciting.', 'The Yellow Jackets Vs Bulls will be playing at the Bobby Dodd Stadium at Historic Grant Field. The time will be the day after tomorrow.', 'What time does the game start?', 'The game is scheduled at 5:30 pm.', 'Could you let me know the venue address?', 'The venue address is 177 North Avenue Northwest.', 'Awesome, sounds great!', 'Would you like to buy tickets to the game?', 'Yes, I need four tickets to the game please.', 'Just to confirm: You need 4 tickets to the Yellow Jackets Vs Bulls game taking place in Atlanta the day after tomorrow.', 'Yes, I can confirm that.', 'Congratulations, you have successfully made the reservation.', 'Thanks so much!', 'Do you need any more assistance?', 'No, thanks for your help with this.', 'Have a great day, thanks for your business.', 'I want to find some dates for an event I want to go to.', 'Which event is it? Which city do you prefer to view it in?', 'I want to watch Washington Vs Ny Liberty in Washington D.C. When does it start?', 'Starts next Wednesday and Washington Vs Ny Liberty is hosted at the Entertainment & Sports Arena.', 'Sounds great! I want to buy those tickets, help me book two.', 'Certainly, I will help you book 2 tickets foo the Washington Vs Ny Liberty game next Wednesday at Washington D.C.', 'I want to change that to 3 tickets.', 'Certainly, 3 tickets for the even in Washington D.C.', 'What is the address of the venue?', 'The reservation has been made and the venue is located at 1100 Oak Drive SE.', 'Thank you for your help!', 'Is there anything else you need?', 'No thank you, have a great day!', 'Have a great day yourself!', \"I'm looking for some popular events to go to. I hear that the Raiders Vs Jaguars is popular.\", 'Should I look in a specific city?', 'I also heard that the Giants Vs Marlins is good. I am looking for events in SFO.', 'I found events that match that on 6 days. One is today. The event is Giants Vs Marlins and is at Oracle Park.', 'That sounds good. I would like to buy three tickets to that event.', 'Okay, so you want to buy 3 tickets for the Giants Vs Marlins game today in San Francisco. Is that correct?', 'Yes, that sounds good. Where is it located?', 'Okay, your reservation is confirmed. The venue is located at 24 Willie Mays Plaza.', 'Thanks for you help.', 'Is there anything else you need?', 'No, that is all thanks.', 'Okay, have a nice day.', 'I need event dates.', 'What city are you interested in? Do you know what event you need?', 'I would like event dates for Fidlar in Berkeley, CA.', 'There is 1 event. Fidlar is appearing next Monday at Cornerstone Craft Beer & Live Music', 'Where is that venue located? What time dies the show start.', 'This venue is at 2367 Shattuck Avenue. The show starts at 5:30 pm.', 'Great. That works for me.', 'Do you want tickets?', 'Yes I would like tickets.', 'How many tickets do you need?', 'I just need one ticket.', 'You want 1 ticket to Fidlar next Monday in Berkeley. Is that correct?', 'Make that 3 tickets.', 'You want 3 tickets to Fidlar next Monday in Berkeley. Is that correct?', \"Yes. That's correct.\", 'Your tickets have been booked. You are all set.', \"That's great, thanks.\", 'Do you need anything else?', \"Nope. I'm good for now.\", 'Let me know if you need sanything else.', 'I would like to find out when some events will be.', 'Do you have a particular event in mind? Is there a city you would prefer to search in?', 'I am looking for events in Seattle, WA. I heard that Greensky Bluegrass is really good.', 'Greensky Bluegrass is playing today at Flamingo Lot.', 'Where is the venue located?', 'The venue is located at 5500 Phinney Avenue North.', 'When does the concert start?', 'The event begins at 5:30 pm.', 'Can you show me some events for other dates?', 'Greensky Bluegrass also plays tomorrow at Flamingo Lot.', \"How about events on other dates? Let's search in Vancouver. I have heard that Whitecaps Vs Earthquakes is really good.\", 'I found that event on 5 days. Whitecaps Vs Earthquakes will take place next Friday at BC Place.', 'That sounds great to me. I would like to buy tickets.', 'Certainly, how many tickets would you like?', 'I want 1 ticket.', 'You would like to buy 1 ticket for Whitecaps Vs Earthquakes in Vancouver next Friday, is this right?', 'Yes, that works for me. What is the address of the venue? What time does the event start?', 'Your ticket purchase was successful. The venue is located at 777 Pacific Boulevard. The event starts at 5:30 pm.', \"Thank you for your help! That's all for now.\", 'Have a great day!', \"I'm interested in the Falcons Vs Redskins game and need to find out the dates.\", 'What city would you like me to search in?', 'See what events are taking place in ATL.', 'The Falcons Vs Redskins game is tomorrow at the Mercedes-Benz Stadium.', 'That works for me.', 'Do you need tickets for the game?', 'I would like to purchase three tickets for this event.', 'Please verify the following: 3 tickets for the Falcons Vs Redskins game tomorrow in Atlanta.', 'I only want 1 ticket.', 'Please verify the following: 1 ticket for the Falcons Vs Redskins game', 'Sounds good to me.', 'Your reservation is confirmed.', \"Thank you for your help, I don't need anything further.\", 'Enjoy your day.', 'I want to attend an event in New York City.', 'What type of event are you into?', 'I heard that Shanice is great.', 'I found the event on 5 days and it is on today. It is Shanice at Sony Hall.', \"How about events on other dates? I heard that Nationals Vs Phillies is awesome. I'd like events in Washington D.C.\", 'The Nationals Vs Phillies event at Nationals Park is next MOnday.', 'How about events on other dates?', 'There is a Nationals Vs Phillies event next Wednesday at Nationals Park.', 'When will the event start?', 'The event starts at 6 pm.', 'That sounds great. I want to buy three tickets.', 'Please confirm that you want 3 tickets to Nationals Vs Phillies. The event occurs next Wednesday in Washington D.C.', 'Yes that works for me. Where is the venue located?', 'Your reservation was confirmed. The venue is at 1500 South Capitol Street Southeast.', 'Thanks. I got everything I needed.', 'Have a good one.', 'I would like to search for the event White Sox Vs Angels in Chi-town.', 'The event White Sox Vs Angels is for 7 days from today at Guaranteed Rate Field.', 'What about event Cardinal Vs Ducks in Stanford?', \"Yes, that's good, the Cardinal Vs Ducks event is on tomorrow at Stanford Stadium.\", 'Is there any events on some other dates?', 'Yes, the event Cardinal Vs Ducks at Stanford Stadium is on next Wednesday.', 'That will work for me.', 'Shall I book tickets for you?', 'Yes, do it for me.', 'How may do you want?', 'Four is okay', 'I have to book 4 tickets for event Cardinal Vs Ducks on next Wednesday in stanford. Is that right?', 'Sorry, make it 3', 'Okay, 3 tickets on next Wednesday.', 'Yes, that sounds good. Where is the venue?', 'I have confirmed your tickets. Venue is 625 Nelson Road.', 'When is the start date?', 'It starts at 6 pm.', \"Thanks, that's all.\", 'Have a good day.', 'Can you help find dates for some upcoming events?', 'Yes I can, Do you know what city?', 'Yes, can you look up events in Portland?', 'Sure, and what event are you interested in?', 'Can you look up Damien Jurado?', 'Yes,the Damien Jurado event is going on today and it is happening at The Old Church Concert Hall.', 'What time does it start?', 'It will begin 5 pm.', 'Can I have the location to the venue?', 'Yes, the address is 1422 Southwest 11th Avenue.', \"Thank you, that's great.\", 'Did you need me to purchase your tickets?', 'Yes, that would be helpful. Can you I get two tickets?', 'Okay, I have 2 tickets for today in Portland for the Damien Jurado event. Is this right?', 'Sorry, I only need one tickets.', 'No worries. So you will only need 1 ticket for the event today?', 'Yes, please and thank you.', 'You are welcome and your tickets have been reserved.', 'Thank you, you are the best. Have a great day.', 'Thank you and same to you.', \"I'm looking for an event.\", 'What event are you looking for?', 'I would like to go to Tash Sultana.', 'What city would you like me to check?', 'Here in Phoenix, AZ.', 'There are 6 event dates for Tash Sultana. The first is today at The Van Buren.', 'When does it start and where is the venue located.', 'The venue is at 401 West Van Buren Street. The event starts 5 pm.', 'Ok. I would like to buy tickets.', 'How may tickets do you need?', 'Just 1 please.', 'You want 1 ticket to Tash Sultana for today in Phoenix. Is that correct?', 'Make that 4 tickets.', 'You want 4 tickets to Tash Sultana for today in Phoenix. Is that correct?', 'That is correct.', 'Ok. You are all set.', \"That's great, Thanks.\", 'Do you require anything else?', 'Nope. I am good for now.', 'Let me know if you need anything else.', \"I'm looking for things to do in New York City, like events, do you have dates for anything like that?\", 'What kind of event are you looking for?', \"I'm interested in watching the Yankees Vs Blue Jays, that seems like it would be great.\", \"There's a Yankees Vs Blue Jays game the day after tomorrow at Yankee Stadium if that interests you.\", 'Do you have dates for any other games?', \"Next Tuesday there's a Yankees Vs Blue Jays game at Yankee Stadium.\", \"Do you have any other dates for games? I'm actually looking for things to do in Seattle, WA. Do you have anything with the Mariners Vs Tigers, I heard that's good.\", \"I've found games on 5 days. There's a Mariners Vs Tigers game tomorrow at T-Mobile Park. Does that interest you?\", 'What time does it start and where is the park located?', 'The park is at 1250 1st Avenue South and the game begins at 5 pm.', 'That sounds good, I like it.', 'Would you like me to buy tickets for the game?', 'Yeah, can you get me 4 tickets.', \"I'll buy you 4 tickets for the Mariners Vs Tigers game tomorrow in Seattle, is that right?\", \"Yeah, that's right.\", \"I've purchased the tickets.\", \"Thanks so much, that'll be all.\", 'Okay, have a terrific day.', 'I need the dates for some events.', 'Do you know which events you want dates for?', 'Someone recommended Mystics Vs Sun, they said it was quite good.', 'What city should I check?', 'I want events in the District of Columbia please.', 'Mystics Vs Sun occurs the day after tomorrow at the location Entertainment & Sports Arena.', 'What is the location of the venue and what time does it start?', 'It is scheduled for 5 pm at 1100 Oak Drive SE.', 'I would like to find events for some other dates as well. I would like events that are located in Los Angeles. I have heard positive feedback on Murder City Devils.', 'The Teragram Ballroom will by hosting the event Murder City Devils next Monday.', \"That's fantastic. I want four tickets to that event.\", 'You would like to purchase 4 tickets for next Monday to see the Murder City Devils in Los Angeles. Did I state that correctly?', 'No, I now only need 2 tickets purchased.', 'Okay you want to purchase 2 tickets for the event scheduled on next Monday. Is that right?', \"Yes, that's exactly what I want. Please tell me the address where the event is to be held.\", 'Your tickets were successfully purchased. The event will be held at 1234 West 7th Street.', 'I really appreciate your assistance', 'Do you need or want anything else?', 'No, I am good for now. Thanks again.', 'Have a day filled with blessings.', 'I want to find dates for events.', 'What event are you interested in?', 'I am thinking of Angels vs Red Sox.', 'What city do you prefer?', 'I prefer Anaheim.', 'I found Angels Vs Red Sox at Angel Stadium of Anaheim. The even is on 3 days for next Monday.', 'Where is the event located and at what time does it start?', 'The event starts at 7 pm and is located at 2000 East Gene Autry Way.', 'Thats okay. Please I want to pay for the ticket.', 'How many tickets do you want to pay for?', '4 tickets.', 'Please confirm that you want Angels vs Red Sox event at Anaheim for next Monday and that you want to pay the tickets for 4.', 'Yes that is it.', 'Your reservation has been successfully made.', 'Thanks a lot. Thats all I need for now.', 'Do have a lovely day.', 'I am interested in finding dates for events.', 'Do you know what event you are looking for?', 'I want to see Panthers Vs Mountaineers.', 'What city should I look in?', 'I am looking for events in Sacramento, CA. I want to see Republic Vs Toros.', \"I found Republic Vs Toros at Papa Murphy's Park today. The event is on for 5 days.\", 'When does the event start? Where is the event at?', 'The event is at 1600 Exposition Boulevard beginning at 5:30 pm.', 'That would be great, lets buy tickets.', 'How many tickets?', 'I want 1 ticket.', 'Confirm the following, 1 ticket for Republic Vs Toros today in Sacramento.', 'No, I need three tickets.', \"Please confirm, 3 tickets for today's event in Sacramento.\", 'Yes, that is correct.', 'The reservation has been made.', 'Thank you for your help.', 'Is there anything else I can help you with?', 'No, that was all.', 'Have a wonderful day!', 'Please could you search for dates for events?', 'Do you have any preference for a specific event or city location?', 'I have got very nice comments about Phillies Vs Padres and I am looking for events on Philly.', 'The event Phillies Vs Padres is on March 9th at Citizens Bank Park.', 'At what time does it start?', 'At 5:30 pm.', 'This is nice for me.', 'Should I buy tickets for it?', 'Yes for sure.', 'How many tickets?', 'It should be three please.', 'Please confirm that I should buy 3 tickets for the event Phillies Vs Padres on March 9th at Philadelphia.', 'Actually I want only one ticket.', 'Please confirm that I should buy 1 ticket for the event in Philadelphia.', 'That is correct. Which is the address of the event?', 'The reservation is confirmed and the address is 1 Citizens Bank Way.', 'That is all. Thank you.', 'Great have a nice day.', 'I am looking for something to do this weekend. I think I can find an event for Prettymuch.', 'Where will you be this weekend?', 'I will be in SD.', \"Well, if you're going to be there next Wednesday, Prettymuch will be at the Cal Coast Credit Union Amphitheater.\", 'Where is that? What time will it start?', \"It's at 5500 Campanile Drive. It starts at 7:30 pm.\", 'Hey, that sounds good!', 'Would you like to buy tickets to see Prettymuch?', 'Yes, I would like one ticket.', 'Okay, just to confirm: You want 1 ticket to see Prettymuch, on next Wednesday, in San Diego.', \"No, I'll have friends with me. I will need four tickets.\", \"Let's confirm then. You will need 4 tickets for Prettymuch in San Diego.\", \"Yes, that's what I want.\", 'Okay, your seats are reserved.', 'Thanks for your help!', 'Is there anything else I can help you with?', \"No. That's it for now. Thanks again.\", 'Have a good day, and I hope you enjoy the concert.', 'I am looking for events date', 'In what city should i search for you and any preference in particular event?', 'Please find Celine Dion in SFO', 'There are events in the next 7 days. The event for today is Celine Dion at Chase Center Experience', 'Any other dates?', 'Tomorrow at Chase Center Experience is playing Celine Dion', 'Any other dates with Phillies Vs Pirates in Philadelphia?', 'There is a event for Phillies Vs Pirates on the day after tomorrow at Citizens Bank park', 'When is this event and where?', 'The event will start at 7 pm at 1 Citizens bank Way', 'thats great, please book a ticket for me', 'how many tickets do you want', 'i need 3 tickets', 'Please confirm your booking of 3 tickets for Phillies Vs Pirates on the day after tomorrow in Philadelphia', 'No i need 2 tickets', 'Please confirm you want 2 tickets for Phillies Vs Pirates', 'Yes', 'This is booked', 'THanks', 'Have a nice day', 'I am interested in finding out the available dates for a Bryan Adams concert in Portland. I heard that his concerts were really good.', 'Bryan Adams will be at Theater Of The Clouds next Monday.', 'What others dates is he playing?', 'Bryan Adams will also be at Theater Of The Clouds next Tuesday.', 'What other dates are his concerts?', 'Bryan Adams will be at Theater Of The Clouds next Thursday.', 'What is the address of the venue?', 'The theater is located at 1016-1098 North Center Court Street.', 'That sounds good to me.', 'Would you like to buy tickets for this event?', 'Yes, I would like to buy tickets for this concert.', 'How many tickets would you like?', 'I want 2 tickets, please.', 'You would like 2 tickets for Bryan Adams in Portland next Thursday, is this right?', 'No, I want four tickets.', 'You would like 4 tickets for Bryan Adams, is this right?', 'Yes, that works. What time does the show start?', 'Your reservation has been made. The event starts at 7:30 pm.', \"Thank you very much for your help. That's all for now.\", 'Have a great day!', 'I want to check out the dates for some events', 'Is there a specific event or city you are interested in?', \"How about Owls vs Knights? I'd like something in Philly.\", 'The event takes place today. Owls vs knights will take place at Lincoln Financial field.', \"What about the Nationals vs Rockies? I'd like information about events in Washington\", 'That takes place tomorrow. Nationals Vs Rockies will be held at Nationals Park', \"Awesome. I'd like to buy 4 tickets to the event.\", 'Is this correct? 4 tickets to the event Nationals vs Rockies scheduled for tomorrow in Washington D.C.', 'That is correct.Please give me the event time and exact location', 'Your reservation has been made. The venue is at 1500 South Capitol Street Southeast. It starts at 6:30 pm', \"I appreciate your help. That's all.\", 'Nice day!', \"I feel like going out to do something in Oakland. I've heard the Raiders Vs Bengals game should be good.\", 'The Raiders Vs Bengals game is at Oakland-Alameda County Coliseum today.', 'What time does it start?', 'It starts at 7 pm.', 'That sounds fine.', 'Do you want to get tickets for it?', 'Yes, can you buy 3 tickets for me?', 'Sure. I will go ahead and buy 3 tickets for the Raiders Vs Bengals game in Oakland today. Is that right?', \"Yes, that's good. What's the address?\", \"The game is at 7000 Coliseum Way. I've bought the tickets.\", \"Thanks! That's all.\", 'Need help with anything else?', 'No, thank you.', 'Have a great day.', 'Could you help me find some dates for events?', 'What specific event are you interested in, and where would you like the event to be located at?', 'I am interested in The Acid event, and events which are located in LA.', 'There are 3 days in which The Acid is conducted, an there is one conducted tomorrow at the Regent Theater DTLA.', 'How about events on other dates? I also heard that Diamondbacks Vs Brewers is good, and am looking for events in Phoenix, Az.', 'There is a Diamondbacks Vs Brewers event next Monday at Chase Field.', 'That sounds great! Could I reserve 2 tickets to that event?', 'Please confirm your reservation of 2 tickets for the Diamondbacks Vs Brewers event next Monday in Phoenix.', 'That sounds great!', 'Your reservation has been made.', 'Thanks for your assistance.', 'Could I assist your with anything else?', 'No, thanks for your help.', 'Have a great day!', 'I want to find out more about event dates.', 'Is there a specific city I should look in?', 'Phoenix please.', \"Is there an event you're interested in?\", 'Yes, I want to Styx in Vancouver, BC.', 'I found the event on 8 days. Styx will be performing today at PNE Amphitheatre.', 'Works for me.', 'May I buy tickets?', 'Yes please.', 'How many shall I purchase?', '4 please.', 'Please confirm the following details: 4 tickets for the Styx concert that takes place today in Vancouver.', 'Yep, works for me.', 'Your purchase is complete.', 'When does it start and where is the venue?', 'It starts at 7:30 pm and the venue is located at 2901 East Hastings Street.', 'Thank you for the help.', 'May I help you with something else?', 'No thanks.', 'Enjoy the rest of your day.', 'I would like to find dates for events in ATL.', 'What kind of events do you like?', 'I really enjoy Gorgasm.', \"Gorgasm is appearing at Kenny's Alley next Tuesday\", \"Where is Kenny's Alley? When does it open?\", 'The event starts at 5:30 pm at 50 Upper Alabama Street.', 'Are there any other dates available>', \"Yes, Gorgasm plays at Kenny's Alley next Wednesday\", 'Those are good choices, thank you.', 'Can I help you buy tickets?', 'Yes I would like to attend the event.', 'How many tickets do I need.', 'I need to purchase 1 ticket.', 'I am confirming that you are purchasin 1 ticket to see Gorgasm next Wednesday in Atlanta.', 'That is correct, Thank you.', 'I have completed your reservation`', 'Thank you. That is all I need.', 'Have a great day.', \"I'm looking for dates for events.\", \"Any events you're interested in? City preference?\", \"I've heard good things about Jordan Rakei. Looking in Los Angeles.\", 'I found events on 9 days. One is today, Jordan Rakei at Regent Theater DTLA.', 'Any other dates? I heard about Falcons Vs Buccaneers, looking in ATL.', 'Falcons Vs Buccaneers is in Mercedes-Benz Stadium next Wednesday.', 'Where is that and at what time?', 'At 1 AMB Drive Northwest, at 7 pm.', 'Any other dates?', 'Falcons Vs Buccaneers is at Mercedes-Benz Stadium next Friday.', 'Sounds good.', 'Would you like to buy tickets?', 'Yes, please.', 'How many?', '2 please.', 'Please confirm: Falcons Vs Buccaneers for 2 people next Friday in Atlanta.', 'Yes, good.', \"You're booked.\", \"Thanks, that's all.\", 'Have a great day.']\n"
          ]
        }
      ],
      "execution_count": null,
      "source": [
        "print(utterances)"
      ],
      "id": "5077f8ebadc666d3"
    },
    {
      "cell_type": "code",
      "source": [
        "matcher = Matcher(nlp.vocab)\n",
        "\n",
        "vs_pattern = [\n",
        "    {\"ENT_TYPE\": {\"IN\": [\"ORG\", \"GPE\"]}, \"POS\": \"PROPN\", \"OP\": \"+\"},  # 1 team\n",
        "    {\"LOWER\": {\"IN\": [\"vs\", \"versus\", \"vs.\", \"against\"]}},\n",
        "    {\"ENT_TYPE\": {\"IN\": [\"ORG\", \"GPE\"]}, \"POS\": \"PROPN\", \"OP\": \"+\"}   # 2 team\n",
        "]\n",
        "\n",
        "matcher.add(\"SPORTS_TEAMS\", [vs_pattern])"
      ],
      "metadata": {
        "id": "JUZHQVM1UYCz"
      },
      "id": "JUZHQVM1UYCz",
      "execution_count": null,
      "outputs": []
    },
    {
      "cell_type": "code",
      "source": [
        "unique_teams = set()\n",
        "team_occurrences = {}\n",
        "\n",
        "print(\"Detected sports teams:\\n\" + \"-\" * 30)\n",
        "for text in utterances:\n",
        "    doc = nlp(text)\n",
        "    matches = matcher(doc)\n",
        "\n",
        "    for match_id, start, end in matches:\n",
        "        vs_index = next((i for i in range(start, end)\n",
        "                         if doc[i].lower_ in {\"vs\", \"versus\", \"vs.\", \"against\"}), None)\n",
        "        if vs_index is None or vs_index <= start or vs_index >= end - 1:\n",
        "            continue\n",
        "\n",
        "        team1_span = doc[start:vs_index]\n",
        "        team2_span = doc[vs_index + 1:end]\n",
        "\n",
        "        team1 = team1_span.text.strip()\n",
        "        team2 = team2_span.text.strip()\n",
        "\n",
        "        for team in [team1, team2]:\n",
        "            if team and team not in unique_teams:\n",
        "                unique_teams.add(team)\n",
        "                print(f\"Found team: {team}\")\n",
        "                print(f\"In context: {text}\")\n",
        "                print(\"-\" * 30)\n",
        "            team_occurrences[team] = team_occurrences.get(team, 0) + 1"
      ],
      "metadata": {
        "colab": {
          "base_uri": "https://localhost:8080/"
        },
        "id": "ZK_nvt8QcJXX",
        "outputId": "9e0b1b0b-522b-4d3e-d461-7d9a75805d0e"
      },
      "id": "ZK_nvt8QcJXX",
      "execution_count": null,
      "outputs": [
        {
          "output_type": "stream",
          "name": "stdout",
          "text": [
            "Detected sports teams:\n",
            "------------------------------\n",
            "Found team: Giants\n",
            "In context: Well, I'm thinking the Giants Vs Dodgers game. I've heard it's really entertaining.\n",
            "------------------------------\n",
            "Found team: Dodgers\n",
            "In context: Well, I'm thinking the Giants Vs Dodgers game. I've heard it's really entertaining.\n",
            "------------------------------\n",
            "Found team: Jackets\n",
            "In context: I am looking for events in ATL...I heard that Yellow Jackets Vs Bulls is supposed to be really exciting.\n",
            "------------------------------\n",
            "Found team: Bulls\n",
            "In context: I am looking for events in ATL...I heard that Yellow Jackets Vs Bulls is supposed to be really exciting.\n",
            "------------------------------\n",
            "Found team: Yellow Jackets\n",
            "In context: I am looking for events in ATL...I heard that Yellow Jackets Vs Bulls is supposed to be really exciting.\n",
            "------------------------------\n",
            "Found team: Washington\n",
            "In context: I want to watch Washington Vs Ny Liberty in Washington D.C. When does it start?\n",
            "------------------------------\n",
            "Found team: Ny\n",
            "In context: I want to watch Washington Vs Ny Liberty in Washington D.C. When does it start?\n",
            "------------------------------\n",
            "Found team: Ny Liberty\n",
            "In context: I want to watch Washington Vs Ny Liberty in Washington D.C. When does it start?\n",
            "------------------------------\n",
            "Found team: Raiders\n",
            "In context: I'm looking for some popular events to go to. I hear that the Raiders Vs Jaguars is popular.\n",
            "------------------------------\n",
            "Found team: Jaguars\n",
            "In context: I'm looking for some popular events to go to. I hear that the Raiders Vs Jaguars is popular.\n",
            "------------------------------\n",
            "Found team: Marlins\n",
            "In context: I found events that match that on 6 days. One is today. The event is Giants Vs Marlins and is at Oracle Park.\n",
            "------------------------------\n",
            "Found team: Whitecaps\n",
            "In context: How about events on other dates? Let's search in Vancouver. I have heard that Whitecaps Vs Earthquakes is really good.\n",
            "------------------------------\n",
            "Found team: Earthquakes\n",
            "In context: How about events on other dates? Let's search in Vancouver. I have heard that Whitecaps Vs Earthquakes is really good.\n",
            "------------------------------\n",
            "Found team: Nationals\n",
            "In context: How about events on other dates? I heard that Nationals Vs Phillies is awesome. I'd like events in Washington D.C.\n",
            "------------------------------\n",
            "Found team: Phillies\n",
            "In context: How about events on other dates? I heard that Nationals Vs Phillies is awesome. I'd like events in Washington D.C.\n",
            "------------------------------\n",
            "Found team: Sox\n",
            "In context: I would like to search for the event White Sox Vs Angels in Chi-town.\n",
            "------------------------------\n",
            "Found team: Angels\n",
            "In context: I would like to search for the event White Sox Vs Angels in Chi-town.\n",
            "------------------------------\n",
            "Found team: White Sox\n",
            "In context: I would like to search for the event White Sox Vs Angels in Chi-town.\n",
            "------------------------------\n",
            "Found team: Cardinal\n",
            "In context: What about event Cardinal Vs Ducks in Stanford?\n",
            "------------------------------\n",
            "Found team: Ducks\n",
            "In context: What about event Cardinal Vs Ducks in Stanford?\n",
            "------------------------------\n",
            "Found team: Yankees\n",
            "In context: I'm interested in watching the Yankees Vs Blue Jays, that seems like it would be great.\n",
            "------------------------------\n",
            "Found team: Blue\n",
            "In context: I'm interested in watching the Yankees Vs Blue Jays, that seems like it would be great.\n",
            "------------------------------\n",
            "Found team: Blue Jays\n",
            "In context: I'm interested in watching the Yankees Vs Blue Jays, that seems like it would be great.\n",
            "------------------------------\n",
            "Found team: Mariners\n",
            "In context: Do you have any other dates for games? I'm actually looking for things to do in Seattle, WA. Do you have anything with the Mariners Vs Tigers, I heard that's good.\n",
            "------------------------------\n",
            "Found team: Tigers\n",
            "In context: Do you have any other dates for games? I'm actually looking for things to do in Seattle, WA. Do you have anything with the Mariners Vs Tigers, I heard that's good.\n",
            "------------------------------\n",
            "Found team: Mystics\n",
            "In context: Someone recommended Mystics Vs Sun, they said it was quite good.\n",
            "------------------------------\n",
            "Found team: Sun\n",
            "In context: Someone recommended Mystics Vs Sun, they said it was quite good.\n",
            "------------------------------\n",
            "Found team: Red\n",
            "In context: I am thinking of Angels vs Red Sox.\n",
            "------------------------------\n",
            "Found team: Red Sox\n",
            "In context: I am thinking of Angels vs Red Sox.\n",
            "------------------------------\n",
            "Found team: Panthers\n",
            "In context: I want to see Panthers Vs Mountaineers.\n",
            "------------------------------\n",
            "Found team: Mountaineers\n",
            "In context: I want to see Panthers Vs Mountaineers.\n",
            "------------------------------\n",
            "Found team: Republic\n",
            "In context: I am looking for events in Sacramento, CA. I want to see Republic Vs Toros.\n",
            "------------------------------\n",
            "Found team: Toros\n",
            "In context: I am looking for events in Sacramento, CA. I want to see Republic Vs Toros.\n",
            "------------------------------\n",
            "Found team: Padres\n",
            "In context: I have got very nice comments about Phillies Vs Padres and I am looking for events on Philly.\n",
            "------------------------------\n",
            "Found team: Pirates\n",
            "In context: Any other dates with Phillies Vs Pirates in Philadelphia?\n",
            "------------------------------\n",
            "Found team: Bengals\n",
            "In context: I feel like going out to do something in Oakland. I've heard the Raiders Vs Bengals game should be good.\n",
            "------------------------------\n",
            "Found team: Diamondbacks\n",
            "In context: How about events on other dates? I also heard that Diamondbacks Vs Brewers is good, and am looking for events in Phoenix, Az.\n",
            "------------------------------\n",
            "Found team: Brewers\n",
            "In context: How about events on other dates? I also heard that Diamondbacks Vs Brewers is good, and am looking for events in Phoenix, Az.\n",
            "------------------------------\n"
          ]
        }
      ]
    },
    {
      "cell_type": "code",
      "source": [
        "filtered_teams = set()\n",
        "for team in sorted(unique_teams, key=len, reverse=True):\n",
        "    if not any(team in longer and team != longer for longer in filtered_teams):\n",
        "        filtered_teams.add(team)\n",
        "\n",
        "print(\"\\nFiltered team names:\\n\" + \"-\" * 30)\n",
        "for team in filtered_teams:\n",
        "    print(team)"
      ],
      "metadata": {
        "colab": {
          "base_uri": "https://localhost:8080/"
        },
        "id": "aQNFpuFIlz-4",
        "outputId": "0f4e1777-96bd-47fd-dcd4-a31b33e7c204"
      },
      "id": "aQNFpuFIlz-4",
      "execution_count": null,
      "outputs": [
        {
          "output_type": "stream",
          "name": "stdout",
          "text": [
            "\n",
            "Filtered team names:\n",
            "------------------------------\n",
            "Sun\n",
            "Whitecaps\n",
            "Ny Liberty\n",
            "Blue Jays\n",
            "Phillies\n",
            "Nationals\n",
            "Tigers\n",
            "Pirates\n",
            "Earthquakes\n",
            "Panthers\n",
            "Raiders\n",
            "White Sox\n",
            "Diamondbacks\n",
            "Padres\n",
            "Giants\n",
            "Bengals\n",
            "Cardinal\n",
            "Mariners\n",
            "Marlins\n",
            "Mystics\n",
            "Red Sox\n",
            "Yankees\n",
            "Bulls\n",
            "Brewers\n",
            "Toros\n",
            "Republic\n",
            "Dodgers\n",
            "Jaguars\n",
            "Angels\n",
            "Mountaineers\n",
            "Washington\n",
            "Yellow Jackets\n",
            "Ducks\n"
          ]
        }
      ]
    },
    {
      "cell_type": "markdown",
      "source": [
        "1.1 Виділити висловлювання користувача, що є підтвердженнями (наприклад, Awesome, sounds great!), за допомогою шаблонів."
      ],
      "metadata": {
        "id": "hs_jy3sbzC_Z"
      },
      "id": "hs_jy3sbzC_Z"
    },
    {
      "cell_type": "code",
      "source": [
        "act_types = set()\n",
        "\n",
        "for dialogue in data:\n",
        "    turns = dialogue.get(\"turns\", [])\n",
        "    for turn in turns:\n",
        "        actions = turn.get(\"frames\", [])\n",
        "        for frame in actions:\n",
        "            for action in frame.get(\"actions\", []):\n",
        "                act = action.get(\"act\")\n",
        "                if act:\n",
        "                    act_types.add(act)\n",
        "\n",
        "print(\"Unique Acts found in the dataset:\")\n",
        "print(\"-\" * 30)\n",
        "for act in sorted(act_types):\n",
        "    print(act)\n"
      ],
      "metadata": {
        "colab": {
          "base_uri": "https://localhost:8080/"
        },
        "id": "TlYjRW4foglO",
        "outputId": "0f245436-c582-4e81-8f1e-91ae5dcd4055"
      },
      "id": "TlYjRW4foglO",
      "execution_count": null,
      "outputs": [
        {
          "output_type": "stream",
          "name": "stdout",
          "text": [
            "Unique Acts found in the dataset:\n",
            "------------------------------\n",
            "AFFIRM\n",
            "AFFIRM_INTENT\n",
            "CONFIRM\n",
            "GOODBYE\n",
            "INFORM\n",
            "INFORM_COUNT\n",
            "INFORM_INTENT\n",
            "NEGATE\n",
            "NOTIFY_SUCCESS\n",
            "OFFER\n",
            "OFFER_INTENT\n",
            "REQUEST\n",
            "REQUEST_ALTS\n",
            "REQ_MORE\n",
            "SELECT\n",
            "THANK_YOU\n"
          ]
        }
      ]
    },
    {
      "cell_type": "code",
      "source": [
        "matcher = Matcher(nlp.vocab)\n",
        "\n",
        "# adjective + optional punctuation + exclamation\n",
        "exclamation_pattern = [\n",
        "    {\"POS\": \"ADJ\"},\n",
        "    {\"IS_PUNCT\": True, \"OP\": \"?\"},\n",
        "    {\"TEXT\": {\"REGEX\": \"!+\"}}\n",
        "]\n",
        "\n",
        "# \"sounds/seems/looks/feels\" + adjective\n",
        "expression_pattern = [\n",
        "    {\"LEMMA\": {\"IN\": [\"sound\", \"seem\", \"look\", \"feel\"]}},\n",
        "    {\"POS\": \"ADJ\"}\n",
        "]\n",
        "\n",
        "# yes-like\n",
        "simple_pattern = [\n",
        "    {\"LOWER\": {\"REGEX\": \"^(yes|yeah|yep|sure|absolutely|definitely|certainly)$\"}}\n",
        "]\n",
        "\n",
        "# \"that’s/this is\" + adjective\n",
        "thats_pattern = [\n",
        "    {\"LOWER\": {\"IN\": [\"that\", \"this\"]}},\n",
        "    {\"LOWER\": {\"IN\": [\"is\", \"'s\"]}, \"OP\": \"?\"},\n",
        "    {\"POS\": \"ADJ\"}\n",
        "]\n",
        "\n",
        "matcher.add(\"EXCLAMATION_AFFIRMATION\", [exclamation_pattern])\n",
        "matcher.add(\"EXPRESSION_AFFIRMATION\", [expression_pattern])\n",
        "matcher.add(\"SIMPLE_AFFIRMATION\", [simple_pattern])\n",
        "matcher.add(\"THATS_AFFIRMATION\", [thats_pattern])"
      ],
      "metadata": {
        "id": "iKQYWpC4YOpa"
      },
      "id": "iKQYWpC4YOpa",
      "execution_count": null,
      "outputs": []
    },
    {
      "cell_type": "code",
      "source": [
        "print(\"Detected affirmations:\\n\" + \"-\" * 40)\n",
        "affirmations_found = set()\n",
        "\n",
        "for text in utterances:\n",
        "    doc = nlp(text)\n",
        "    matches = matcher(doc)\n",
        "\n",
        "    for match_id, start, end in matches:\n",
        "        span = doc[start:end]\n",
        "\n",
        "        if any(tok.tag_ in [\"WRB\", \"WP\", \"WP$\", \"WDT\"] for tok in span.sent) or \"?\" in span.sent.text:\n",
        "          continue\n",
        "\n",
        "        pattern_name = nlp.vocab.strings[match_id]\n",
        "\n",
        "        sentence = next((sent.text for sent in doc.sents if span.start >= sent.start and span.end <= sent.end), text)\n",
        "\n",
        "        affirmation_key = (span.text, pattern_name)\n",
        "        if affirmation_key not in affirmations_found:\n",
        "            affirmations_found.add(affirmation_key)\n",
        "            print(f\"Affirmation: {span.text}\")\n",
        "            print(f\"Pattern: {pattern_name}\")\n",
        "            print(f\"Full utterance: {text}\")\n",
        "            print(\"-\" * 40)\n",
        "\n",
        "pattern_counts = {}\n",
        "for affirmation, pattern in affirmations_found:\n",
        "    pattern_counts[pattern] = pattern_counts.get(pattern, 0) + 1\n",
        "\n",
        "print(\"\\nSummary of affirmation patterns found:\")\n",
        "for pattern, count in pattern_counts.items():\n",
        "    print(f\"{pattern}: {count} matches\")"
      ],
      "metadata": {
        "colab": {
          "base_uri": "https://localhost:8080/"
        },
        "id": "g8ODRZMG-qIa",
        "outputId": "af4f228f-0254-4323-aa0c-ab2cfbba02b3"
      },
      "id": "g8ODRZMG-qIa",
      "execution_count": null,
      "outputs": [
        {
          "output_type": "stream",
          "name": "stdout",
          "text": [
            "Detected affirmations:\n",
            "----------------------------------------\n",
            "Affirmation: Sure\n",
            "Pattern: SIMPLE_AFFIRMATION\n",
            "Full utterance: Sure, I'll be happy to assist you. Do you prefer information on a particular even?\n",
            "----------------------------------------\n",
            "Affirmation: Yes\n",
            "Pattern: SIMPLE_AFFIRMATION\n",
            "Full utterance: Yes, I am reserving 3 tickets for you to attend the Giants Vs Dodgers game next Friday. The event will take place in San Francisco. Please confirm\n",
            "----------------------------------------\n",
            "Affirmation: sounds good\n",
            "Pattern: EXPRESSION_AFFIRMATION\n",
            "Full utterance: That sounds good.\n",
            "----------------------------------------\n",
            "Affirmation: sounds great\n",
            "Pattern: EXPRESSION_AFFIRMATION\n",
            "Full utterance: Awesome, sounds great!\n",
            "----------------------------------------\n",
            "Affirmation: great!\n",
            "Pattern: EXCLAMATION_AFFIRMATION\n",
            "Full utterance: Awesome, sounds great!\n",
            "----------------------------------------\n",
            "Affirmation: Sounds great\n",
            "Pattern: EXPRESSION_AFFIRMATION\n",
            "Full utterance: Sounds great! I want to buy those tickets, help me book two.\n",
            "----------------------------------------\n",
            "Affirmation: Certainly\n",
            "Pattern: SIMPLE_AFFIRMATION\n",
            "Full utterance: Certainly, I will help you book 2 tickets foo the Washington Vs Ny Liberty game next Wednesday at Washington D.C.\n",
            "----------------------------------------\n",
            "Affirmation: That's correct\n",
            "Pattern: THATS_AFFIRMATION\n",
            "Full utterance: Yes. That's correct.\n",
            "----------------------------------------\n",
            "Affirmation: That's great\n",
            "Pattern: THATS_AFFIRMATION\n",
            "Full utterance: That's great, thanks.\n",
            "----------------------------------------\n",
            "Affirmation: Sounds good\n",
            "Pattern: EXPRESSION_AFFIRMATION\n",
            "Full utterance: Sounds good to me.\n",
            "----------------------------------------\n",
            "Affirmation: that's good\n",
            "Pattern: THATS_AFFIRMATION\n",
            "Full utterance: Yes, that's good, the Cardinal Vs Ducks event is on tomorrow at Stanford Stadium.\n",
            "----------------------------------------\n",
            "Affirmation: that's great\n",
            "Pattern: THATS_AFFIRMATION\n",
            "Full utterance: Thank you, that's great.\n",
            "----------------------------------------\n",
            "Affirmation: That is correct\n",
            "Pattern: THATS_AFFIRMATION\n",
            "Full utterance: That is correct.\n",
            "----------------------------------------\n",
            "Affirmation: Yeah\n",
            "Pattern: SIMPLE_AFFIRMATION\n",
            "Full utterance: Yeah, can you get me 4 tickets.\n",
            "----------------------------------------\n",
            "Affirmation: that's right\n",
            "Pattern: THATS_AFFIRMATION\n",
            "Full utterance: Yeah, that's right.\n",
            "----------------------------------------\n",
            "Affirmation: That's fantastic\n",
            "Pattern: THATS_AFFIRMATION\n",
            "Full utterance: That's fantastic. I want four tickets to that event.\n",
            "----------------------------------------\n",
            "Affirmation: that is correct\n",
            "Pattern: THATS_AFFIRMATION\n",
            "Full utterance: Yes, that is correct.\n",
            "----------------------------------------\n",
            "Affirmation: This is nice\n",
            "Pattern: THATS_AFFIRMATION\n",
            "Full utterance: This is nice for me.\n",
            "----------------------------------------\n",
            "Affirmation: sure\n",
            "Pattern: SIMPLE_AFFIRMATION\n",
            "Full utterance: Yes for sure.\n",
            "----------------------------------------\n",
            "Affirmation: good!\n",
            "Pattern: EXCLAMATION_AFFIRMATION\n",
            "Full utterance: Hey, that sounds good!\n",
            "----------------------------------------\n",
            "Affirmation: sounds fine\n",
            "Pattern: EXPRESSION_AFFIRMATION\n",
            "Full utterance: That sounds fine.\n",
            "----------------------------------------\n",
            "Affirmation: Yep\n",
            "Pattern: SIMPLE_AFFIRMATION\n",
            "Full utterance: Yep, works for me.\n",
            "----------------------------------------\n",
            "\n",
            "Summary of affirmation patterns found:\n",
            "THATS_AFFIRMATION: 9 matches\n",
            "EXPRESSION_AFFIRMATION: 5 matches\n",
            "SIMPLE_AFFIRMATION: 6 matches\n",
            "EXCLAMATION_AFFIRMATION: 2 matches\n"
          ]
        }
      ]
    },
    {
      "cell_type": "markdown",
      "source": [
        "2. Застосувати синтаксичні залежності для визначення намірів."
      ],
      "metadata": {
        "id": "KmuVJ86B5cXG"
      },
      "id": "KmuVJ86B5cXG"
    },
    {
      "cell_type": "code",
      "source": [
        "import random"
      ],
      "metadata": {
        "id": "hxXp0TGmGMYK"
      },
      "id": "hxXp0TGmGMYK",
      "execution_count": null,
      "outputs": []
    },
    {
      "cell_type": "code",
      "source": [
        "utterances_with_intent = []\n",
        "\n",
        "for dialogue in data:\n",
        "    for turn in dialogue[\"turns\"]:\n",
        "        if turn[\"speaker\"] != \"USER\":\n",
        "            continue\n",
        "\n",
        "        for frame in turn.get(\"frames\", []):\n",
        "            for action in frame.get(\"actions\", []):\n",
        "                if action.get(\"slot\") == \"intent\":\n",
        "                    utterances_with_intent.append(turn[\"utterance\"])\n",
        "                    break"
      ],
      "metadata": {
        "id": "PBhX8dLAdMpx"
      },
      "id": "PBhX8dLAdMpx",
      "execution_count": null,
      "outputs": []
    },
    {
      "cell_type": "code",
      "source": [
        "def extract_intents(text):\n",
        "    doc = nlp(text)\n",
        "    intents = []\n",
        "\n",
        "    for token in doc:\n",
        "        if token.dep_ == \"dobj\":  # dobj = прямий додаток\n",
        "            verb = token.head.lemma_\n",
        "            obj = token.lemma_\n",
        "            intent = verb + obj.capitalize()\n",
        "            intents.append(intent)\n",
        "\n",
        "            for conjunct in token.conjuncts:\n",
        "                conj_intent = verb + conjunct.lemma_.capitalize()\n",
        "                intents.append(conj_intent)\n",
        "\n",
        "    return intents\n",
        "\n",
        "print(\"Detected intents:\\n\" + \"-\" * 30)\n",
        "for utterance in random.sample(utterances_with_intent, 10):\n",
        "    found_intents = extract_intents(utterance)\n",
        "    print(f\"Utterance: {utterance}\")\n",
        "    print(f\"Intents: {found_intents}\\n\")"
      ],
      "metadata": {
        "colab": {
          "base_uri": "https://localhost:8080/"
        },
        "id": "d7itue3_5gpC",
        "outputId": "affb90b6-dbe1-408c-b538-fb1bdc72fbef"
      },
      "id": "d7itue3_5gpC",
      "execution_count": null,
      "outputs": [
        {
          "output_type": "stream",
          "name": "stdout",
          "text": [
            "Detected intents:\n",
            "------------------------------\n",
            "Utterance: That sounds great. I want to buy three tickets.\n",
            "Intents: ['buyTicket']\n",
            "\n",
            "Utterance: I would like to search for the event White Sox Vs Angels in Chi-town.\n",
            "Intents: []\n",
            "\n",
            "Utterance: I want to find dates for events.\n",
            "Intents: ['findDate']\n",
            "\n",
            "Utterance: I'm interested in finding dates for events.\n",
            "Intents: ['findDate']\n",
            "\n",
            "Utterance: Okay, that would be fine. Would you arrange for me to purchase 3 tickets for that event, please?\n",
            "Intents: ['purchaseTicket']\n",
            "\n",
            "Utterance: I would like to find local event dates.\n",
            "Intents: ['findDate']\n",
            "\n",
            "Utterance: Okay, I'm looking for a list of dates for special events in San Francisco. Would you help pull up a list for me, please?\n",
            "Intents: ['pullList']\n",
            "\n",
            "Utterance: Can you help find dates for some upcoming events?\n",
            "Intents: ['findDate']\n",
            "\n",
            "Utterance: I need the dates for some events.\n",
            "Intents: ['needDate']\n",
            "\n",
            "Utterance: I'm looking for an event.\n",
            "Intents: []\n",
            "\n"
          ]
        }
      ]
    },
    {
      "cell_type": "code",
      "source": [
        "def extract_intents(text):\n",
        "    doc = nlp(text)\n",
        "    intents = []\n",
        "\n",
        "    # 'want to find', 'would like to book' (xcomp patterns)\n",
        "    for token in doc:\n",
        "        if token.dep_ == \"xcomp\" and token.pos_ == \"VERB\":  # xcomp = доповнення з дієсловом. \"I want to find...\" want — головне дієслово find — xcomp\n",
        "            verb = token.head.lemma_\n",
        "            next_verb = token.lemma_\n",
        "            intents.append(verb + next_verb.capitalize())\n",
        "\n",
        "    # direct object - \"buy tickets\"\n",
        "    for token in doc:\n",
        "        if token.dep_ == \"dobj\":\n",
        "            verb = token.head.lemma_\n",
        "            obj = token.lemma_\n",
        "            intents.append(verb + obj.capitalize())\n",
        "\n",
        "    # object of preposition - \"search for events\"\n",
        "    for token in doc:\n",
        "        if token.dep_ == \"pobj\" and token.head.dep_ == \"prep\":  # дієслово + прийменник + іменник: search → for → events\n",
        "            verb = token.head.head.lemma_\n",
        "            obj = token.lemma_\n",
        "            intents.append(verb + obj.capitalize())\n",
        "\n",
        "    return intents\n",
        "\n",
        "\n",
        "print(\"Detected intents:\\n\" + \"-\" * 30)\n",
        "for utterance in random.sample(utterances_with_intent, 10):\n",
        "    found_intents = extract_intents(utterance)\n",
        "    print(f\"Utterance: {utterance}\")\n",
        "    print(f\"Intents: {found_intents}\\n\")"
      ],
      "metadata": {
        "colab": {
          "base_uri": "https://localhost:8080/"
        },
        "id": "-IOZ48bthT9O",
        "outputId": "326731e0-315b-48c2-f8ea-142f416d3790"
      },
      "id": "-IOZ48bthT9O",
      "execution_count": null,
      "outputs": [
        {
          "output_type": "stream",
          "name": "stdout",
          "text": [
            "Detected intents:\n",
            "------------------------------\n",
            "Utterance: I'm looking for dates for events.\n",
            "Intents: ['lookDate', 'dateEvent']\n",
            "\n",
            "Utterance: Hi, I am trying to find some dates for events in the city.\n",
            "Intents: ['tryFind', 'findDate', 'dateEvent', 'eventCity']\n",
            "\n",
            "Utterance: That sounds great! Could I reserve 2 tickets to that event?\n",
            "Intents: ['reserveTicket', 'reserveEvent']\n",
            "\n",
            "Utterance: Can you help find dates for some upcoming events?\n",
            "Intents: ['helpFind', 'findDate', 'findEvent']\n",
            "\n",
            "Utterance: Could you help me find some dates for events?\n",
            "Intents: ['findDate', 'dateEvent']\n",
            "\n",
            "Utterance: I'm interested in finding dates for events.\n",
            "Intents: ['findDate', 'dateEvent']\n",
            "\n",
            "Utterance: Ok. I would like to buy tickets.\n",
            "Intents: ['likeBuy', 'buyTicket']\n",
            "\n",
            "Utterance: I need the dates for some events.\n",
            "Intents: ['needDate', 'dateEvent']\n",
            "\n",
            "Utterance: I'm looking for some popular events to go to. I hear that the Raiders Vs Jaguars is popular.\n",
            "Intents: ['lookEvent']\n",
            "\n",
            "Utterance: I would like to search for the event White Sox Vs Angels in Chi-town.\n",
            "Intents: ['likeSearch', 'searchEvent', 'AngelsTown']\n",
            "\n"
          ]
        }
      ]
    }
  ],
  "metadata": {
    "kernelspec": {
      "display_name": "Python 3",
      "language": "python",
      "name": "python3"
    },
    "language_info": {
      "codemirror_mode": {
        "name": "ipython",
        "version": 2
      },
      "file_extension": ".py",
      "mimetype": "text/x-python",
      "name": "python",
      "nbconvert_exporter": "python",
      "pygments_lexer": "ipython2",
      "version": "2.7.6"
    },
    "colab": {
      "provenance": []
    }
  },
  "nbformat": 4,
  "nbformat_minor": 5
}