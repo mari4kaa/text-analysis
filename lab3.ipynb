{
 "cells": [
  {
   "metadata": {},
   "cell_type": "markdown",
   "source": "# Лабораторна робота №3, Кривохата Марія, ІМ-21",
   "id": "8a77807f92f26ee"
  },
  {
   "metadata": {
    "ExecuteTime": {
     "end_time": "2025-04-12T19:23:36.134111Z",
     "start_time": "2025-04-12T19:23:24.872702Z"
    }
   },
   "cell_type": "code",
   "source": [
    "import pandas as pd\n",
    "import numpy as np\n",
    "import re\n",
    "import time\n",
    "from sklearn.model_selection import train_test_split\n",
    "from sklearn.feature_extraction.text import CountVectorizer\n",
    "from sklearn.metrics import classification_report\n",
    "from sklearn.linear_model import LogisticRegression\n",
    "from sklearn.ensemble import GradientBoostingClassifier\n",
    "from sklearn.pipeline import Pipeline\n",
    "from sklearn.metrics import accuracy_score\n",
    "from nltk.corpus import stopwords\n",
    "from nltk.tokenize import word_tokenize\n",
    "from gensim.models import FastText\n",
    "from sklearn.model_selection import GridSearchCV"
   ],
   "id": "7df9140457caed5e",
   "outputs": [],
   "execution_count": 1
  },
  {
   "metadata": {
    "collapsed": true,
    "ExecuteTime": {
     "end_time": "2025-03-31T20:19:27.650415Z",
     "start_time": "2025-03-31T20:19:27.612899Z"
    }
   },
   "cell_type": "code",
   "source": [
    "data_df = pd.read_csv(\"bbc-news-data2.csv\")\n",
    "data_df.head(10)"
   ],
   "id": "initial_id",
   "outputs": [
    {
     "data": {
      "text/plain": [
       "   Unnamed: 0       category  \\\n",
       "0        1497          sport   \n",
       "1        2046           tech   \n",
       "2         881  entertainment   \n",
       "3        1423          sport   \n",
       "4        1680          sport   \n",
       "5         996       politics   \n",
       "6        1432          sport   \n",
       "7         591  entertainment   \n",
       "8         408       business   \n",
       "9        1531          sport   \n",
       "\n",
       "                                             content  \n",
       "0   Bolton boss Sam Allardyce has signed Roma def...  \n",
       "1   Aid workers trying to house, feed and clothe ...  \n",
       "2   Clint Eastwood's Million Dollar Baby beat Mar...  \n",
       "3   Chelsea left-back Wayne Bridge could miss the...  \n",
       "4   Last Saturday, one newspaper proclaimed that ...  \n",
       "5   Welsh councils should set their taxes at \"rea...  \n",
       "6   Barcelona's pursuit of the Spanish title took...  \n",
       "7   The man who said he got Oscar-nominated movie...  \n",
       "8   UK-based bank Standard Chartered said it woul...  \n",
       "9   Hearts of Oak set up an all Ghanaian Confeder...  "
      ],
      "text/html": [
       "<div>\n",
       "<style scoped>\n",
       "    .dataframe tbody tr th:only-of-type {\n",
       "        vertical-align: middle;\n",
       "    }\n",
       "\n",
       "    .dataframe tbody tr th {\n",
       "        vertical-align: top;\n",
       "    }\n",
       "\n",
       "    .dataframe thead th {\n",
       "        text-align: right;\n",
       "    }\n",
       "</style>\n",
       "<table border=\"1\" class=\"dataframe\">\n",
       "  <thead>\n",
       "    <tr style=\"text-align: right;\">\n",
       "      <th></th>\n",
       "      <th>Unnamed: 0</th>\n",
       "      <th>category</th>\n",
       "      <th>content</th>\n",
       "    </tr>\n",
       "  </thead>\n",
       "  <tbody>\n",
       "    <tr>\n",
       "      <th>0</th>\n",
       "      <td>1497</td>\n",
       "      <td>sport</td>\n",
       "      <td>Bolton boss Sam Allardyce has signed Roma def...</td>\n",
       "    </tr>\n",
       "    <tr>\n",
       "      <th>1</th>\n",
       "      <td>2046</td>\n",
       "      <td>tech</td>\n",
       "      <td>Aid workers trying to house, feed and clothe ...</td>\n",
       "    </tr>\n",
       "    <tr>\n",
       "      <th>2</th>\n",
       "      <td>881</td>\n",
       "      <td>entertainment</td>\n",
       "      <td>Clint Eastwood's Million Dollar Baby beat Mar...</td>\n",
       "    </tr>\n",
       "    <tr>\n",
       "      <th>3</th>\n",
       "      <td>1423</td>\n",
       "      <td>sport</td>\n",
       "      <td>Chelsea left-back Wayne Bridge could miss the...</td>\n",
       "    </tr>\n",
       "    <tr>\n",
       "      <th>4</th>\n",
       "      <td>1680</td>\n",
       "      <td>sport</td>\n",
       "      <td>Last Saturday, one newspaper proclaimed that ...</td>\n",
       "    </tr>\n",
       "    <tr>\n",
       "      <th>5</th>\n",
       "      <td>996</td>\n",
       "      <td>politics</td>\n",
       "      <td>Welsh councils should set their taxes at \"rea...</td>\n",
       "    </tr>\n",
       "    <tr>\n",
       "      <th>6</th>\n",
       "      <td>1432</td>\n",
       "      <td>sport</td>\n",
       "      <td>Barcelona's pursuit of the Spanish title took...</td>\n",
       "    </tr>\n",
       "    <tr>\n",
       "      <th>7</th>\n",
       "      <td>591</td>\n",
       "      <td>entertainment</td>\n",
       "      <td>The man who said he got Oscar-nominated movie...</td>\n",
       "    </tr>\n",
       "    <tr>\n",
       "      <th>8</th>\n",
       "      <td>408</td>\n",
       "      <td>business</td>\n",
       "      <td>UK-based bank Standard Chartered said it woul...</td>\n",
       "    </tr>\n",
       "    <tr>\n",
       "      <th>9</th>\n",
       "      <td>1531</td>\n",
       "      <td>sport</td>\n",
       "      <td>Hearts of Oak set up an all Ghanaian Confeder...</td>\n",
       "    </tr>\n",
       "  </tbody>\n",
       "</table>\n",
       "</div>"
      ]
     },
     "execution_count": 81,
     "metadata": {},
     "output_type": "execute_result"
    }
   ],
   "execution_count": 81
  },
  {
   "metadata": {
    "ExecuteTime": {
     "end_time": "2025-03-31T20:19:27.760022Z",
     "start_time": "2025-03-31T20:19:27.746022Z"
    }
   },
   "cell_type": "code",
   "source": [
    "def clean_text(text):\n",
    "    text = text.lower()\n",
    "    text = re.sub(r'[^a-zA-Z\\s]', '', text)\n",
    "    text = re.sub(r'\\s+', ' ', text).strip()\n",
    "    return text"
   ],
   "id": "f852ff73fc46059",
   "outputs": [],
   "execution_count": 82
  },
  {
   "metadata": {
    "ExecuteTime": {
     "end_time": "2025-03-31T20:19:27.838549Z",
     "start_time": "2025-03-31T20:19:27.825026Z"
    }
   },
   "cell_type": "code",
   "source": [
    "def remove_stopwords(text):\n",
    "    stop_words = set(stopwords.words('english'))\n",
    "    tokens = word_tokenize(text)\n",
    "    filtered_tokens = [token for token in tokens if token not in stop_words]\n",
    "    return ' '.join(filtered_tokens)"
   ],
   "id": "13d6e73a89014164",
   "outputs": [],
   "execution_count": 83
  },
  {
   "metadata": {
    "ExecuteTime": {
     "end_time": "2025-03-31T20:19:29.260935Z",
     "start_time": "2025-03-31T20:19:27.909566Z"
    }
   },
   "cell_type": "code",
   "source": [
    "def preprocess_text(text):\n",
    "    text = clean_text(text)\n",
    "    text = remove_stopwords(text)\n",
    "    return text\n",
    "\n",
    "data_df['clean_text'] = data_df['content'].apply(preprocess_text)\n",
    "data_df.head(10)"
   ],
   "id": "e65e58a1b7e04493",
   "outputs": [
    {
     "data": {
      "text/plain": [
       "   Unnamed: 0       category  \\\n",
       "0        1497          sport   \n",
       "1        2046           tech   \n",
       "2         881  entertainment   \n",
       "3        1423          sport   \n",
       "4        1680          sport   \n",
       "5         996       politics   \n",
       "6        1432          sport   \n",
       "7         591  entertainment   \n",
       "8         408       business   \n",
       "9        1531          sport   \n",
       "\n",
       "                                             content  \\\n",
       "0   Bolton boss Sam Allardyce has signed Roma def...   \n",
       "1   Aid workers trying to house, feed and clothe ...   \n",
       "2   Clint Eastwood's Million Dollar Baby beat Mar...   \n",
       "3   Chelsea left-back Wayne Bridge could miss the...   \n",
       "4   Last Saturday, one newspaper proclaimed that ...   \n",
       "5   Welsh councils should set their taxes at \"rea...   \n",
       "6   Barcelona's pursuit of the Spanish title took...   \n",
       "7   The man who said he got Oscar-nominated movie...   \n",
       "8   UK-based bank Standard Chartered said it woul...   \n",
       "9   Hearts of Oak set up an all Ghanaian Confeder...   \n",
       "\n",
       "                                          clean_text  \n",
       "0  bolton boss sam allardyce signed roma defender...  \n",
       "1  aid workers trying house feed clothe millions ...  \n",
       "2  clint eastwoods million dollar baby beat marti...  \n",
       "3  chelsea leftback wayne bridge could miss rest ...  \n",
       "4  last saturday one newspaper proclaimed england...  \n",
       "5  welsh councils set taxes reasonable levels giv...  \n",
       "6  barcelonas pursuit spanish title took blow sun...  \n",
       "7  man said got oscarnominated movie aviator grou...  \n",
       "8  ukbased bank standard chartered said would spe...  \n",
       "9  hearts oak set ghanaian confederation cup fina...  "
      ],
      "text/html": [
       "<div>\n",
       "<style scoped>\n",
       "    .dataframe tbody tr th:only-of-type {\n",
       "        vertical-align: middle;\n",
       "    }\n",
       "\n",
       "    .dataframe tbody tr th {\n",
       "        vertical-align: top;\n",
       "    }\n",
       "\n",
       "    .dataframe thead th {\n",
       "        text-align: right;\n",
       "    }\n",
       "</style>\n",
       "<table border=\"1\" class=\"dataframe\">\n",
       "  <thead>\n",
       "    <tr style=\"text-align: right;\">\n",
       "      <th></th>\n",
       "      <th>Unnamed: 0</th>\n",
       "      <th>category</th>\n",
       "      <th>content</th>\n",
       "      <th>clean_text</th>\n",
       "    </tr>\n",
       "  </thead>\n",
       "  <tbody>\n",
       "    <tr>\n",
       "      <th>0</th>\n",
       "      <td>1497</td>\n",
       "      <td>sport</td>\n",
       "      <td>Bolton boss Sam Allardyce has signed Roma def...</td>\n",
       "      <td>bolton boss sam allardyce signed roma defender...</td>\n",
       "    </tr>\n",
       "    <tr>\n",
       "      <th>1</th>\n",
       "      <td>2046</td>\n",
       "      <td>tech</td>\n",
       "      <td>Aid workers trying to house, feed and clothe ...</td>\n",
       "      <td>aid workers trying house feed clothe millions ...</td>\n",
       "    </tr>\n",
       "    <tr>\n",
       "      <th>2</th>\n",
       "      <td>881</td>\n",
       "      <td>entertainment</td>\n",
       "      <td>Clint Eastwood's Million Dollar Baby beat Mar...</td>\n",
       "      <td>clint eastwoods million dollar baby beat marti...</td>\n",
       "    </tr>\n",
       "    <tr>\n",
       "      <th>3</th>\n",
       "      <td>1423</td>\n",
       "      <td>sport</td>\n",
       "      <td>Chelsea left-back Wayne Bridge could miss the...</td>\n",
       "      <td>chelsea leftback wayne bridge could miss rest ...</td>\n",
       "    </tr>\n",
       "    <tr>\n",
       "      <th>4</th>\n",
       "      <td>1680</td>\n",
       "      <td>sport</td>\n",
       "      <td>Last Saturday, one newspaper proclaimed that ...</td>\n",
       "      <td>last saturday one newspaper proclaimed england...</td>\n",
       "    </tr>\n",
       "    <tr>\n",
       "      <th>5</th>\n",
       "      <td>996</td>\n",
       "      <td>politics</td>\n",
       "      <td>Welsh councils should set their taxes at \"rea...</td>\n",
       "      <td>welsh councils set taxes reasonable levels giv...</td>\n",
       "    </tr>\n",
       "    <tr>\n",
       "      <th>6</th>\n",
       "      <td>1432</td>\n",
       "      <td>sport</td>\n",
       "      <td>Barcelona's pursuit of the Spanish title took...</td>\n",
       "      <td>barcelonas pursuit spanish title took blow sun...</td>\n",
       "    </tr>\n",
       "    <tr>\n",
       "      <th>7</th>\n",
       "      <td>591</td>\n",
       "      <td>entertainment</td>\n",
       "      <td>The man who said he got Oscar-nominated movie...</td>\n",
       "      <td>man said got oscarnominated movie aviator grou...</td>\n",
       "    </tr>\n",
       "    <tr>\n",
       "      <th>8</th>\n",
       "      <td>408</td>\n",
       "      <td>business</td>\n",
       "      <td>UK-based bank Standard Chartered said it woul...</td>\n",
       "      <td>ukbased bank standard chartered said would spe...</td>\n",
       "    </tr>\n",
       "    <tr>\n",
       "      <th>9</th>\n",
       "      <td>1531</td>\n",
       "      <td>sport</td>\n",
       "      <td>Hearts of Oak set up an all Ghanaian Confeder...</td>\n",
       "      <td>hearts oak set ghanaian confederation cup fina...</td>\n",
       "    </tr>\n",
       "  </tbody>\n",
       "</table>\n",
       "</div>"
      ]
     },
     "execution_count": 84,
     "metadata": {},
     "output_type": "execute_result"
    }
   ],
   "execution_count": 84
  },
  {
   "metadata": {
    "ExecuteTime": {
     "end_time": "2025-03-31T20:19:29.429352Z",
     "start_time": "2025-03-31T20:19:29.415344Z"
    }
   },
   "cell_type": "code",
   "source": [
    "print(\"Розподіл категорій:\")\n",
    "print(data_df['category'].value_counts())"
   ],
   "id": "b19d93a2fe669473",
   "outputs": [
    {
     "name": "stdout",
     "output_type": "stream",
     "text": [
      "Розподіл категорій:\n",
      "category\n",
      "sport            256\n",
      "business         255\n",
      "politics         209\n",
      "tech             200\n",
      "entertainment    193\n",
      "Name: count, dtype: int64\n"
     ]
    }
   ],
   "execution_count": 85
  },
  {
   "metadata": {
    "ExecuteTime": {
     "end_time": "2025-03-31T20:19:30.162241Z",
     "start_time": "2025-03-31T20:19:29.531878Z"
    }
   },
   "cell_type": "code",
   "source": [
    "# Токенізація для FastText\n",
    "data_df['tokenized_text'] = data_df['clean_text'].apply(word_tokenize)"
   ],
   "id": "b41dc2e11f286ee9",
   "outputs": [],
   "execution_count": 86
  },
  {
   "metadata": {
    "ExecuteTime": {
     "end_time": "2025-03-31T20:19:30.240232Z",
     "start_time": "2025-03-31T20:19:30.226233Z"
    }
   },
   "cell_type": "code",
   "source": [
    "# Поділ даних на навчальні та тестові набори\n",
    "X_train, X_test, y_train, y_test = train_test_split(\n",
    "    data_df['clean_text'],\n",
    "    data_df['category'],\n",
    "    test_size=0.3,\n",
    "    random_state=47,\n",
    "    stratify=data_df['category'] # для збереження пропорцій в тестовій та навчальній групі\n",
    ")"
   ],
   "id": "f330113e4d874b5e",
   "outputs": [],
   "execution_count": 87
  },
  {
   "metadata": {
    "ExecuteTime": {
     "end_time": "2025-03-31T20:19:30.817425Z",
     "start_time": "2025-03-31T20:19:30.290748Z"
    }
   },
   "cell_type": "code",
   "source": [
    "# Створення токенізованих корпусів для FastText\n",
    "tokenized_train = [word_tokenize(text) for text in X_train]\n",
    "tokenized_test = [word_tokenize(text) for text in X_test]\n",
    "\n",
    "results = {}"
   ],
   "id": "ab9c07799b9acf9d",
   "outputs": [],
   "execution_count": 88
  },
  {
   "metadata": {
    "ExecuteTime": {
     "end_time": "2025-03-31T20:19:30.880066Z",
     "start_time": "2025-03-31T20:19:30.866863Z"
    }
   },
   "cell_type": "code",
   "source": [
    "def evaluate_model(model, X_test, y_test, model_name):\n",
    "    y_pred = model.predict(X_test)\n",
    "    accuracy = accuracy_score(y_test, y_pred)\n",
    "    report = classification_report(y_test, y_pred, output_dict=True)\n",
    "    print(f\"Accuracy for {model_name}: {accuracy:.4f}\")\n",
    "    print(classification_report(y_test, y_pred))\n",
    "    return accuracy, report"
   ],
   "id": "a7b782e1233fa06d",
   "outputs": [],
   "execution_count": 89
  },
  {
   "metadata": {},
   "cell_type": "markdown",
   "source": "### 1. Сумка слів з Логістичною Регресією",
   "id": "50cdd86671f100a"
  },
  {
   "metadata": {
    "ExecuteTime": {
     "end_time": "2025-03-31T20:19:31.295930Z",
     "start_time": "2025-03-31T20:19:30.929188Z"
    }
   },
   "cell_type": "code",
   "source": [
    "start_time = time.time()\n",
    "bow_lr_pipeline = Pipeline([\n",
    "    ('vectorizer', CountVectorizer(min_df=2, max_df=0.95)),\n",
    "    ('classifier', LogisticRegression(max_iter=1000, random_state=47))\n",
    "])\n",
    "bow_lr_pipeline.fit(X_train, y_train)\n",
    "bow_lr_time = time.time() - start_time\n",
    "bow_lr_accuracy, bow_lr_report = evaluate_model(bow_lr_pipeline, X_test, y_test, \"BoW + LR\")\n",
    "results[\"BoW + LR\"] = {\"accuracy\": bow_lr_accuracy, \"time\": bow_lr_time}"
   ],
   "id": "3d6ccae3428aaff0",
   "outputs": [
    {
     "name": "stdout",
     "output_type": "stream",
     "text": [
      "Accuracy for BoW + LR: 0.9461\n",
      "               precision    recall  f1-score   support\n",
      "\n",
      "     business       0.91      0.91      0.91        76\n",
      "entertainment       0.96      0.95      0.96        58\n",
      "     politics       0.92      0.94      0.93        63\n",
      "        sport       0.97      1.00      0.99        77\n",
      "         tech       0.97      0.93      0.95        60\n",
      "\n",
      "     accuracy                           0.95       334\n",
      "    macro avg       0.95      0.95      0.95       334\n",
      " weighted avg       0.95      0.95      0.95       334\n",
      "\n"
     ]
    }
   ],
   "execution_count": 90
  },
  {
   "metadata": {},
   "cell_type": "markdown",
   "source": "### 2. Сумка слів з Градієнтним Бустингом",
   "id": "a577c6362a82ea47"
  },
  {
   "metadata": {
    "ExecuteTime": {
     "end_time": "2025-03-31T20:19:40.143839Z",
     "start_time": "2025-03-31T20:19:31.344511Z"
    }
   },
   "cell_type": "code",
   "source": [
    "start_time = time.time()\n",
    "bow_gb_pipeline = Pipeline([\n",
    "    ('vectorizer', CountVectorizer(min_df=2, max_df=0.95)),\n",
    "    ('classifier', GradientBoostingClassifier(n_estimators=100, random_state=47))\n",
    "])\n",
    "bow_gb_pipeline.fit(X_train, y_train)\n",
    "bow_gb_time = time.time() - start_time\n",
    "bow_gb_accuracy, bow_gb_report = evaluate_model(bow_gb_pipeline, X_test, y_test, \"BoW + GB\")\n",
    "results[\"BoW + GB\"] = {\"accuracy\": bow_gb_accuracy, \"time\": bow_gb_time}"
   ],
   "id": "4d7a9e4824784128",
   "outputs": [
    {
     "name": "stdout",
     "output_type": "stream",
     "text": [
      "Accuracy for BoW + GB: 0.9311\n",
      "               precision    recall  f1-score   support\n",
      "\n",
      "     business       0.89      0.93      0.91        76\n",
      "entertainment       0.93      0.90      0.91        58\n",
      "     politics       0.92      0.92      0.92        63\n",
      "        sport       0.95      0.99      0.97        77\n",
      "         tech       0.98      0.90      0.94        60\n",
      "\n",
      "     accuracy                           0.93       334\n",
      "    macro avg       0.93      0.93      0.93       334\n",
      " weighted avg       0.93      0.93      0.93       334\n",
      "\n"
     ]
    }
   ],
   "execution_count": 91
  },
  {
   "metadata": {},
   "cell_type": "markdown",
   "source": "### 3. FastText з Логістичною Регресією",
   "id": "e0fa1900972f067b"
  },
  {
   "metadata": {
    "ExecuteTime": {
     "end_time": "2025-03-31T20:19:49.330234Z",
     "start_time": "2025-03-31T20:19:40.193100Z"
    }
   },
   "cell_type": "code",
   "source": [
    "# Створення FastText моделі\n",
    "ft_model = FastText(\n",
    "    tokenized_train,\n",
    "    vector_size=100,\n",
    "    window=5,\n",
    "    min_count=1,\n",
    "    workers=4,\n",
    "    sg=1,\n",
    "    epochs=10\n",
    ")\n",
    "\n",
    "# Функція для векторизації документів з використанням FastText\n",
    "def document_vectorizer(corpus, model, num_features):\n",
    "    vocabulary = set(model.wv.index_to_key)\n",
    "\n",
    "    def average_word_vectors(words, model, vocabulary, num_features):\n",
    "        feature_vector = np.zeros((num_features,), dtype=\"float64\")\n",
    "        nwords = 0.\n",
    "        for word in words:\n",
    "            if word in vocabulary:\n",
    "                nwords = nwords + 1.\n",
    "                feature_vector = np.add(feature_vector, model.wv[word])\n",
    "        if nwords:\n",
    "            feature_vector = np.divide(feature_vector, nwords)\n",
    "        return feature_vector\n",
    "\n",
    "    features = [average_word_vectors(tokenized_sentence, model, vocabulary, num_features)\n",
    "                for tokenized_sentence in corpus]\n",
    "    return np.array(features)\n",
    "\n",
    "# Отримання векторів для навчального та тестового наборів\n",
    "ft_num_features = 100\n",
    "ft_train_features = document_vectorizer(tokenized_train, ft_model, ft_num_features)\n",
    "ft_test_features = document_vectorizer(tokenized_test, ft_model, ft_num_features)"
   ],
   "id": "bc72a604c2452841",
   "outputs": [],
   "execution_count": 92
  },
  {
   "metadata": {
    "ExecuteTime": {
     "end_time": "2025-03-31T20:19:49.439231Z",
     "start_time": "2025-03-31T20:19:49.378622Z"
    }
   },
   "cell_type": "code",
   "source": [
    "start_time = time.time()\n",
    "ft_lr = LogisticRegression(max_iter=1000, random_state=47)\n",
    "ft_lr.fit(ft_train_features, y_train)\n",
    "ft_lr_time = time.time() - start_time\n",
    "ft_lr_accuracy, ft_lr_report = evaluate_model(ft_lr, ft_test_features, y_test, \"FastText + LR\")\n",
    "results[\"FastText + LR\"] = {\"accuracy\": ft_lr_accuracy, \"time\": ft_lr_time}"
   ],
   "id": "2cb7d52499e1439f",
   "outputs": [
    {
     "name": "stdout",
     "output_type": "stream",
     "text": [
      "Accuracy for FastText + LR: 0.9341\n",
      "               precision    recall  f1-score   support\n",
      "\n",
      "     business       0.90      0.91      0.90        76\n",
      "entertainment       0.93      0.95      0.94        58\n",
      "     politics       0.91      0.94      0.92        63\n",
      "        sport       1.00      0.95      0.97        77\n",
      "         tech       0.93      0.93      0.93        60\n",
      "\n",
      "     accuracy                           0.93       334\n",
      "    macro avg       0.93      0.93      0.93       334\n",
      " weighted avg       0.94      0.93      0.93       334\n",
      "\n"
     ]
    }
   ],
   "execution_count": 93
  },
  {
   "metadata": {},
   "cell_type": "markdown",
   "source": "### 4. FastText з Градієнтним Бустингом",
   "id": "e0b784387d80166d"
  },
  {
   "metadata": {
    "ExecuteTime": {
     "end_time": "2025-03-31T20:20:07.929936Z",
     "start_time": "2025-03-31T20:19:49.488767Z"
    }
   },
   "cell_type": "code",
   "source": [
    "start_time = time.time()\n",
    "ft_gb = GradientBoostingClassifier(n_estimators=100, random_state=47)\n",
    "ft_gb.fit(ft_train_features, y_train)\n",
    "ft_gb_time = time.time() - start_time\n",
    "ft_gb_accuracy, ft_gb_report = evaluate_model(ft_gb, ft_test_features, y_test, \"FastText + GB\")\n",
    "results[\"FastText + GB\"] = {\"accuracy\": ft_gb_accuracy, \"time\": ft_gb_time}"
   ],
   "id": "a9b9c2e4eb057f98",
   "outputs": [
    {
     "name": "stdout",
     "output_type": "stream",
     "text": [
      "Accuracy for FastText + GB: 0.9371\n",
      "               precision    recall  f1-score   support\n",
      "\n",
      "     business       0.92      0.88      0.90        76\n",
      "entertainment       0.95      0.91      0.93        58\n",
      "     politics       0.90      0.97      0.93        63\n",
      "        sport       1.00      0.96      0.98        77\n",
      "         tech       0.92      0.97      0.94        60\n",
      "\n",
      "     accuracy                           0.94       334\n",
      "    macro avg       0.94      0.94      0.94       334\n",
      " weighted avg       0.94      0.94      0.94       334\n",
      "\n"
     ]
    }
   ],
   "execution_count": 94
  },
  {
   "metadata": {},
   "cell_type": "markdown",
   "source": "## Покращення із GridSearchCV",
   "id": "dc03c9542d3faca3"
  },
  {
   "metadata": {},
   "cell_type": "markdown",
   "source": "### 5. Cумка слів + Логістична Регресія + GridSearchCV",
   "id": "7cd2c02397b1438a"
  },
  {
   "metadata": {
    "ExecuteTime": {
     "end_time": "2025-03-31T20:20:13.089062Z",
     "start_time": "2025-03-31T20:20:07.994756Z"
    }
   },
   "cell_type": "code",
   "source": [
    "bow_lr_params = {\n",
    "    'vectorizer__ngram_range': [(1, 1), (1, 2)],\n",
    "    'vectorizer__max_df': [0.9, 0.95],\n",
    "    'classifier__C': [0.1, 1.0, 10.0]\n",
    "}\n",
    "\n",
    "start_time = time.time()\n",
    "bow_lr_grid = GridSearchCV(bow_lr_pipeline, bow_lr_params, cv=3, n_jobs=-1, verbose=1)\n",
    "bow_lr_grid.fit(X_train, y_train)\n",
    "bow_lr_grid_time = time.time() - start_time\n",
    "\n",
    "print(f\"Найкращі параметри для BoW + LR: {bow_lr_grid.best_params_}\")\n",
    "bow_lr_grid_accuracy, bow_lr_grid_report = evaluate_model(bow_lr_grid, X_test, y_test, \"BoW + LR (оптимізована)\")\n",
    "results[\"BoW + LR (оптимізована)\"] = {\"accuracy\": bow_lr_grid_accuracy, \"time\": bow_lr_grid_time}"
   ],
   "id": "33ac397296376367",
   "outputs": [
    {
     "name": "stdout",
     "output_type": "stream",
     "text": [
      "Fitting 3 folds for each of 12 candidates, totalling 36 fits\n",
      "Найкращі параметри для BoW + LR: {'classifier__C': 10.0, 'vectorizer__max_df': 0.9, 'vectorizer__ngram_range': (1, 2)}\n",
      "Accuracy for BoW + LR (оптимізована): 0.9521\n",
      "               precision    recall  f1-score   support\n",
      "\n",
      "     business       0.91      0.91      0.91        76\n",
      "entertainment       0.98      0.97      0.97        58\n",
      "     politics       0.92      0.95      0.94        63\n",
      "        sport       0.97      1.00      0.99        77\n",
      "         tech       0.98      0.93      0.96        60\n",
      "\n",
      "     accuracy                           0.95       334\n",
      "    macro avg       0.95      0.95      0.95       334\n",
      " weighted avg       0.95      0.95      0.95       334\n",
      "\n"
     ]
    }
   ],
   "execution_count": 95
  },
  {
   "metadata": {},
   "cell_type": "markdown",
   "source": "### 6. Cумка слів + Градієнтний Бустинг + GridSearchCV",
   "id": "f2124b29dfef8cf9"
  },
  {
   "metadata": {
    "ExecuteTime": {
     "end_time": "2025-03-31T20:21:39.977474Z",
     "start_time": "2025-03-31T20:20:13.156293Z"
    }
   },
   "cell_type": "code",
   "source": [
    "bow_gb_params = {\n",
    "    'vectorizer__ngram_range': [(1, 1), (1, 2)],\n",
    "    'classifier__n_estimators': [50, 100],\n",
    "    'classifier__learning_rate': [0.05, 0.1, 0.5]\n",
    "}\n",
    "\n",
    "start_time = time.time()\n",
    "bow_gb_grid = GridSearchCV(bow_gb_pipeline, bow_gb_params, cv=3, n_jobs=-1, verbose=1)\n",
    "bow_gb_grid.fit(X_train, y_train)\n",
    "bow_gb_grid_time = time.time() - start_time\n",
    "\n",
    "print(f\"Найкращі параметри для BoW + GB: {bow_gb_grid.best_params_}\")\n",
    "bow_gb_grid_accuracy, bow_gb_grid_report = evaluate_model(bow_gb_grid, X_test, y_test, \"BoW + GB (оптимізована)\")\n",
    "results[\"BoW + GB (оптимізована)\"] = {\"accuracy\": bow_gb_grid_accuracy, \"time\": bow_gb_grid_time}"
   ],
   "id": "76708d789328817d",
   "outputs": [
    {
     "name": "stdout",
     "output_type": "stream",
     "text": [
      "Fitting 3 folds for each of 12 candidates, totalling 36 fits\n",
      "Найкращі параметри для BoW + GB: {'classifier__learning_rate': 0.5, 'classifier__n_estimators': 100, 'vectorizer__ngram_range': (1, 1)}\n",
      "Accuracy for BoW + GB (оптимізована): 0.9371\n",
      "               precision    recall  f1-score   support\n",
      "\n",
      "     business       0.89      0.95      0.92        76\n",
      "entertainment       0.95      0.90      0.92        58\n",
      "     politics       0.93      0.90      0.92        63\n",
      "        sport       0.96      0.99      0.97        77\n",
      "         tech       0.97      0.93      0.95        60\n",
      "\n",
      "     accuracy                           0.94       334\n",
      "    macro avg       0.94      0.93      0.94       334\n",
      " weighted avg       0.94      0.94      0.94       334\n",
      "\n"
     ]
    }
   ],
   "execution_count": 96
  },
  {
   "metadata": {},
   "cell_type": "markdown",
   "source": "### 7. FastText + Логістична Регресія + GridSearchCV",
   "id": "994a7db5ee859446"
  },
  {
   "metadata": {
    "ExecuteTime": {
     "end_time": "2025-03-31T20:21:40.305905Z",
     "start_time": "2025-03-31T20:21:40.057347Z"
    }
   },
   "cell_type": "code",
   "source": [
    "ft_lr_params = {\n",
    "    'C': [0.1, 1.0, 10.0],\n",
    "    'solver': ['liblinear', 'lbfgs']\n",
    "}\n",
    "\n",
    "start_time = time.time()\n",
    "ft_lr_grid = GridSearchCV(LogisticRegression(max_iter=1000, random_state=47),\n",
    "                          ft_lr_params, cv=3, n_jobs=-1, verbose=1)\n",
    "ft_lr_grid.fit(ft_train_features, y_train)\n",
    "ft_lr_grid_time = time.time() - start_time\n",
    "\n",
    "print(f\"Найкращі параметри для FastText + LR: {ft_lr_grid.best_params_}\")\n",
    "ft_lr_grid_accuracy, ft_lr_grid_report = evaluate_model(ft_lr_grid, ft_test_features, y_test, \"FastText + LR (оптимізована)\")\n",
    "results[\"FastText + LR (оптимізована)\"] = {\"accuracy\": ft_lr_grid_accuracy, \"time\": ft_lr_grid_time}"
   ],
   "id": "fd94d5446dcfeb8d",
   "outputs": [
    {
     "name": "stdout",
     "output_type": "stream",
     "text": [
      "Fitting 3 folds for each of 6 candidates, totalling 18 fits\n",
      "Найкращі параметри для FastText + LR: {'C': 10.0, 'solver': 'liblinear'}\n",
      "Accuracy for FastText + LR (оптимізована): 0.9401\n",
      "               precision    recall  f1-score   support\n",
      "\n",
      "     business       0.94      0.89      0.92        76\n",
      "entertainment       0.93      0.93      0.93        58\n",
      "     politics       0.90      0.97      0.93        63\n",
      "        sport       1.00      0.97      0.99        77\n",
      "         tech       0.92      0.93      0.93        60\n",
      "\n",
      "     accuracy                           0.94       334\n",
      "    macro avg       0.94      0.94      0.94       334\n",
      " weighted avg       0.94      0.94      0.94       334\n",
      "\n"
     ]
    }
   ],
   "execution_count": 97
  },
  {
   "metadata": {},
   "cell_type": "markdown",
   "source": "### 8. FastText + Градієнтний Бустинг + GridSearchCV",
   "id": "695bbadea10ebe11"
  },
  {
   "metadata": {
    "ExecuteTime": {
     "end_time": "2025-03-31T20:22:37.651475Z",
     "start_time": "2025-03-31T20:21:40.368908Z"
    }
   },
   "cell_type": "code",
   "source": [
    "ft_gb_params = {\n",
    "    'n_estimators': [50, 100],\n",
    "    'learning_rate': [0.05, 0.1, 0.5],\n",
    "    'max_depth': [3, 5]\n",
    "}\n",
    "\n",
    "start_time = time.time()\n",
    "ft_gb_grid = GridSearchCV(GradientBoostingClassifier(random_state=47),\n",
    "                          ft_gb_params, cv=3, n_jobs=-1, verbose=1)\n",
    "ft_gb_grid.fit(ft_train_features, y_train)\n",
    "ft_gb_grid_time = time.time() - start_time\n",
    "\n",
    "print(f\"Найкращі параметри для FastText + GB: {ft_gb_grid.best_params_}\")\n",
    "ft_gb_grid_accuracy, ft_gb_grid_report = evaluate_model(ft_gb_grid, ft_test_features, y_test, \"FastText + GB (оптимізована)\")\n",
    "results[\"FastText + GB (оптимізована)\"] = {\"accuracy\": ft_gb_grid_accuracy, \"time\": ft_gb_grid_time}"
   ],
   "id": "376d90659e33f939",
   "outputs": [
    {
     "name": "stdout",
     "output_type": "stream",
     "text": [
      "Fitting 3 folds for each of 12 candidates, totalling 36 fits\n",
      "Найкращі параметри для FastText + GB: {'learning_rate': 0.5, 'max_depth': 3, 'n_estimators': 50}\n",
      "Accuracy for FastText + GB (оптимізована): 0.9401\n",
      "               precision    recall  f1-score   support\n",
      "\n",
      "     business       0.91      0.88      0.89        76\n",
      "entertainment       0.95      0.95      0.95        58\n",
      "     politics       0.91      0.95      0.93        63\n",
      "        sport       1.00      0.96      0.98        77\n",
      "         tech       0.94      0.97      0.95        60\n",
      "\n",
      "     accuracy                           0.94       334\n",
      "    macro avg       0.94      0.94      0.94       334\n",
      " weighted avg       0.94      0.94      0.94       334\n",
      "\n"
     ]
    }
   ],
   "execution_count": 98
  },
  {
   "metadata": {},
   "cell_type": "markdown",
   "source": "### Порівняння моделей",
   "id": "9e4f560ed73d027c"
  },
  {
   "metadata": {
    "ExecuteTime": {
     "end_time": "2025-03-31T20:22:37.730766Z",
     "start_time": "2025-03-31T20:22:37.717768Z"
    }
   },
   "cell_type": "code",
   "source": [
    "models = list(results.keys())\n",
    "accuracies = [results[model][\"accuracy\"] for model in models]\n",
    "times = [results[model][\"time\"] for model in models]\n",
    "\n",
    "comparison_df = pd.DataFrame({\n",
    "    'Модель': models,\n",
    "    'Точність': accuracies,\n",
    "    'Час навчання (сек)': times\n",
    "})\n",
    "print(\"\\nТаблиця порівняння моделей:\")\n",
    "print(comparison_df.sort_values(by='Точність', ascending=False))"
   ],
   "id": "27df0d17db5c4a41",
   "outputs": [
    {
     "name": "stdout",
     "output_type": "stream",
     "text": [
      "\n",
      "Таблиця порівняння моделей:\n",
      "                         Модель  Точність  Час навчання (сек)\n",
      "4       BoW + LR (оптимізована)  0.952096            4.902465\n",
      "0                      BoW + LR  0.946108            0.304563\n",
      "6  FastText + LR (оптимізована)  0.940120            0.211054\n",
      "7  FastText + GB (оптимізована)  0.940120           57.230155\n",
      "3                 FastText + GB  0.937126           18.407771\n",
      "5       BoW + GB (оптимізована)  0.937126           86.715112\n",
      "2                 FastText + LR  0.934132            0.028332\n",
      "1                      BoW + GB  0.931138            8.746239\n"
     ]
    }
   ],
   "execution_count": 99
  }
 ],
 "metadata": {
  "kernelspec": {
   "display_name": "Python 3",
   "language": "python",
   "name": "python3"
  },
  "language_info": {
   "codemirror_mode": {
    "name": "ipython",
    "version": 2
   },
   "file_extension": ".py",
   "mimetype": "text/x-python",
   "name": "python",
   "nbconvert_exporter": "python",
   "pygments_lexer": "ipython2",
   "version": "2.7.6"
  }
 },
 "nbformat": 4,
 "nbformat_minor": 5
}
