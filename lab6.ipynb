{
 "cells": [
  {
   "metadata": {},
   "cell_type": "markdown",
   "source": "# ЛР6 Кривохата Марія ІМ-21",
   "id": "8a77807f92f26ee"
  },
  {
   "metadata": {
    "jupyter": {
     "is_executing": true
    }
   },
   "cell_type": "code",
   "source": [
    "import spacy\n",
    "from spacy.training.example import Example\n",
    "import random\n",
    "import json"
   ],
   "id": "7df9140457caed5e",
   "outputs": [],
   "execution_count": null
  },
  {
   "metadata": {},
   "cell_type": "markdown",
   "source": [
    "1. Створити кілька своїх прикладів у форматі json за тематикою варіанту\n",
    "(англійською або українською мовою) для розпізнавання нового типу\n",
    "сутностей (обрати самостійно). Створити програму, що додає ці\n",
    "приклади до існуючої моделі spaCy, навчає модель. Продемонструвати\n",
    "роботу."
   ],
   "id": "2e44cfe2f556cba1"
  },
  {
   "metadata": {
    "ExecuteTime": {
     "end_time": "2025-04-27T17:42:44.814356Z",
     "start_time": "2025-04-27T17:42:44.807365Z"
    }
   },
   "cell_type": "code",
   "source": [
    "def create_training_example(text, singer_name):\n",
    "    start = text.find(singer_name)\n",
    "    if start == -1:\n",
    "        raise ValueError(f\"Singer name '{singer_name}' not found in text!\")\n",
    "    end = start + len(singer_name)\n",
    "    return (text, {\"entities\": [(start, end, \"SINGER\")]})"
   ],
   "id": "9bf4403a0b0d972f",
   "outputs": [],
   "execution_count": 19
  },
  {
   "metadata": {
    "ExecuteTime": {
     "end_time": "2025-04-27T17:42:46.938929Z",
     "start_time": "2025-04-27T17:42:46.921050Z"
    }
   },
   "cell_type": "code",
   "source": [
    "TRAINING_DATA = [\n",
    "    create_training_example(\"Adele will perform in London this July.\", \"Adele\"),\n",
    "    create_training_example(\"Next month, 21 Pilots are going to perform in Chicago.\", \"21 Pilots\"),\n",
    "    create_training_example(\"I bought tickets for the My Chemical Romance concert.\", \"My Chemical Romance\"),\n",
    "    create_training_example(\"At the festival, Queen were headlining the main stage.\", \"Queen\"),\n",
    "    create_training_example(\"Many people say that Nirvana's songs still inspire millions.\", \"Nirvana\"),\n",
    "    create_training_example(\"The crowd went wild when Paramore appeared on stage.\", \"Paramore\"),\n",
    "    create_training_example(\"Few bands had as much influence as The Beatles in the 60s.\", \"The Beatles\"),\n",
    "    create_training_example(\"The show will feature performances by Harry Styles and others.\", \"Harry Styles\"),\n",
    "    create_training_example(\"After his success on TikTok, Benson Boone released a full album.\", \"Benson Boone\"),\n",
    "    create_training_example(\"Emotional lyrics define Mitski, who has a huge fan base.\", \"Mitski\"),\n",
    "    create_training_example(\"Fans were amazed by Aurora's voice during her concert.\", \"Aurora\"),\n",
    "    create_training_example(\"A tribute to John Lennon will be held in Central Park.\", \"John Lennon\"),\n",
    "    create_training_example(\"Taylor Swift is coming to New York for a concert.\", \"Taylor Swift\"),\n",
    "]\n"
   ],
   "id": "738181f04e18ee8c",
   "outputs": [],
   "execution_count": 20
  },
  {
   "metadata": {
    "ExecuteTime": {
     "end_time": "2025-04-27T17:42:49.692851Z",
     "start_time": "2025-04-27T17:42:49.346901Z"
    }
   },
   "cell_type": "code",
   "source": [
    "nlp = spacy.load(\"en_core_web_sm\")\n",
    "\n",
    "if \"ner\" not in nlp.pipe_names:\n",
    "    ner = nlp.add_pipe(\"ner\")\n",
    "else:\n",
    "    ner = nlp.get_pipe(\"ner\")\n",
    "\n",
    "ner.add_label(\"SINGER\")"
   ],
   "id": "3aaf107aa7c0d08e",
   "outputs": [
    {
     "data": {
      "text/plain": [
       "1"
      ]
     },
     "execution_count": 21,
     "metadata": {},
     "output_type": "execute_result"
    }
   ],
   "execution_count": 21
  },
  {
   "metadata": {
    "ExecuteTime": {
     "end_time": "2025-04-27T17:42:51.295341Z",
     "start_time": "2025-04-27T17:42:51.275843Z"
    }
   },
   "cell_type": "code",
   "source": [
    "examples = []\n",
    "for text, annotations in TRAINING_DATA:\n",
    "    doc = nlp.make_doc(text)\n",
    "    example = Example.from_dict(doc, annotations)\n",
    "    examples.append(example)\n"
   ],
   "id": "fe6f9fc05cdb2168",
   "outputs": [],
   "execution_count": 22
  },
  {
   "metadata": {
    "ExecuteTime": {
     "end_time": "2025-04-27T17:44:52.883960Z",
     "start_time": "2025-04-27T17:44:44.717979Z"
    }
   },
   "cell_type": "code",
   "source": [
    "other_pipes = [pipe for pipe in nlp.pipe_names if pipe != \"ner\"]\n",
    "with nlp.disable_pipes(*other_pipes):\n",
    "    optimizer = nlp.create_optimizer()\n",
    "    for i in range(20):\n",
    "        random.shuffle(examples)\n",
    "        for example in examples:\n",
    "            nlp.update([example], sgd=optimizer)\n"
   ],
   "id": "fffb1a42c040a202",
   "outputs": [],
   "execution_count": 24
  },
  {
   "metadata": {
    "ExecuteTime": {
     "end_time": "2025-04-27T17:49:38.849927Z",
     "start_time": "2025-04-27T17:49:38.807881Z"
    }
   },
   "cell_type": "code",
   "source": [
    "test_texts = [\n",
    "    \"I can't wait to see Adele live!\",\n",
    "    \"Did you hear Taylor Swift is on tour?\",\n",
    "    \"Beyoncé will release a new album soon.\",\n",
    "    \"I can't believe how amazing 21 Pilots were last night at the stadium!\",\n",
    "    \"There was a huge crowd gathered to hear My Chemical Romance live.\",\n",
    "    \"We danced all night to the music of Queen under the stars.\",\n",
    "    \"Ed Sheeran sings beautifully.\"\n",
    "]\n",
    "\n",
    "for text in test_texts:\n",
    "    doc = nlp(text)\n",
    "    print(f\"\\nText: {text}\")\n",
    "    for ent in doc.ents:\n",
    "        print(f\"Entity: {ent.text}, Label: {ent.label_}\")"
   ],
   "id": "635c49142d840537",
   "outputs": [
    {
     "name": "stdout",
     "output_type": "stream",
     "text": [
      "\n",
      "Text: I can't wait to see Adele live!\n",
      "Entity: Adele, Label: SINGER\n",
      "\n",
      "Text: Did you hear Taylor Swift is on tour?\n",
      "Entity: Taylor Swift, Label: SINGER\n",
      "\n",
      "Text: Beyoncé will release a new album soon.\n",
      "Entity: Beyoncé, Label: SINGER\n",
      "\n",
      "Text: I can't believe how amazing 21 Pilots were last night at the stadium!\n",
      "Entity: 21 Pilots, Label: SINGER\n",
      "\n",
      "Text: There was a huge crowd gathered to hear My Chemical Romance live.\n",
      "Entity: My Chemical Romance, Label: SINGER\n",
      "\n",
      "Text: We danced all night to the music of Queen under the stars.\n",
      "Entity: Queen, Label: SINGER\n",
      "\n",
      "Text: Ed Sheeran sings beautifully.\n",
      "Entity: Ed Sheeran, Label: SINGER\n"
     ]
    }
   ],
   "execution_count": 27
  },
  {
   "metadata": {},
   "cell_type": "markdown",
   "source": [
    "2. Застосувати компонент TextCategorizer для визначення намірів. Дані для\n",
    "навчання за тематикою варіанту обрати самостійно або скористатись\n",
    "вказаним файлом (utterance містить висловлювання, intent - намір). Дані\n",
    "файли містять приклади діалогів користувачів з системою-помічником за\n",
    "певною тематикою, наприклад, замовлення квитків і т.д. Навчити\n",
    "компонент та продемонструвати роботу."
   ],
   "id": "4d4e65e601620664"
  },
  {
   "metadata": {
    "ExecuteTime": {
     "end_time": "2025-04-27T20:31:03.593998Z",
     "start_time": "2025-04-27T20:31:03.570833Z"
    }
   },
   "cell_type": "code",
   "source": [
    "with open(\"events.json\", \"r\", encoding=\"utf8\") as f:\n",
    "    data = json.load(f)"
   ],
   "id": "1d0fe77fb9e91946",
   "outputs": [],
   "execution_count": 125
  },
  {
   "metadata": {
    "ExecuteTime": {
     "end_time": "2025-04-27T20:31:05.194680Z",
     "start_time": "2025-04-27T20:31:05.181682Z"
    }
   },
   "cell_type": "code",
   "source": [
    "training_data = []\n",
    "\n",
    "for dialogue in data:\n",
    "    for turn in dialogue.get(\"turns\", []):\n",
    "        utterance = turn.get(\"utterance\")\n",
    "        frames = turn.get(\"frames\", [])\n",
    "        \n",
    "        for frame in frames:\n",
    "            intent = frame.get(\"state\", {}).get(\"active_intent\")\n",
    "            if utterance and intent and intent != \"NONE\":\n",
    "                training_data.append((utterance, intent))\n",
    "\n",
    "print(f\"Loaded {len(training_data)} examples\")"
   ],
   "id": "9e1d8374febc0213",
   "outputs": [
    {
     "name": "stdout",
     "output_type": "stream",
     "text": [
      "Loaded 225 examples\n"
     ]
    }
   ],
   "execution_count": 126
  },
  {
   "metadata": {
    "ExecuteTime": {
     "end_time": "2025-04-27T20:31:07.079361Z",
     "start_time": "2025-04-27T20:31:06.976457Z"
    }
   },
   "cell_type": "code",
   "source": [
    "from spacy.pipeline.textcat_multilabel import DEFAULT_MULTI_TEXTCAT_MODEL\n",
    "\n",
    "nlp = spacy.blank(\"en\")\n",
    "\n",
    "config = {\n",
    "    \"threshold\": 0.5,\n",
    "    \"model\": DEFAULT_MULTI_TEXTCAT_MODEL\n",
    "}\n",
    "textcat = nlp.add_pipe(\"textcat_multilabel\", config=config)"
   ],
   "id": "d9659f85247938b6",
   "outputs": [],
   "execution_count": 127
  },
  {
   "metadata": {
    "ExecuteTime": {
     "end_time": "2025-04-27T20:31:09.090788Z",
     "start_time": "2025-04-27T20:31:09.071741Z"
    }
   },
   "cell_type": "code",
   "source": [
    "all_intents = set(intent for _, intent in training_data)\n",
    "for intent in all_intents:\n",
    "    textcat.add_label(intent)"
   ],
   "id": "bdf40acbef91836f",
   "outputs": [],
   "execution_count": 128
  },
  {
   "metadata": {
    "ExecuteTime": {
     "end_time": "2025-04-27T20:31:10.568815Z",
     "start_time": "2025-04-27T20:31:10.561119Z"
    }
   },
   "cell_type": "code",
   "source": "print(all_intents)",
   "id": "a6407073e3fa576f",
   "outputs": [
    {
     "name": "stdout",
     "output_type": "stream",
     "text": [
      "{'GetEventDates', 'BuyEventTickets'}\n"
     ]
    }
   ],
   "execution_count": 129
  },
  {
   "metadata": {
    "ExecuteTime": {
     "end_time": "2025-04-27T20:31:12.361891Z",
     "start_time": "2025-04-27T20:31:12.338889Z"
    }
   },
   "cell_type": "code",
   "source": [
    "train_examples = []\n",
    "for text, label in training_data:\n",
    "    doc = nlp.make_doc(text)\n",
    "    example = Example.from_dict(doc, {\"cats\": {label: 1.0, **{other: 0.0 for other in all_intents if other != label}}})\n",
    "    train_examples.append(example)\n"
   ],
   "id": "edac55db8b3b9fa3",
   "outputs": [],
   "execution_count": 130
  },
  {
   "metadata": {
    "ExecuteTime": {
     "end_time": "2025-04-27T20:32:39.724411Z",
     "start_time": "2025-04-27T20:32:09.124936Z"
    }
   },
   "cell_type": "code",
   "source": [
    "random.shuffle(train_examples)\n",
    "\n",
    "optimizer = nlp.begin_training()\n",
    "\n",
    "epochs=50\n",
    "losses_over_time = []\n",
    "\n",
    "for epoch in range(epochs):\n",
    "    losses = {}\n",
    "    for batch in spacy.util.minibatch(train_examples, size=8):\n",
    "        nlp.update(batch, drop=0.2, losses=losses)\n",
    "    losses_over_time.append(losses['textcat_multilabel'])\n"
   ],
   "id": "481bdf818672a235",
   "outputs": [],
   "execution_count": 134
  },
  {
   "metadata": {
    "ExecuteTime": {
     "end_time": "2025-04-27T20:32:39.834400Z",
     "start_time": "2025-04-27T20:32:39.732263Z"
    }
   },
   "cell_type": "code",
   "source": [
    "import matplotlib.pyplot as plt\n",
    "\n",
    "plt.plot(range(epochs), losses_over_time)\n",
    "plt.xlabel('Epoch')\n",
    "plt.ylabel('Loss')\n",
    "plt.title('Loss during training')\n",
    "plt.show()"
   ],
   "id": "dd220419c6e3c2b1",
   "outputs": [
    {
     "data": {
      "text/plain": [
       "<Figure size 640x480 with 1 Axes>"
      ],
      "image/png": "[encoded data removed]"
     },
     "metadata": {},
     "output_type": "display_data"
    }
   ],
   "execution_count": 135
  },
  {
   "metadata": {
    "ExecuteTime": {
     "end_time": "2025-04-27T20:32:39.880239Z",
     "start_time": "2025-04-27T20:32:39.852301Z"
    }
   },
   "cell_type": "code",
   "source": [
    "test_texts = [\n",
    "    \"Are there other dates listed for the events?\",\n",
    "    \"When is the next football match in London?\",\n",
    "    \"Can you tell me the schedule for the next basketball game?\",\n",
    "    \"I'd like to know the dates for the upcoming tennis tournament in Paris.\",\n",
    "    \"When does the marathon take place this year?\",\n",
    "    \"What day is the next rugby match in New York?\",\n",
    "    \"When is the concert for Taylor Swift happening in Los Angeles?\",\n",
    "\n",
    "    \"Book me a ticket for the concert in New York.\",\n",
    "    \"I want to purchase tickets for the event in Paris.\",\n",
    "    \"Can you help me buy tickets for the theater play?\",\n",
    "    \"How can I buy tickets for the basketball match in Boston?\"\n",
    "]\n",
    "\n",
    "for text in test_texts:\n",
    "    doc = nlp(text)\n",
    "    scores = doc.cats\n",
    "    predicted_intent = max(scores, key=scores.get)\n",
    "    print(f\"Text: {text}\")\n",
    "    print(f\"Predicted intent: {predicted_intent} (score: {scores[predicted_intent]:.2f})\")\n",
    "    print(\"-\" * 50)\n"
   ],
   "id": "807ab25033b7beb8",
   "outputs": [
    {
     "name": "stdout",
     "output_type": "stream",
     "text": [
      "Text: Are there other dates listed for the events?\n",
      "Predicted intent: GetEventDates (score: 1.00)\n",
      "--------------------------------------------------\n",
      "Text: When is the next football match in London?\n",
      "Predicted intent: GetEventDates (score: 1.00)\n",
      "--------------------------------------------------\n",
      "Text: Can you tell me the schedule for the next basketball game?\n",
      "Predicted intent: GetEventDates (score: 0.65)\n",
      "--------------------------------------------------\n",
      "Text: I'd like to know the dates for the upcoming tennis tournament in Paris.\n",
      "Predicted intent: GetEventDates (score: 1.00)\n",
      "--------------------------------------------------\n",
      "Text: When does the marathon take place this year?\n",
      "Predicted intent: GetEventDates (score: 1.00)\n",
      "--------------------------------------------------\n",
      "Text: What day is the next rugby match in New York?\n",
      "Predicted intent: GetEventDates (score: 1.00)\n",
      "--------------------------------------------------\n",
      "Text: When is the concert for Taylor Swift happening in Los Angeles?\n",
      "Predicted intent: GetEventDates (score: 1.00)\n",
      "--------------------------------------------------\n",
      "Text: Book me a ticket for the concert in New York.\n",
      "Predicted intent: GetEventDates (score: 1.00)\n",
      "--------------------------------------------------\n",
      "Text: I want to purchase tickets for the event in Paris.\n",
      "Predicted intent: BuyEventTickets (score: 0.98)\n",
      "--------------------------------------------------\n",
      "Text: Can you help me buy tickets for the theater play?\n",
      "Predicted intent: BuyEventTickets (score: 1.00)\n",
      "--------------------------------------------------\n",
      "Text: How can I buy tickets for the basketball match in Boston?\n",
      "Predicted intent: BuyEventTickets (score: 0.82)\n",
      "--------------------------------------------------\n"
     ]
    }
   ],
   "execution_count": 136
  }
 ],
 "metadata": {
  "kernelspec": {
   "display_name": "Python 3",
   "language": "python",
   "name": "python3"
  },
  "language_info": {
   "codemirror_mode": {
    "name": "ipython",
    "version": 2
   },
   "file_extension": ".py",
   "mimetype": "text/x-python",
   "name": "python",
   "nbconvert_exporter": "python",
   "pygments_lexer": "ipython2",
   "version": "2.7.6"
  }
 },
 "nbformat": 4,
 "nbformat_minor": 5
}
