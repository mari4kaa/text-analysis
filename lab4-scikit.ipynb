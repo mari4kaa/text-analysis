{
 "cells": [
  {
   "metadata": {},
   "cell_type": "markdown",
   "source": "# Лабораторна робота №2, Кривохата Марія, ІМ-21",
   "id": "8a77807f92f26ee"
  },
  {
   "metadata": {
    "ExecuteTime": {
     "end_time": "2025-04-13T22:43:40.286048Z",
     "start_time": "2025-04-13T22:43:40.266425Z"
    }
   },
   "cell_type": "code",
   "source": [
    "import re\n",
    "import random\n",
    "import nltk\n",
    "import pandas as pd\n",
    "import numpy as np\n",
    "import string\n",
    "from gensim.models import Phrases\n",
    "from gensim.models.phrases import Phraser\n",
    "from sklearn.decomposition import TruncatedSVD\n",
    "from nltk.corpus import stopwords\n",
    "from nltk.corpus import gutenberg\n",
    "from nltk.collocations import BigramCollocationFinder\n",
    "from nltk.collocations import BigramAssocMeasures\n",
    "from gensim.models.coherencemodel import CoherenceModel\n",
    "from gensim.corpora import Dictionary\n",
    "from nltk.tokenize import word_tokenize"
   ],
   "id": "7df9140457caed5e",
   "outputs": [],
   "execution_count": 43
  },
  {
   "metadata": {
    "ExecuteTime": {
     "end_time": "2025-04-13T22:19:27.965124Z",
     "start_time": "2025-04-13T22:19:27.913856Z"
    }
   },
   "cell_type": "code",
   "source": [
    "data_df = pd.read_csv(\"news2.csv\")\n",
    "data_df.head(10)"
   ],
   "id": "1159e96f218fab68",
   "outputs": [
    {
     "data": {
      "text/plain": [
       "   Unnamed: 0                                               text  label\n",
       "0        9383  Three former JPMorgan employees who worked in ...     12\n",
       "1       11899  Wall Street looks set for a modestly softer op...     15\n",
       "2        6179  CHILE'S CENTRAL BANK SAYS EXPECTS MORE INTERES...      1\n",
       "3        5888  How is the Fed responding to inflation?  @Nasd...      1\n",
       "4       15391  $VFC - V.F. Corporation: A Potential Trade Opp...     18\n",
       "5        5364            Crude Oil back under 100 getting smoked      6\n",
       "6       16185  $USEA $NOVN $CNK - LGHL, CNK and NOVN are amon...     19\n",
       "7        7360  While BlackRock sought to blame 2022’s market ...      9\n",
       "8       11464  The EU stood by its previous guidance that san...     14\n",
       "9        6537  JUST IN: The Philippine central bank unexpecte...      1"
      ],
      "text/html": [
       "<div>\n",
       "<style scoped>\n",
       "    .dataframe tbody tr th:only-of-type {\n",
       "        vertical-align: middle;\n",
       "    }\n",
       "\n",
       "    .dataframe tbody tr th {\n",
       "        vertical-align: top;\n",
       "    }\n",
       "\n",
       "    .dataframe thead th {\n",
       "        text-align: right;\n",
       "    }\n",
       "</style>\n",
       "<table border=\"1\" class=\"dataframe\">\n",
       "  <thead>\n",
       "    <tr style=\"text-align: right;\">\n",
       "      <th></th>\n",
       "      <th>Unnamed: 0</th>\n",
       "      <th>text</th>\n",
       "      <th>label</th>\n",
       "    </tr>\n",
       "  </thead>\n",
       "  <tbody>\n",
       "    <tr>\n",
       "      <th>0</th>\n",
       "      <td>9383</td>\n",
       "      <td>Three former JPMorgan employees who worked in ...</td>\n",
       "      <td>12</td>\n",
       "    </tr>\n",
       "    <tr>\n",
       "      <th>1</th>\n",
       "      <td>11899</td>\n",
       "      <td>Wall Street looks set for a modestly softer op...</td>\n",
       "      <td>15</td>\n",
       "    </tr>\n",
       "    <tr>\n",
       "      <th>2</th>\n",
       "      <td>6179</td>\n",
       "      <td>CHILE'S CENTRAL BANK SAYS EXPECTS MORE INTERES...</td>\n",
       "      <td>1</td>\n",
       "    </tr>\n",
       "    <tr>\n",
       "      <th>3</th>\n",
       "      <td>5888</td>\n",
       "      <td>How is the Fed responding to inflation?  @Nasd...</td>\n",
       "      <td>1</td>\n",
       "    </tr>\n",
       "    <tr>\n",
       "      <th>4</th>\n",
       "      <td>15391</td>\n",
       "      <td>$VFC - V.F. Corporation: A Potential Trade Opp...</td>\n",
       "      <td>18</td>\n",
       "    </tr>\n",
       "    <tr>\n",
       "      <th>5</th>\n",
       "      <td>5364</td>\n",
       "      <td>Crude Oil back under 100 getting smoked</td>\n",
       "      <td>6</td>\n",
       "    </tr>\n",
       "    <tr>\n",
       "      <th>6</th>\n",
       "      <td>16185</td>\n",
       "      <td>$USEA $NOVN $CNK - LGHL, CNK and NOVN are amon...</td>\n",
       "      <td>19</td>\n",
       "    </tr>\n",
       "    <tr>\n",
       "      <th>7</th>\n",
       "      <td>7360</td>\n",
       "      <td>While BlackRock sought to blame 2022’s market ...</td>\n",
       "      <td>9</td>\n",
       "    </tr>\n",
       "    <tr>\n",
       "      <th>8</th>\n",
       "      <td>11464</td>\n",
       "      <td>The EU stood by its previous guidance that san...</td>\n",
       "      <td>14</td>\n",
       "    </tr>\n",
       "    <tr>\n",
       "      <th>9</th>\n",
       "      <td>6537</td>\n",
       "      <td>JUST IN: The Philippine central bank unexpecte...</td>\n",
       "      <td>1</td>\n",
       "    </tr>\n",
       "  </tbody>\n",
       "</table>\n",
       "</div>"
      ]
     },
     "execution_count": 2,
     "metadata": {},
     "output_type": "execute_result"
    }
   ],
   "execution_count": 2
  },
  {
   "metadata": {
    "ExecuteTime": {
     "end_time": "2025-04-13T22:19:28.400096Z",
     "start_time": "2025-04-13T22:19:28.153230Z"
    }
   },
   "cell_type": "code",
   "source": [
    "nltk.download('punkt')\n",
    "nltk.download('stopwords')\n",
    "\n",
    "stop_words = set(stopwords.words('english'))"
   ],
   "id": "3319c07e31cc054f",
   "outputs": [
    {
     "name": "stderr",
     "output_type": "stream",
     "text": [
      "[nltk_data] Downloading package punkt to\n",
      "[nltk_data]     C:\\Users\\mkriv\\AppData\\Roaming\\nltk_data...\n",
      "[nltk_data]   Package punkt is already up-to-date!\n",
      "[nltk_data] Downloading package stopwords to\n",
      "[nltk_data]     C:\\Users\\mkriv\\AppData\\Roaming\\nltk_data...\n",
      "[nltk_data]   Package stopwords is already up-to-date!\n"
     ]
    }
   ],
   "execution_count": 3
  },
  {
   "metadata": {
    "ExecuteTime": {
     "end_time": "2025-04-13T22:19:28.462113Z",
     "start_time": "2025-04-13T22:19:28.449584Z"
    }
   },
   "cell_type": "code",
   "source": [
    "def clean_text(text):\n",
    "    text = text.lower()\n",
    "    text = re.sub(r'[^a-zA-Z\\s]', '', text)\n",
    "    text = re.sub(r'\\s+', ' ', text).strip()\n",
    "    return text"
   ],
   "id": "b5dce3d5d7ff08a9",
   "outputs": [],
   "execution_count": 4
  },
  {
   "metadata": {
    "ExecuteTime": {
     "end_time": "2025-04-13T23:27:24.636455Z",
     "start_time": "2025-04-13T23:27:24.620685Z"
    }
   },
   "cell_type": "code",
   "source": [
    "def remove_stopwords(text):\n",
    "    stop_words = set(stopwords.words('english'))\n",
    "    custom_stopwords = {'new'}\n",
    "    stop_words.update(custom_stopwords)\n",
    "    tokens = word_tokenize(text)\n",
    "    filtered_tokens = [token for token in tokens if token not in stop_words]\n",
    "    return ' '.join(filtered_tokens)"
   ],
   "id": "9c103f4a7fc47e07",
   "outputs": [],
   "execution_count": 122
  },
  {
   "metadata": {
    "ExecuteTime": {
     "end_time": "2025-04-13T23:27:28.847599Z",
     "start_time": "2025-04-13T23:27:27.248864Z"
    }
   },
   "cell_type": "code",
   "source": [
    "def preprocess_text(text):\n",
    "    text = clean_text(text)\n",
    "    text = remove_stopwords(text)\n",
    "    return text\n",
    "\n",
    "data_df['clean_text'] = data_df['text'].apply(preprocess_text)\n",
    "tokenized_docs = [doc.split() for doc in data_df['clean_text']]"
   ],
   "id": "39d30a7424efcb6e",
   "outputs": [],
   "execution_count": 123
  },
  {
   "metadata": {
    "ExecuteTime": {
     "end_time": "2025-04-13T23:36:15.087964Z",
     "start_time": "2025-04-13T23:36:15.074447Z"
    }
   },
   "cell_type": "code",
   "source": "data_df.head(10)",
   "id": "3fd9655494c6e40e",
   "outputs": [
    {
     "data": {
      "text/plain": [
       "   Unnamed: 0                                               text  label  \\\n",
       "0        9383  Three former JPMorgan employees who worked in ...     12   \n",
       "1       11899  Wall Street looks set for a modestly softer op...     15   \n",
       "2        6179  CHILE'S CENTRAL BANK SAYS EXPECTS MORE INTERES...      1   \n",
       "3        5888  How is the Fed responding to inflation?  @Nasd...      1   \n",
       "4       15391  $VFC - V.F. Corporation: A Potential Trade Opp...     18   \n",
       "5        5364            Crude Oil back under 100 getting smoked      6   \n",
       "6       16185  $USEA $NOVN $CNK - LGHL, CNK and NOVN are amon...     19   \n",
       "7        7360  While BlackRock sought to blame 2022’s market ...      9   \n",
       "8       11464  The EU stood by its previous guidance that san...     14   \n",
       "9        6537  JUST IN: The Philippine central bank unexpecte...      1   \n",
       "\n",
       "                                          clean_text  \n",
       "0  three former jpmorgan employees worked banks p...  \n",
       "1  wall street looks set modestly softer open tra...  \n",
       "2  chiles central bank says expects interest rate...  \n",
       "3  fed responding inflation nasdaq chief economis...  \n",
       "4  vfc vf corporation potential trade opportunity...  \n",
       "5                      crude oil back getting smoked  \n",
       "6  usea novn cnk lghl cnk novn among ore market g...  \n",
       "7  blackrock sought blame market carnage theres t...  \n",
       "8  eu stood previous guidance sanctioned goods tr...  \n",
       "9  philippine central bank unexpectedly raises ra...  "
      ],
      "text/html": [
       "<div>\n",
       "<style scoped>\n",
       "    .dataframe tbody tr th:only-of-type {\n",
       "        vertical-align: middle;\n",
       "    }\n",
       "\n",
       "    .dataframe tbody tr th {\n",
       "        vertical-align: top;\n",
       "    }\n",
       "\n",
       "    .dataframe thead th {\n",
       "        text-align: right;\n",
       "    }\n",
       "</style>\n",
       "<table border=\"1\" class=\"dataframe\">\n",
       "  <thead>\n",
       "    <tr style=\"text-align: right;\">\n",
       "      <th></th>\n",
       "      <th>Unnamed: 0</th>\n",
       "      <th>text</th>\n",
       "      <th>label</th>\n",
       "      <th>clean_text</th>\n",
       "    </tr>\n",
       "  </thead>\n",
       "  <tbody>\n",
       "    <tr>\n",
       "      <th>0</th>\n",
       "      <td>9383</td>\n",
       "      <td>Three former JPMorgan employees who worked in ...</td>\n",
       "      <td>12</td>\n",
       "      <td>three former jpmorgan employees worked banks p...</td>\n",
       "    </tr>\n",
       "    <tr>\n",
       "      <th>1</th>\n",
       "      <td>11899</td>\n",
       "      <td>Wall Street looks set for a modestly softer op...</td>\n",
       "      <td>15</td>\n",
       "      <td>wall street looks set modestly softer open tra...</td>\n",
       "    </tr>\n",
       "    <tr>\n",
       "      <th>2</th>\n",
       "      <td>6179</td>\n",
       "      <td>CHILE'S CENTRAL BANK SAYS EXPECTS MORE INTERES...</td>\n",
       "      <td>1</td>\n",
       "      <td>chiles central bank says expects interest rate...</td>\n",
       "    </tr>\n",
       "    <tr>\n",
       "      <th>3</th>\n",
       "      <td>5888</td>\n",
       "      <td>How is the Fed responding to inflation?  @Nasd...</td>\n",
       "      <td>1</td>\n",
       "      <td>fed responding inflation nasdaq chief economis...</td>\n",
       "    </tr>\n",
       "    <tr>\n",
       "      <th>4</th>\n",
       "      <td>15391</td>\n",
       "      <td>$VFC - V.F. Corporation: A Potential Trade Opp...</td>\n",
       "      <td>18</td>\n",
       "      <td>vfc vf corporation potential trade opportunity...</td>\n",
       "    </tr>\n",
       "    <tr>\n",
       "      <th>5</th>\n",
       "      <td>5364</td>\n",
       "      <td>Crude Oil back under 100 getting smoked</td>\n",
       "      <td>6</td>\n",
       "      <td>crude oil back getting smoked</td>\n",
       "    </tr>\n",
       "    <tr>\n",
       "      <th>6</th>\n",
       "      <td>16185</td>\n",
       "      <td>$USEA $NOVN $CNK - LGHL, CNK and NOVN are amon...</td>\n",
       "      <td>19</td>\n",
       "      <td>usea novn cnk lghl cnk novn among ore market g...</td>\n",
       "    </tr>\n",
       "    <tr>\n",
       "      <th>7</th>\n",
       "      <td>7360</td>\n",
       "      <td>While BlackRock sought to blame 2022’s market ...</td>\n",
       "      <td>9</td>\n",
       "      <td>blackrock sought blame market carnage theres t...</td>\n",
       "    </tr>\n",
       "    <tr>\n",
       "      <th>8</th>\n",
       "      <td>11464</td>\n",
       "      <td>The EU stood by its previous guidance that san...</td>\n",
       "      <td>14</td>\n",
       "      <td>eu stood previous guidance sanctioned goods tr...</td>\n",
       "    </tr>\n",
       "    <tr>\n",
       "      <th>9</th>\n",
       "      <td>6537</td>\n",
       "      <td>JUST IN: The Philippine central bank unexpecte...</td>\n",
       "      <td>1</td>\n",
       "      <td>philippine central bank unexpectedly raises ra...</td>\n",
       "    </tr>\n",
       "  </tbody>\n",
       "</table>\n",
       "</div>"
      ]
     },
     "execution_count": 132,
     "metadata": {},
     "output_type": "execute_result"
    }
   ],
   "execution_count": 132
  },
  {
   "metadata": {
    "ExecuteTime": {
     "end_time": "2025-04-13T23:27:31.592245Z",
     "start_time": "2025-04-13T23:27:31.572618Z"
    }
   },
   "cell_type": "code",
   "source": [
    "def filter_short_tokens(tokens, min_len=3):\n",
    "    return [token for token in tokens if len(token) >= min_len]\n",
    "\n",
    "tokenized_docs = [filter_short_tokens(doc) for doc in tokenized_docs]"
   ],
   "id": "af50ea5c1b8fb3c4",
   "outputs": [],
   "execution_count": 124
  },
  {
   "metadata": {
    "ExecuteTime": {
     "end_time": "2025-04-13T23:27:33.908783Z",
     "start_time": "2025-04-13T23:27:33.723328Z"
    }
   },
   "cell_type": "code",
   "source": [
    "bigram = Phrases(tokenized_docs, min_count=20, threshold=20, delimiter='_')\n",
    "bigram_model = Phraser(bigram)\n",
    "bigrams_applied = [' '.join(bigram_model[doc]) for doc in tokenized_docs]"
   ],
   "id": "663dd535656818a1",
   "outputs": [],
   "execution_count": 125
  },
  {
   "metadata": {},
   "cell_type": "markdown",
   "source": "### 1.Застосувати приховане семантичне індексування бібліотеки scikit-learn для моделювання тем.",
   "id": "2d28e09b92fa953d"
  },
  {
   "metadata": {
    "ExecuteTime": {
     "end_time": "2025-04-13T23:27:36.699956Z",
     "start_time": "2025-04-13T23:27:36.616935Z"
    }
   },
   "cell_type": "code",
   "source": [
    "from sklearn.feature_extraction.text import CountVectorizer\n",
    "\n",
    "vectorizer = CountVectorizer(max_df=0.6, min_df=20)\n",
    "bow_matrix = vectorizer.fit_transform(bigrams_applied)\n",
    "\n",
    "n_topics = 3\n",
    "lsi_model = TruncatedSVD(n_components=n_topics, n_iter=10, random_state=42)\n",
    "doc_topic_matrix = lsi_model.fit_transform(bow_matrix)"
   ],
   "id": "fd738badb6460772",
   "outputs": [],
   "execution_count": 126
  },
  {
   "metadata": {
    "ExecuteTime": {
     "end_time": "2025-04-13T23:27:47.614484Z",
     "start_time": "2025-04-13T23:27:39.665124Z"
    }
   },
   "cell_type": "code",
   "source": [
    "dictionary = Dictionary(tokenized_docs)\n",
    "\n",
    "terms = vectorizer.get_feature_names_out()\n",
    "topics = []\n",
    "\n",
    "for topic_weights in lsi_model.components_:\n",
    "    top_indices = topic_weights.argsort()[::-1][:10]\n",
    "    top_words = [terms[i] for i in top_indices]\n",
    "    topics.append(top_words)\n",
    "\n",
    "coherence_model_cv = CoherenceModel( topics=topics, texts=tokenized_docs, dictionary=dictionary, coherence='c_v')\n",
    "coherence_model_umass = CoherenceModel( topics=topics, texts=tokenized_docs, dictionary=dictionary, coherence='u_mass')\n",
    "\n",
    "print(coherence_model_cv.get_coherence(), coherence_model_umass.get_coherence())"
   ],
   "id": "81f03e07d51dc3e3",
   "outputs": [
    {
     "name": "stdout",
     "output_type": "stream",
     "text": [
      "0.653945115939642 -3.391984988178521\n"
     ]
    }
   ],
   "execution_count": 127
  },
  {
   "metadata": {
    "ExecuteTime": {
     "end_time": "2025-04-17T06:03:30.683664Z",
     "start_time": "2025-04-17T06:03:30.616237Z"
    }
   },
   "cell_type": "code",
   "source": [
    "feature_names = vectorizer.get_feature_names_out()\n",
    "n_top_words = 10\n",
    "for topic_idx, topic_weights in enumerate(lsi_model.components_):\n",
    "    top_indices = np.argsort(np.abs(topic_weights))[::-1][:10]\n",
    "    top_terms = [terms[i] for i in top_indices]\n",
    "    weights = [topic_weights[i] for i in top_indices]\n",
    "    print(f\"Topic #{topic_idx + 1}:\")\n",
    "    print(\" + \".join(f\"{weight:.3f}*\\\"{term}\\\"\" for term, weight in zip(top_terms, weights)))"
   ],
   "id": "9716a160d4b44e1c",
   "outputs": [
    {
     "name": "stdout",
     "output_type": "stream",
     "text": [
      "Topic #1:\n",
      "0.355*\"strategy\" + 0.345*\"economy\" + 0.320*\"markets\" + 0.312*\"finance\" + 0.291*\"trial\" + 0.280*\"business\" + 0.271*\"investing\" + 0.262*\"strategic\" + 0.138*\"inflation\" + 0.116*\"reuters\"\n",
      "Topic #2:\n",
      "0.415*\"news\" + 0.348*\"inflation\" + 0.234*\"yet\" + 0.196*\"second_quarter\" + -0.160*\"investing\" + -0.160*\"finance\" + -0.156*\"strategic\" + -0.145*\"trial\" + -0.144*\"strategy\" + 0.144*\"prime_minister\"\n",
      "Topic #3:\n",
      "0.792*\"news\" + -0.340*\"inflation\" + 0.206*\"announces\" + -0.128*\"prime_minister\" + -0.113*\"june\" + -0.107*\"second_quarter\" + -0.107*\"fed\" + -0.104*\"yet\" + 0.098*\"secretary\" + -0.074*\"open\"\n"
     ]
    }
   ],
   "execution_count": 136
  },
  {
   "metadata": {},
   "cell_type": "markdown",
   "source": "### Вивести документи, що описують кожну з тем",
   "id": "4530790b9386a9ce"
  },
  {
   "metadata": {
    "ExecuteTime": {
     "end_time": "2025-04-13T23:27:57.512945Z",
     "start_time": "2025-04-13T23:27:57.480971Z"
    }
   },
   "cell_type": "code",
   "source": [
    "# Create dataframe\n",
    "document_topics_df = pd.DataFrame(doc_topic_matrix, columns=[f\"T{i+1}\" for i in range(n_topics)])\n",
    "document_topics_df.head(10)"
   ],
   "id": "712257f444ceb1b7",
   "outputs": [
    {
     "data": {
      "text/plain": [
       "         T1        T2        T3\n",
       "0  0.393741  0.074718 -0.015287\n",
       "1  0.131041  0.219543 -0.152422\n",
       "2  0.257539  0.653417 -0.544072\n",
       "3  0.406557  1.018732 -0.944707\n",
       "4  0.998898 -0.385121  0.031455\n",
       "5  0.104767  0.182960 -0.115881\n",
       "6  0.089712  0.081335 -0.045964\n",
       "7  0.178763  0.168972 -0.062208\n",
       "8  0.062374  0.102356 -0.055187\n",
       "9  0.097989  0.214122 -0.133571"
      ],
      "text/html": [
       "<div>\n",
       "<style scoped>\n",
       "    .dataframe tbody tr th:only-of-type {\n",
       "        vertical-align: middle;\n",
       "    }\n",
       "\n",
       "    .dataframe tbody tr th {\n",
       "        vertical-align: top;\n",
       "    }\n",
       "\n",
       "    .dataframe thead th {\n",
       "        text-align: right;\n",
       "    }\n",
       "</style>\n",
       "<table border=\"1\" class=\"dataframe\">\n",
       "  <thead>\n",
       "    <tr style=\"text-align: right;\">\n",
       "      <th></th>\n",
       "      <th>T1</th>\n",
       "      <th>T2</th>\n",
       "      <th>T3</th>\n",
       "    </tr>\n",
       "  </thead>\n",
       "  <tbody>\n",
       "    <tr>\n",
       "      <th>0</th>\n",
       "      <td>0.393741</td>\n",
       "      <td>0.074718</td>\n",
       "      <td>-0.015287</td>\n",
       "    </tr>\n",
       "    <tr>\n",
       "      <th>1</th>\n",
       "      <td>0.131041</td>\n",
       "      <td>0.219543</td>\n",
       "      <td>-0.152422</td>\n",
       "    </tr>\n",
       "    <tr>\n",
       "      <th>2</th>\n",
       "      <td>0.257539</td>\n",
       "      <td>0.653417</td>\n",
       "      <td>-0.544072</td>\n",
       "    </tr>\n",
       "    <tr>\n",
       "      <th>3</th>\n",
       "      <td>0.406557</td>\n",
       "      <td>1.018732</td>\n",
       "      <td>-0.944707</td>\n",
       "    </tr>\n",
       "    <tr>\n",
       "      <th>4</th>\n",
       "      <td>0.998898</td>\n",
       "      <td>-0.385121</td>\n",
       "      <td>0.031455</td>\n",
       "    </tr>\n",
       "    <tr>\n",
       "      <th>5</th>\n",
       "      <td>0.104767</td>\n",
       "      <td>0.182960</td>\n",
       "      <td>-0.115881</td>\n",
       "    </tr>\n",
       "    <tr>\n",
       "      <th>6</th>\n",
       "      <td>0.089712</td>\n",
       "      <td>0.081335</td>\n",
       "      <td>-0.045964</td>\n",
       "    </tr>\n",
       "    <tr>\n",
       "      <th>7</th>\n",
       "      <td>0.178763</td>\n",
       "      <td>0.168972</td>\n",
       "      <td>-0.062208</td>\n",
       "    </tr>\n",
       "    <tr>\n",
       "      <th>8</th>\n",
       "      <td>0.062374</td>\n",
       "      <td>0.102356</td>\n",
       "      <td>-0.055187</td>\n",
       "    </tr>\n",
       "    <tr>\n",
       "      <th>9</th>\n",
       "      <td>0.097989</td>\n",
       "      <td>0.214122</td>\n",
       "      <td>-0.133571</td>\n",
       "    </tr>\n",
       "  </tbody>\n",
       "</table>\n",
       "</div>"
      ]
     },
     "execution_count": 129,
     "metadata": {},
     "output_type": "execute_result"
    }
   ],
   "execution_count": 129
  },
  {
   "metadata": {
    "ExecuteTime": {
     "end_time": "2025-04-13T23:28:01.292937Z",
     "start_time": "2025-04-13T23:28:01.278936Z"
    }
   },
   "cell_type": "code",
   "source": [
    "# Топ 3 релевантних документів для кожної теми\n",
    "for topic_idx in range(n_topics):\n",
    "    print(f\"\\n=== Theme #{topic_idx + 1} ===\")\n",
    "    top_doc_indices = document_topics_df.iloc[:, topic_idx].abs().sort_values(ascending=False).head(3).index\n",
    "    for i, doc_idx in enumerate(top_doc_indices):\n",
    "        weight = document_topics_df.iloc[doc_idx, topic_idx]\n",
    "        print(f\"\\nDocument {i + 1} (theme weight: {weight:.3f}):\")\n",
    "        print(data_df.loc[doc_idx, 'text'][:500], \"...\")  # перші 500 символів\n"
   ],
   "id": "4c3b15619a08263e",
   "outputs": [
    {
     "name": "stdout",
     "output_type": "stream",
     "text": [
      "\n",
      "=== Theme #1 ===\n",
      "\n",
      "Document 1 (theme weight: 1.849):\n",
      "$DOW $LYB - Cash In With 2 High-Yield Dividend Stocks: Passive-Income Stocks To Fight Inflation.  https://t.co/IzKZyYNy1k #markets #trading #finance ...\n",
      "\n",
      "Document 2 (theme weight: 1.496):\n",
      "2 Attractive High Dividend Yield Stocks To Buy.  https://t.co/UbtSvdsOs9 #business #stocks #markets ...\n",
      "\n",
      "Document 3 (theme weight: 1.480):\n",
      "#Growth #stocks outpace value stocks $SPY $QQQ $DIA $SPX $COMPQ $DJIA $XLY $XLK $XLC $XLI $XLRE $XLB  https://t.co/LzEmmlQJhI #economy #stockmarket ...\n",
      "\n",
      "=== Theme #2 ===\n",
      "\n",
      "Document 1 (theme weight: 1.924):\n",
      "#Breaking: Inflation surges to new 40-year high as CPI rises 9.1% year over year in June, the highest increase since November 1981  https://t.co/PjGWGkKpdk by @alexandraandnyc  https://t.co/fyQt9joo5N ...\n",
      "\n",
      "Document 2 (theme weight: 1.573):\n",
      "BREAKING: UK inflation hits a new 40-year high in June, intensifying the cost of living crisis and adding pressure on the BOE to deliver an aggressive interest-rate hike next month  https://t.co/ISduF6G3vv ...\n",
      "\n",
      "Document 3 (theme weight: 1.569):\n",
      "New Zealand Trade Balance Jun: -NZ$0.701B (prev NZ$0.253B)   - New Zealand Exports Jun: NZ$6.42B (prev NZ$6.95B)   - New Zealand Imports Jun: NZ$7.12B (prev NZ$6.69B) ...\n",
      "\n",
      "=== Theme #3 ===\n",
      "\n",
      "Document 1 (theme weight: 2.613):\n",
      "New Zealand Trade Balance Jun: -NZ$0.701B (prev NZ$0.253B)   - New Zealand Exports Jun: NZ$6.42B (prev NZ$6.95B)   - New Zealand Imports Jun: NZ$7.12B (prev NZ$6.69B) ...\n",
      "\n",
      "Document 2 (theme weight: 2.355):\n",
      "$SCANX: Stocks/ETFs that traded to new 52 week highs/lows this session - New highs (25) outpacing new lows (11)  https://t.co/ZHI6KWlPjX ...\n",
      "\n",
      "Document 3 (theme weight: 1.796):\n",
      "TotalEnergies SE UK Regulatory Announcement: Papua New Guinea: TotalEnergies Announces New Milestone towards Papua LNG Development  https://t.co/IZaoBm04WI  https://t.co/zsQ5lsjy3G ...\n"
     ]
    }
   ],
   "execution_count": 130
  },
  {
   "metadata": {},
   "cell_type": "markdown",
   "source": "### Вивести найбільш важливі теми для випадково обраних чотирьох документів",
   "id": "cc9e75640ca77643"
  },
  {
   "metadata": {
    "ExecuteTime": {
     "end_time": "2025-04-13T23:45:35.632767Z",
     "start_time": "2025-04-13T23:45:35.613086Z"
    }
   },
   "cell_type": "code",
   "source": [
    "random_docs = random.sample(range(len(data_df)), 4)\n",
    "for idx in random_docs:\n",
    "    print(f\"\\nDocument #{idx}\")\n",
    "    print(data_df.loc[idx, 'text'][:300], \"...\\n\")\n",
    "    top_topics = document_topics_df.iloc[idx].abs().sort_values(ascending=False).head(3)\n",
    "    for topic_name, weight in top_topics.items():\n",
    "        terms_str = topic_terms.get(topic_name, \"(no terms)\")\n",
    "        print(f\"- {topic_name} (weight: {weight:.3f})\")"
   ],
   "id": "95826090174e5d1",
   "outputs": [
    {
     "name": "stdout",
     "output_type": "stream",
     "text": [
      "\n",
      "Document #4379\n",
      "$CANO - Cano Health (CANO) Investor Presentation - Slideshow.  https://t.co/bivRsdKck3 #business #finance #investing ...\n",
      "\n",
      "- T1 (weight: 0.896)\n",
      "- T2 (weight: 0.423)\n",
      "- T3 (weight: 0.127)\n",
      "\n",
      "Document #5495\n",
      "$AVDL: Avadel Pharmaceuticals receives tentative approval of LUMRYZ  https://t.co/MKdslugfxb ...\n",
      "\n",
      "- T2 (weight: 0.018)\n",
      "- T1 (weight: 0.008)\n",
      "- T3 (weight: 0.008)\n",
      "\n",
      "Document #701\n",
      "ITALIAN HICP (YOY) (JUN) ACTUAL: 8.5% VS 8.5% PREVIOUS; EST 8.5% ...\n",
      "\n",
      "- T3 (weight: 0.095)\n",
      "- T2 (weight: 0.088)\n",
      "- T1 (weight: 0.034)\n",
      "\n",
      "Document #2432\n",
      "The U.S. is on track to post the first annual deficit below $1 trillion since the start of the pandemic two and a half years ago.   https://t.co/3QqIKALkPi ...\n",
      "\n",
      "- T2 (weight: 0.270)\n",
      "- T1 (weight: 0.140)\n",
      "- T3 (weight: 0.070)\n"
     ]
    }
   ],
   "execution_count": 135
  },
  {
   "metadata": {},
   "cell_type": "markdown",
   "source": "### Використати текст carroll-alice.txt з корпусу gutenberg бібліотеки nltk та вивести ключові біграми.",
   "id": "f613bac0bf42bc6c"
  },
  {
   "metadata": {
    "ExecuteTime": {
     "end_time": "2025-04-13T09:21:02.623178Z",
     "start_time": "2025-04-13T09:21:02.605786Z"
    }
   },
   "cell_type": "code",
   "source": "nltk.download('gutenberg')",
   "id": "6fec610dae9ea3fa",
   "outputs": [
    {
     "name": "stderr",
     "output_type": "stream",
     "text": [
      "[nltk_data] Downloading package gutenberg to\n",
      "[nltk_data]     C:\\Users\\mkriv\\AppData\\Roaming\\nltk_data...\n",
      "[nltk_data]   Package gutenberg is already up-to-date!\n"
     ]
    },
    {
     "data": {
      "text/plain": [
       "True"
      ]
     },
     "execution_count": 48,
     "metadata": {},
     "output_type": "execute_result"
    }
   ],
   "execution_count": 48
  },
  {
   "metadata": {
    "ExecuteTime": {
     "end_time": "2025-04-17T07:51:45.301194Z",
     "start_time": "2025-04-17T07:51:45.192251Z"
    }
   },
   "cell_type": "code",
   "source": [
    "alice = gutenberg.sents('carroll-alice.txt')\n",
    "alice_clean = [\n",
    "    [re.sub(r\"[^\\w\\s]\", \"\", word.lower()) for word in sent if word.lower() not in stop_words and word not in string.punctuation]\n",
    "    for sent in alice\n",
    "]"
   ],
   "id": "56ca0ae4f623909",
   "outputs": [],
   "execution_count": 141
  },
  {
   "metadata": {
    "ExecuteTime": {
     "end_time": "2025-04-17T07:51:48.614135Z",
     "start_time": "2025-04-17T07:51:48.562124Z"
    }
   },
   "cell_type": "code",
   "source": [
    "# Діставання біграм за PMI\n",
    "bigram_measures = BigramAssocMeasures()\n",
    "finder = BigramCollocationFinder.from_documents(alice_clean)\n",
    "\n",
    "# Фільтрація біграм, які зустрічаються рідко\n",
    "finder.apply_freq_filter(10)"
   ],
   "id": "c5ecbd698978ab87",
   "outputs": [],
   "execution_count": 142
  },
  {
   "metadata": {
    "ExecuteTime": {
     "end_time": "2025-04-17T07:51:50.751927Z",
     "start_time": "2025-04-17T07:51:50.741391Z"
    }
   },
   "cell_type": "code",
   "source": [
    "# Топ 10 біграм за PMI\n",
    "top_bigrams = finder.nbest(bigram_measures.pmi, 10)\n",
    "print(\"Top 10 key bigrams by PMI:\")\n",
    "for bigram in top_bigrams:\n",
    "    print(f\"{bigram[0]} {bigram[1]}\")"
   ],
   "id": "88f2d854a319e6a3",
   "outputs": [
    {
     "name": "stdout",
     "output_type": "stream",
     "text": [
      "Top 10 key bigrams by PMI:\n",
      "march hare\n",
      "mock turtle\n",
      "white rabbit\n",
      "minute two\n",
      "oh dear\n",
      "said caterpillar\n",
      "poor alice\n",
      "said king\n",
      "thought alice\n",
      "said cat\n"
     ]
    }
   ],
   "execution_count": 143
  }
 ],
 "metadata": {
  "kernelspec": {
   "display_name": "Python 3",
   "language": "python",
   "name": "python3"
  },
  "language_info": {
   "codemirror_mode": {
    "name": "ipython",
    "version": 2
   },
   "file_extension": ".py",
   "mimetype": "text/x-python",
   "name": "python",
   "nbconvert_exporter": "python",
   "pygments_lexer": "ipython2",
   "version": "2.7.6"
  }
 },
 "nbformat": 4,
 "nbformat_minor": 5
}
