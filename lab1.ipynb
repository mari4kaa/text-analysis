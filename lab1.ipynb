{
 "cells": [
  {
   "metadata": {},
   "cell_type": "markdown",
   "source": "## Кривохата Марія ІМ-21, лабораторна робота 1",
   "id": "f42529ad9ab7e2fa"
  },
  {
   "metadata": {
    "ExecuteTime": {
     "end_time": "2025-03-03T22:42:28.018910Z",
     "start_time": "2025-03-03T22:42:22.766359Z"
    }
   },
   "cell_type": "code",
   "source": [
    "import re\n",
    "import nltk\n",
    "from nltk import word_tokenize\n",
    "from nltk.tokenize import sent_tokenize, RegexpTokenizer\n",
    "from nltk.tag import pos_tag\n",
    "from nltk.stem import PorterStemmer, LancasterStemmer, SnowballStemmer"
   ],
   "id": "84f017354ff4bf1a",
   "outputs": [],
   "execution_count": 1
  },
  {
   "metadata": {
    "ExecuteTime": {
     "end_time": "2025-02-19T21:47:19.051700Z",
     "start_time": "2025-02-19T21:47:19.016697Z"
    }
   },
   "cell_type": "code",
   "source": [
    "file = open(\"text2.txt\", encoding=\"utf8\")\n",
    "content = file.read()\n",
    "print(content)\n",
    "file.close()"
   ],
   "id": "185ea12cf221a07d",
   "outputs": [
    {
     "name": "stdout",
     "output_type": "stream",
     "text": [
      "At three  o'clock precisely I was at Baker Street, but Holmes had not yet returned. The landlady informed me that he baker_street@here.uk had left the house shortly after eight o'clock in the morning. I sat down beside the fire, however, with the intention of awaiting him,however long he might be. I was already deeply interested in his inquiry, for, though it was surrounded by none of the grim and strange features which were WATson3@gmail.com associated with the two crimes which I have already recorded, still, the nature of  the case and the exalted station of his client gave it a character of its own. Indeed, apart from the nature of the investigation which my friend had on hand, there was something in his masterly grasp of a situation, and his keen, incisive reasoning, which made it a pleasure to me to study his system of work, and to follow the quick, subtle methods by which he disentangled the most inextricable mysteries. So accustomed was I ShHolmes@mail.uk to his invariable success that the very possibility of his failing  had ceased to enter into my head.\n",
      "“I had,” said he, “come to an entirely erroneous conclusion, which shows, my dear Watson, how dangerous it always is to reason from insufficient data. The presence of the gypsies, and the use of the word ‘band,’ which was used by the poor girl, no doubt to explain the appearance which she had caught a hurried glimpse of by the light of her match, were sufficient to put me upon an entirely wrong scent. I can only claim the merit that I instantly reconsidered my position when, however, it became clear to me that whatever danger threatened an occupant of the room could not come either from the window or the door. My attention was speedily drawn, as I have already remarked to you, to this ventilator, and to the bell-rope which hung down to the bed. The discovery that this was a dummy, and that the bed was clamped to the floor, instantly gave rise to the suspicion that the rope was there as bridge for something passing through the hole, and coming to the bed. The idea of a snake instantly occurred to me, and when I coupled it with my knowledge that the doctor was furnished with a supply of creatures from India, I felt that I was probably on the right track. The idea of using a form of poison which could not possibly be discovered by any chemical test was just such a one as would occur to a clever and ruthless man who had had an Eastern training. The rapidity with which such a poison would take effect would also, from his point of view, be an advantage. It would be a sharp-eyed coroner, indeed, who could distinguish the two little dark punctures which would show where the poison fangs had done their work. Then I thought of the whistle. Of course he must recall the snake before the morning light revealed it to the victim. He had trained it, probably by the use of the milk which we saw, to return to him when summoned. He would put it through this ventilator at the hour that he thought best, with the certainty that it would crawl down the rope and land on the bed. It might or might not\n",
      "bite the occupant, perhaps she might escape every night for a week, but sooner or later she must fall a victim.\n"
     ]
    }
   ],
   "execution_count": 68
  },
  {
   "metadata": {},
   "cell_type": "markdown",
   "source": "Знаходження всіх адрес електронної пошти в тексті",
   "id": "59fb967993d9826"
  },
  {
   "metadata": {
    "collapsed": true,
    "ExecuteTime": {
     "end_time": "2025-02-19T21:47:22.541538Z",
     "start_time": "2025-02-19T21:47:22.514525Z"
    }
   },
   "cell_type": "code",
   "source": [
    "n = re.compile(r'\\S+@\\S+\\.\\S+')\n",
    "emails_list = n.findall(content)\n",
    "\n",
    "delimiter = \", \"\n",
    "emails_str = delimiter.join(emails_list)\n",
    "\n",
    "print(emails_str)"
   ],
   "id": "initial_id",
   "outputs": [
    {
     "name": "stdout",
     "output_type": "stream",
     "text": [
      "baker_street@here.uk, WATson3@gmail.com, ShHolmes@mail.uk\n"
     ]
    }
   ],
   "execution_count": 69
  },
  {
   "metadata": {},
   "cell_type": "markdown",
   "source": "Заміна символів у цих адресах на символ “-” та виведення зміненого тексту",
   "id": "d837b8a6b293f59f"
  },
  {
   "metadata": {
    "ExecuteTime": {
     "end_time": "2025-02-19T21:47:25.890189Z",
     "start_time": "2025-02-19T21:47:25.866182Z"
    }
   },
   "cell_type": "code",
   "source": [
    "def mask_email(match):\n",
    "    return '-' * len(match.group())"
   ],
   "id": "aa5f99a863cdcac3",
   "outputs": [],
   "execution_count": 70
  },
  {
   "metadata": {
    "ExecuteTime": {
     "end_time": "2025-02-19T21:47:27.853315Z",
     "start_time": "2025-02-19T21:47:27.830377Z"
    }
   },
   "cell_type": "code",
   "source": [
    "replaced_emails_content = re.sub(pattern=r'\\S+@\\S+\\.\\[a-zA-Z]+', repl=mask_email, string=content, flags=re.IGNORECASE)\n",
    "\n",
    "print(replaced_emails_content)"
   ],
   "id": "445ab7b2ef2cea3b",
   "outputs": [
    {
     "name": "stdout",
     "output_type": "stream",
     "text": [
      "At three  o'clock precisely I was at Baker Street, but Holmes had not yet returned. The landlady informed me that he -------------------- had left the house shortly after eight o'clock in the morning. I sat down beside the fire, however, with the intention of awaiting him,however long he might be. I was already deeply interested in his inquiry, for, though it was surrounded by none of the grim and strange features which were ----------------- associated with the two crimes which I have already recorded, still, the nature of  the case and the exalted station of his client gave it a character of its own. Indeed, apart from the nature of the investigation which my friend had on hand, there was something in his masterly grasp of a situation, and his keen, incisive reasoning, which made it a pleasure to me to study his system of work, and to follow the quick, subtle methods by which he disentangled the most inextricable mysteries. So accustomed was I ---------------- to his invariable success that the very possibility of his failing  had ceased to enter into my head.\n",
      "“I had,” said he, “come to an entirely erroneous conclusion, which shows, my dear Watson, how dangerous it always is to reason from insufficient data. The presence of the gypsies, and the use of the word ‘band,’ which was used by the poor girl, no doubt to explain the appearance which she had caught a hurried glimpse of by the light of her match, were sufficient to put me upon an entirely wrong scent. I can only claim the merit that I instantly reconsidered my position when, however, it became clear to me that whatever danger threatened an occupant of the room could not come either from the window or the door. My attention was speedily drawn, as I have already remarked to you, to this ventilator, and to the bell-rope which hung down to the bed. The discovery that this was a dummy, and that the bed was clamped to the floor, instantly gave rise to the suspicion that the rope was there as bridge for something passing through the hole, and coming to the bed. The idea of a snake instantly occurred to me, and when I coupled it with my knowledge that the doctor was furnished with a supply of creatures from India, I felt that I was probably on the right track. The idea of using a form of poison which could not possibly be discovered by any chemical test was just such a one as would occur to a clever and ruthless man who had had an Eastern training. The rapidity with which such a poison would take effect would also, from his point of view, be an advantage. It would be a sharp-eyed coroner, indeed, who could distinguish the two little dark punctures which would show where the poison fangs had done their work. Then I thought of the whistle. Of course he must recall the snake before the morning light revealed it to the victim. He had trained it, probably by the use of the milk which we saw, to return to him when summoned. He would put it through this ventilator at the hour that he thought best, with the certainty that it would crawl down the rope and land on the bed. It might or might not\n",
      "bite the occupant, perhaps she might escape every night for a week, but sooner or later she must fall a victim.\n"
     ]
    }
   ],
   "execution_count": 71
  },
  {
   "metadata": {},
   "cell_type": "markdown",
   "source": "",
   "id": "671d52a93ab3a449"
  },
  {
   "metadata": {},
   "cell_type": "markdown",
   "source": [
    "Токенізація слів із видаленням поштових адрес\n",
    "  \n",
    "(Додатково було прибрано знаки пунктуації)"
   ],
   "id": "dddd71585abd53e2"
  },
  {
   "metadata": {
    "ExecuteTime": {
     "end_time": "2025-02-19T21:45:33.567932100Z",
     "start_time": "2025-02-16T18:10:14.083044Z"
    }
   },
   "cell_type": "code",
   "source": "nltk.download()",
   "id": "a75d0fadcc03cda7",
   "outputs": [
    {
     "name": "stdout",
     "output_type": "stream",
     "text": [
      "showing info https://raw.githubusercontent.com/nltk/nltk_data/gh-pages/index.xml\n"
     ]
    },
    {
     "data": {
      "text/plain": [
       "True"
      ]
     },
     "execution_count": 27,
     "metadata": {},
     "output_type": "execute_result"
    }
   ],
   "execution_count": 27
  },
  {
   "metadata": {
    "ExecuteTime": {
     "end_time": "2025-02-19T21:45:33.580963300Z",
     "start_time": "2025-02-16T21:42:02.024119Z"
    }
   },
   "cell_type": "code",
   "source": "nltk.download('punkt')",
   "id": "7cc040b4f156f4e4",
   "outputs": [
    {
     "name": "stderr",
     "output_type": "stream",
     "text": [
      "[nltk_data] Downloading package punkt to\n",
      "[nltk_data]     C:\\Users\\mkriv\\AppData\\Roaming\\nltk_data...\n",
      "[nltk_data]   Package punkt is already up-to-date!\n"
     ]
    },
    {
     "data": {
      "text/plain": [
       "True"
      ]
     },
     "execution_count": 58,
     "metadata": {},
     "output_type": "execute_result"
    }
   ],
   "execution_count": 58
  },
  {
   "metadata": {
    "ExecuteTime": {
     "end_time": "2025-02-19T21:47:42.092724Z",
     "start_time": "2025-02-19T21:47:42.058192Z"
    }
   },
   "cell_type": "code",
   "source": [
    "tokenizer = RegexpTokenizer(r'\\S+@\\S+\\.\\S+|\\w+\\'\\w*|\\w+')\n",
    "\n",
    "tokens = tokenizer.tokenize(content)\n",
    "filtered_tokens = [token for token in tokens if not re.match(r'\\S+@\\S+\\.\\S+', token)]\n",
    "\n",
    "print(filtered_tokens)"
   ],
   "id": "cb2a617d48b3a62e",
   "outputs": [
    {
     "name": "stdout",
     "output_type": "stream",
     "text": [
      "['At', 'three', \"o'clock\", 'precisely', 'I', 'was', 'at', 'Baker', 'Street', 'but', 'Holmes', 'had', 'not', 'yet', 'returned', 'The', 'landlady', 'informed', 'me', 'that', 'he', 'had', 'left', 'the', 'house', 'shortly', 'after', 'eight', \"o'clock\", 'in', 'the', 'morning', 'I', 'sat', 'down', 'beside', 'the', 'fire', 'however', 'with', 'the', 'intention', 'of', 'awaiting', 'him', 'however', 'long', 'he', 'might', 'be', 'I', 'was', 'already', 'deeply', 'interested', 'in', 'his', 'inquiry', 'for', 'though', 'it', 'was', 'surrounded', 'by', 'none', 'of', 'the', 'grim', 'and', 'strange', 'features', 'which', 'were', 'associated', 'with', 'the', 'two', 'crimes', 'which', 'I', 'have', 'already', 'recorded', 'still', 'the', 'nature', 'of', 'the', 'case', 'and', 'the', 'exalted', 'station', 'of', 'his', 'client', 'gave', 'it', 'a', 'character', 'of', 'its', 'own', 'Indeed', 'apart', 'from', 'the', 'nature', 'of', 'the', 'investigation', 'which', 'my', 'friend', 'had', 'on', 'hand', 'there', 'was', 'something', 'in', 'his', 'masterly', 'grasp', 'of', 'a', 'situation', 'and', 'his', 'keen', 'incisive', 'reasoning', 'which', 'made', 'it', 'a', 'pleasure', 'to', 'me', 'to', 'study', 'his', 'system', 'of', 'work', 'and', 'to', 'follow', 'the', 'quick', 'subtle', 'methods', 'by', 'which', 'he', 'disentangled', 'the', 'most', 'inextricable', 'mysteries', 'So', 'accustomed', 'was', 'I', 'to', 'his', 'invariable', 'success', 'that', 'the', 'very', 'possibility', 'of', 'his', 'failing', 'had', 'ceased', 'to', 'enter', 'into', 'my', 'head', 'I', 'had', 'said', 'he', 'come', 'to', 'an', 'entirely', 'erroneous', 'conclusion', 'which', 'shows', 'my', 'dear', 'Watson', 'how', 'dangerous', 'it', 'always', 'is', 'to', 'reason', 'from', 'insufficient', 'data', 'The', 'presence', 'of', 'the', 'gypsies', 'and', 'the', 'use', 'of', 'the', 'word', 'band', 'which', 'was', 'used', 'by', 'the', 'poor', 'girl', 'no', 'doubt', 'to', 'explain', 'the', 'appearance', 'which', 'she', 'had', 'caught', 'a', 'hurried', 'glimpse', 'of', 'by', 'the', 'light', 'of', 'her', 'match', 'were', 'sufficient', 'to', 'put', 'me', 'upon', 'an', 'entirely', 'wrong', 'scent', 'I', 'can', 'only', 'claim', 'the', 'merit', 'that', 'I', 'instantly', 'reconsidered', 'my', 'position', 'when', 'however', 'it', 'became', 'clear', 'to', 'me', 'that', 'whatever', 'danger', 'threatened', 'an', 'occupant', 'of', 'the', 'room', 'could', 'not', 'come', 'either', 'from', 'the', 'window', 'or', 'the', 'door', 'My', 'attention', 'was', 'speedily', 'drawn', 'as', 'I', 'have', 'already', 'remarked', 'to', 'you', 'to', 'this', 'ventilator', 'and', 'to', 'the', 'bell', 'rope', 'which', 'hung', 'down', 'to', 'the', 'bed', 'The', 'discovery', 'that', 'this', 'was', 'a', 'dummy', 'and', 'that', 'the', 'bed', 'was', 'clamped', 'to', 'the', 'floor', 'instantly', 'gave', 'rise', 'to', 'the', 'suspicion', 'that', 'the', 'rope', 'was', 'there', 'as', 'bridge', 'for', 'something', 'passing', 'through', 'the', 'hole', 'and', 'coming', 'to', 'the', 'bed', 'The', 'idea', 'of', 'a', 'snake', 'instantly', 'occurred', 'to', 'me', 'and', 'when', 'I', 'coupled', 'it', 'with', 'my', 'knowledge', 'that', 'the', 'doctor', 'was', 'furnished', 'with', 'a', 'supply', 'of', 'creatures', 'from', 'India', 'I', 'felt', 'that', 'I', 'was', 'probably', 'on', 'the', 'right', 'track', 'The', 'idea', 'of', 'using', 'a', 'form', 'of', 'poison', 'which', 'could', 'not', 'possibly', 'be', 'discovered', 'by', 'any', 'chemical', 'test', 'was', 'just', 'such', 'a', 'one', 'as', 'would', 'occur', 'to', 'a', 'clever', 'and', 'ruthless', 'man', 'who', 'had', 'had', 'an', 'Eastern', 'training', 'The', 'rapidity', 'with', 'which', 'such', 'a', 'poison', 'would', 'take', 'effect', 'would', 'also', 'from', 'his', 'point', 'of', 'view', 'be', 'an', 'advantage', 'It', 'would', 'be', 'a', 'sharp', 'eyed', 'coroner', 'indeed', 'who', 'could', 'distinguish', 'the', 'two', 'little', 'dark', 'punctures', 'which', 'would', 'show', 'where', 'the', 'poison', 'fangs', 'had', 'done', 'their', 'work', 'Then', 'I', 'thought', 'of', 'the', 'whistle', 'Of', 'course', 'he', 'must', 'recall', 'the', 'snake', 'before', 'the', 'morning', 'light', 'revealed', 'it', 'to', 'the', 'victim', 'He', 'had', 'trained', 'it', 'probably', 'by', 'the', 'use', 'of', 'the', 'milk', 'which', 'we', 'saw', 'to', 'return', 'to', 'him', 'when', 'summoned', 'He', 'would', 'put', 'it', 'through', 'this', 'ventilator', 'at', 'the', 'hour', 'that', 'he', 'thought', 'best', 'with', 'the', 'certainty', 'that', 'it', 'would', 'crawl', 'down', 'the', 'rope', 'and', 'land', 'on', 'the', 'bed', 'It', 'might', 'or', 'might', 'not', 'bite', 'the', 'occupant', 'perhaps', 'she', 'might', 'escape', 'every', 'night', 'for', 'a', 'week', 'but', 'sooner', 'or', 'later', 'she', 'must', 'fall', 'a', 'victim']\n"
     ]
    }
   ],
   "execution_count": 72
  },
  {
   "metadata": {},
   "cell_type": "markdown",
   "source": "Підрахунок кількості слів в передостанньому реченні  (не враховуючи знаки пунктуації та інші спеціальні символи)",
   "id": "77eb17dd006f7ca"
  },
  {
   "metadata": {
    "ExecuteTime": {
     "end_time": "2025-02-19T21:47:55.219835Z",
     "start_time": "2025-02-19T21:47:55.199262Z"
    }
   },
   "cell_type": "code",
   "source": [
    "sentences = sent_tokenize(content)\n",
    "\n",
    "words_second_to_last = word_tokenize(sentences[-2])\n",
    "\n",
    "filtered_words = [word for word in words_second_to_last if word.isalnum()]\n",
    "\n",
    "print('Number of words in the second-to-last sentence is', len(filtered_words))"
   ],
   "id": "b8612acdcff49238",
   "outputs": [
    {
     "name": "stdout",
     "output_type": "stream",
     "text": [
      "Number of words in the second-to-last sentence is 29\n"
     ]
    }
   ],
   "execution_count": 73
  },
  {
   "metadata": {},
   "cell_type": "markdown",
   "source": "Позначення частин мови",
   "id": "fbb298c54c77f043"
  },
  {
   "metadata": {
    "ExecuteTime": {
     "end_time": "2025-02-19T21:47:59.114137Z",
     "start_time": "2025-02-19T21:47:58.998868Z"
    }
   },
   "cell_type": "code",
   "source": [
    "pos_tagged_words = pos_tag(filtered_tokens)\n",
    "\n",
    "print(pos_tagged_words)"
   ],
   "id": "824bb6ff2932ac1d",
   "outputs": [
    {
     "name": "stdout",
     "output_type": "stream",
     "text": [
      "[('At', 'IN'), ('three', 'CD'), (\"o'clock\", 'NN'), ('precisely', 'RB'), ('I', 'PRP'), ('was', 'VBD'), ('at', 'IN'), ('Baker', 'NNP'), ('Street', 'NNP'), ('but', 'CC'), ('Holmes', 'NNP'), ('had', 'VBD'), ('not', 'RB'), ('yet', 'RB'), ('returned', 'VBN'), ('The', 'DT'), ('landlady', 'NN'), ('informed', 'VBD'), ('me', 'PRP'), ('that', 'IN'), ('he', 'PRP'), ('had', 'VBD'), ('left', 'VBN'), ('the', 'DT'), ('house', 'NN'), ('shortly', 'RB'), ('after', 'IN'), ('eight', 'CD'), (\"o'clock\", 'NN'), ('in', 'IN'), ('the', 'DT'), ('morning', 'NN'), ('I', 'PRP'), ('sat', 'VBD'), ('down', 'RB'), ('beside', 'RB'), ('the', 'DT'), ('fire', 'NN'), ('however', 'RB'), ('with', 'IN'), ('the', 'DT'), ('intention', 'NN'), ('of', 'IN'), ('awaiting', 'VBG'), ('him', 'PRP'), ('however', 'RB'), ('long', 'RB'), ('he', 'PRP'), ('might', 'MD'), ('be', 'VB'), ('I', 'PRP'), ('was', 'VBD'), ('already', 'RB'), ('deeply', 'RB'), ('interested', 'JJ'), ('in', 'IN'), ('his', 'PRP$'), ('inquiry', 'NN'), ('for', 'IN'), ('though', 'IN'), ('it', 'PRP'), ('was', 'VBD'), ('surrounded', 'VBN'), ('by', 'IN'), ('none', 'NN'), ('of', 'IN'), ('the', 'DT'), ('grim', 'NN'), ('and', 'CC'), ('strange', 'NN'), ('features', 'NNS'), ('which', 'WDT'), ('were', 'VBD'), ('associated', 'VBN'), ('with', 'IN'), ('the', 'DT'), ('two', 'CD'), ('crimes', 'NNS'), ('which', 'WDT'), ('I', 'PRP'), ('have', 'VBP'), ('already', 'RB'), ('recorded', 'VBN'), ('still', 'RB'), ('the', 'DT'), ('nature', 'NN'), ('of', 'IN'), ('the', 'DT'), ('case', 'NN'), ('and', 'CC'), ('the', 'DT'), ('exalted', 'JJ'), ('station', 'NN'), ('of', 'IN'), ('his', 'PRP$'), ('client', 'NN'), ('gave', 'VBD'), ('it', 'PRP'), ('a', 'DT'), ('character', 'NN'), ('of', 'IN'), ('its', 'PRP$'), ('own', 'JJ'), ('Indeed', 'RB'), ('apart', 'RB'), ('from', 'IN'), ('the', 'DT'), ('nature', 'NN'), ('of', 'IN'), ('the', 'DT'), ('investigation', 'NN'), ('which', 'WDT'), ('my', 'PRP$'), ('friend', 'NN'), ('had', 'VBD'), ('on', 'IN'), ('hand', 'NN'), ('there', 'EX'), ('was', 'VBD'), ('something', 'NN'), ('in', 'IN'), ('his', 'PRP$'), ('masterly', 'JJ'), ('grasp', 'NN'), ('of', 'IN'), ('a', 'DT'), ('situation', 'NN'), ('and', 'CC'), ('his', 'PRP$'), ('keen', 'JJ'), ('incisive', 'JJ'), ('reasoning', 'NN'), ('which', 'WDT'), ('made', 'VBD'), ('it', 'PRP'), ('a', 'DT'), ('pleasure', 'NN'), ('to', 'TO'), ('me', 'PRP'), ('to', 'TO'), ('study', 'VB'), ('his', 'PRP$'), ('system', 'NN'), ('of', 'IN'), ('work', 'NN'), ('and', 'CC'), ('to', 'TO'), ('follow', 'VB'), ('the', 'DT'), ('quick', 'JJ'), ('subtle', 'NN'), ('methods', 'NNS'), ('by', 'IN'), ('which', 'WDT'), ('he', 'PRP'), ('disentangled', 'VBD'), ('the', 'DT'), ('most', 'RBS'), ('inextricable', 'JJ'), ('mysteries', 'NNS'), ('So', 'RB'), ('accustomed', 'JJ'), ('was', 'VBD'), ('I', 'PRP'), ('to', 'TO'), ('his', 'PRP$'), ('invariable', 'JJ'), ('success', 'NN'), ('that', 'IN'), ('the', 'DT'), ('very', 'RB'), ('possibility', 'NN'), ('of', 'IN'), ('his', 'PRP$'), ('failing', 'NN'), ('had', 'VBD'), ('ceased', 'VBN'), ('to', 'TO'), ('enter', 'VB'), ('into', 'IN'), ('my', 'PRP$'), ('head', 'NN'), ('I', 'PRP'), ('had', 'VBD'), ('said', 'VBD'), ('he', 'PRP'), ('come', 'VB'), ('to', 'TO'), ('an', 'DT'), ('entirely', 'RB'), ('erroneous', 'JJ'), ('conclusion', 'NN'), ('which', 'WDT'), ('shows', 'VBZ'), ('my', 'PRP$'), ('dear', 'JJ'), ('Watson', 'NNP'), ('how', 'WRB'), ('dangerous', 'JJ'), ('it', 'PRP'), ('always', 'RB'), ('is', 'VBZ'), ('to', 'TO'), ('reason', 'NN'), ('from', 'IN'), ('insufficient', 'NN'), ('data', 'NNS'), ('The', 'DT'), ('presence', 'NN'), ('of', 'IN'), ('the', 'DT'), ('gypsies', 'NNS'), ('and', 'CC'), ('the', 'DT'), ('use', 'NN'), ('of', 'IN'), ('the', 'DT'), ('word', 'NN'), ('band', 'NN'), ('which', 'WDT'), ('was', 'VBD'), ('used', 'VBN'), ('by', 'IN'), ('the', 'DT'), ('poor', 'JJ'), ('girl', 'NN'), ('no', 'DT'), ('doubt', 'NN'), ('to', 'TO'), ('explain', 'VB'), ('the', 'DT'), ('appearance', 'NN'), ('which', 'WDT'), ('she', 'PRP'), ('had', 'VBD'), ('caught', 'VBN'), ('a', 'DT'), ('hurried', 'JJ'), ('glimpse', 'NN'), ('of', 'IN'), ('by', 'IN'), ('the', 'DT'), ('light', 'NN'), ('of', 'IN'), ('her', 'PRP$'), ('match', 'NN'), ('were', 'VBD'), ('sufficient', 'JJ'), ('to', 'TO'), ('put', 'VB'), ('me', 'PRP'), ('upon', 'IN'), ('an', 'DT'), ('entirely', 'RB'), ('wrong', 'JJ'), ('scent', 'NN'), ('I', 'PRP'), ('can', 'MD'), ('only', 'RB'), ('claim', 'VB'), ('the', 'DT'), ('merit', 'NN'), ('that', 'IN'), ('I', 'PRP'), ('instantly', 'RB'), ('reconsidered', 'VBD'), ('my', 'PRP$'), ('position', 'NN'), ('when', 'WRB'), ('however', 'RB'), ('it', 'PRP'), ('became', 'VBD'), ('clear', 'JJ'), ('to', 'TO'), ('me', 'PRP'), ('that', 'IN'), ('whatever', 'WDT'), ('danger', 'NN'), ('threatened', 'VBD'), ('an', 'DT'), ('occupant', 'NN'), ('of', 'IN'), ('the', 'DT'), ('room', 'NN'), ('could', 'MD'), ('not', 'RB'), ('come', 'VB'), ('either', 'RB'), ('from', 'IN'), ('the', 'DT'), ('window', 'NN'), ('or', 'CC'), ('the', 'DT'), ('door', 'NN'), ('My', 'NNP'), ('attention', 'NN'), ('was', 'VBD'), ('speedily', 'RB'), ('drawn', 'VBN'), ('as', 'IN'), ('I', 'PRP'), ('have', 'VBP'), ('already', 'RB'), ('remarked', 'VBN'), ('to', 'TO'), ('you', 'PRP'), ('to', 'TO'), ('this', 'DT'), ('ventilator', 'NN'), ('and', 'CC'), ('to', 'TO'), ('the', 'DT'), ('bell', 'NN'), ('rope', 'NN'), ('which', 'WDT'), ('hung', 'VBD'), ('down', 'RB'), ('to', 'TO'), ('the', 'DT'), ('bed', 'NN'), ('The', 'DT'), ('discovery', 'NN'), ('that', 'IN'), ('this', 'DT'), ('was', 'VBD'), ('a', 'DT'), ('dummy', 'NN'), ('and', 'CC'), ('that', 'IN'), ('the', 'DT'), ('bed', 'NN'), ('was', 'VBD'), ('clamped', 'VBN'), ('to', 'TO'), ('the', 'DT'), ('floor', 'NN'), ('instantly', 'RB'), ('gave', 'VBD'), ('rise', 'NN'), ('to', 'TO'), ('the', 'DT'), ('suspicion', 'NN'), ('that', 'IN'), ('the', 'DT'), ('rope', 'NN'), ('was', 'VBD'), ('there', 'RB'), ('as', 'IN'), ('bridge', 'NN'), ('for', 'IN'), ('something', 'NN'), ('passing', 'NN'), ('through', 'IN'), ('the', 'DT'), ('hole', 'NN'), ('and', 'CC'), ('coming', 'VBG'), ('to', 'TO'), ('the', 'DT'), ('bed', 'NN'), ('The', 'DT'), ('idea', 'NN'), ('of', 'IN'), ('a', 'DT'), ('snake', 'NN'), ('instantly', 'RB'), ('occurred', 'VBD'), ('to', 'TO'), ('me', 'PRP'), ('and', 'CC'), ('when', 'WRB'), ('I', 'PRP'), ('coupled', 'VBD'), ('it', 'PRP'), ('with', 'IN'), ('my', 'PRP$'), ('knowledge', 'NN'), ('that', 'IN'), ('the', 'DT'), ('doctor', 'NN'), ('was', 'VBD'), ('furnished', 'VBN'), ('with', 'IN'), ('a', 'DT'), ('supply', 'NN'), ('of', 'IN'), ('creatures', 'NNS'), ('from', 'IN'), ('India', 'NNP'), ('I', 'PRP'), ('felt', 'VBD'), ('that', 'IN'), ('I', 'PRP'), ('was', 'VBD'), ('probably', 'RB'), ('on', 'IN'), ('the', 'DT'), ('right', 'JJ'), ('track', 'NN'), ('The', 'DT'), ('idea', 'NN'), ('of', 'IN'), ('using', 'VBG'), ('a', 'DT'), ('form', 'NN'), ('of', 'IN'), ('poison', 'NN'), ('which', 'WDT'), ('could', 'MD'), ('not', 'RB'), ('possibly', 'RB'), ('be', 'VB'), ('discovered', 'VBN'), ('by', 'IN'), ('any', 'DT'), ('chemical', 'JJ'), ('test', 'NN'), ('was', 'VBD'), ('just', 'RB'), ('such', 'JJ'), ('a', 'DT'), ('one', 'NN'), ('as', 'RB'), ('would', 'MD'), ('occur', 'VB'), ('to', 'TO'), ('a', 'DT'), ('clever', 'NN'), ('and', 'CC'), ('ruthless', 'NN'), ('man', 'NN'), ('who', 'WP'), ('had', 'VBD'), ('had', 'VBN'), ('an', 'DT'), ('Eastern', 'JJ'), ('training', 'VBG'), ('The', 'DT'), ('rapidity', 'NN'), ('with', 'IN'), ('which', 'WDT'), ('such', 'PDT'), ('a', 'DT'), ('poison', 'NN'), ('would', 'MD'), ('take', 'VB'), ('effect', 'NN'), ('would', 'MD'), ('also', 'RB'), ('from', 'IN'), ('his', 'PRP$'), ('point', 'NN'), ('of', 'IN'), ('view', 'NN'), ('be', 'VB'), ('an', 'DT'), ('advantage', 'NN'), ('It', 'PRP'), ('would', 'MD'), ('be', 'VB'), ('a', 'DT'), ('sharp', 'JJ'), ('eyed', 'JJ'), ('coroner', 'NN'), ('indeed', 'RB'), ('who', 'WP'), ('could', 'MD'), ('distinguish', 'VB'), ('the', 'DT'), ('two', 'CD'), ('little', 'JJ'), ('dark', 'NN'), ('punctures', 'NNS'), ('which', 'WDT'), ('would', 'MD'), ('show', 'VB'), ('where', 'WRB'), ('the', 'DT'), ('poison', 'NN'), ('fangs', 'NNS'), ('had', 'VBD'), ('done', 'VBN'), ('their', 'PRP$'), ('work', 'NN'), ('Then', 'RB'), ('I', 'PRP'), ('thought', 'VBD'), ('of', 'IN'), ('the', 'DT'), ('whistle', 'NN'), ('Of', 'IN'), ('course', 'NN'), ('he', 'PRP'), ('must', 'MD'), ('recall', 'VB'), ('the', 'DT'), ('snake', 'NN'), ('before', 'IN'), ('the', 'DT'), ('morning', 'NN'), ('light', 'NN'), ('revealed', 'VBD'), ('it', 'PRP'), ('to', 'TO'), ('the', 'DT'), ('victim', 'NN'), ('He', 'PRP'), ('had', 'VBD'), ('trained', 'VBN'), ('it', 'PRP'), ('probably', 'RB'), ('by', 'IN'), ('the', 'DT'), ('use', 'NN'), ('of', 'IN'), ('the', 'DT'), ('milk', 'NN'), ('which', 'WDT'), ('we', 'PRP'), ('saw', 'VBD'), ('to', 'TO'), ('return', 'VB'), ('to', 'TO'), ('him', 'PRP'), ('when', 'WRB'), ('summoned', 'VBD'), ('He', 'PRP'), ('would', 'MD'), ('put', 'VB'), ('it', 'PRP'), ('through', 'IN'), ('this', 'DT'), ('ventilator', 'NN'), ('at', 'IN'), ('the', 'DT'), ('hour', 'NN'), ('that', 'IN'), ('he', 'PRP'), ('thought', 'VBD'), ('best', 'RB'), ('with', 'IN'), ('the', 'DT'), ('certainty', 'NN'), ('that', 'IN'), ('it', 'PRP'), ('would', 'MD'), ('crawl', 'VB'), ('down', 'RP'), ('the', 'DT'), ('rope', 'NN'), ('and', 'CC'), ('land', 'NN'), ('on', 'IN'), ('the', 'DT'), ('bed', 'NN'), ('It', 'PRP'), ('might', 'MD'), ('or', 'CC'), ('might', 'MD'), ('not', 'RB'), ('bite', 'VB'), ('the', 'DT'), ('occupant', 'NN'), ('perhaps', 'RB'), ('she', 'PRP'), ('might', 'MD'), ('escape', 'VB'), ('every', 'DT'), ('night', 'NN'), ('for', 'IN'), ('a', 'DT'), ('week', 'NN'), ('but', 'CC'), ('sooner', 'NN'), ('or', 'CC'), ('later', 'RB'), ('she', 'PRP'), ('must', 'MD'), ('fall', 'VB'), ('a', 'DT'), ('victim', 'NN')]\n"
     ]
    }
   ],
   "execution_count": 74
  },
  {
   "metadata": {},
   "cell_type": "markdown",
   "source": "Вивід всіх іменників",
   "id": "edd851e0f94a27de"
  },
  {
   "metadata": {
    "ExecuteTime": {
     "end_time": "2025-02-19T21:48:03.411012Z",
     "start_time": "2025-02-19T21:48:03.393019Z"
    }
   },
   "cell_type": "code",
   "source": [
    "nouns = [word for word, tag in pos_tagged_words if tag in ['NN', 'NNS', 'NNP', 'NNPS']]\n",
    "\n",
    "print(nouns)"
   ],
   "id": "c72ee08448b7b5cb",
   "outputs": [
    {
     "name": "stdout",
     "output_type": "stream",
     "text": [
      "[\"o'clock\", 'Baker', 'Street', 'Holmes', 'landlady', 'house', \"o'clock\", 'morning', 'fire', 'intention', 'inquiry', 'none', 'grim', 'strange', 'features', 'crimes', 'nature', 'case', 'station', 'client', 'character', 'nature', 'investigation', 'friend', 'hand', 'something', 'grasp', 'situation', 'reasoning', 'pleasure', 'system', 'work', 'subtle', 'methods', 'mysteries', 'success', 'possibility', 'failing', 'head', 'conclusion', 'Watson', 'reason', 'insufficient', 'data', 'presence', 'gypsies', 'use', 'word', 'band', 'girl', 'doubt', 'appearance', 'glimpse', 'light', 'match', 'scent', 'merit', 'position', 'danger', 'occupant', 'room', 'window', 'door', 'My', 'attention', 'ventilator', 'bell', 'rope', 'bed', 'discovery', 'dummy', 'bed', 'floor', 'rise', 'suspicion', 'rope', 'bridge', 'something', 'passing', 'hole', 'bed', 'idea', 'snake', 'knowledge', 'doctor', 'supply', 'creatures', 'India', 'track', 'idea', 'form', 'poison', 'test', 'one', 'clever', 'ruthless', 'man', 'rapidity', 'poison', 'effect', 'point', 'view', 'advantage', 'coroner', 'dark', 'punctures', 'poison', 'fangs', 'work', 'whistle', 'course', 'snake', 'morning', 'light', 'victim', 'use', 'milk', 'ventilator', 'hour', 'certainty', 'rope', 'land', 'bed', 'occupant', 'night', 'week', 'sooner', 'victim']\n"
     ]
    }
   ],
   "execution_count": 75
  },
  {
   "metadata": {},
   "cell_type": "markdown",
   "source": "Пошук кореня слів дев’ятого речення (декількома способами)",
   "id": "4fd237938b231f26"
  },
  {
   "metadata": {
    "ExecuteTime": {
     "end_time": "2025-02-19T21:48:06.688475Z",
     "start_time": "2025-02-19T21:48:06.650342Z"
    }
   },
   "cell_type": "code",
   "source": [
    "words_ninth_sent = word_tokenize(sentences[8])\n",
    "\n",
    "porter = PorterStemmer()\n",
    "lancaster = LancasterStemmer()\n",
    "snowball = SnowballStemmer(\"english\")\n",
    "\n",
    "porter_stems = [porter.stem(word) for word in words_ninth_sent if word.isalnum()]\n",
    "lancaster_stems = [lancaster.stem(word) for word in words_ninth_sent if word.isalnum()]\n",
    "snowball_stems = [snowball.stem(word) for word in words_ninth_sent if word.isalnum()]\n",
    "\n",
    "print('All words from 9th sentence:', words_ninth_sent)\n",
    "print(\"Porter Stemming:\", porter_stems)\n",
    "print(\"Lancaster Stemming:\", lancaster_stems)\n",
    "print(\"Snowball Stemming:\", snowball_stems) "
   ],
   "id": "b183870d8f5412ea",
   "outputs": [
    {
     "name": "stdout",
     "output_type": "stream",
     "text": [
      "All words from 9th sentence: ['I', 'can', 'only', 'claim', 'the', 'merit', 'that', 'I', 'instantly', 'reconsidered', 'my', 'position', 'when', ',', 'however', ',', 'it', 'became', 'clear', 'to', 'me', 'that', 'whatever', 'danger', 'threatened', 'an', 'occupant', 'of', 'the', 'room', 'could', 'not', 'come', 'either', 'from', 'the', 'window', 'or', 'the', 'door', '.']\n",
      "Porter Stemming: ['i', 'can', 'onli', 'claim', 'the', 'merit', 'that', 'i', 'instantli', 'reconsid', 'my', 'posit', 'when', 'howev', 'it', 'becam', 'clear', 'to', 'me', 'that', 'whatev', 'danger', 'threaten', 'an', 'occup', 'of', 'the', 'room', 'could', 'not', 'come', 'either', 'from', 'the', 'window', 'or', 'the', 'door']\n",
      "Lancaster Stemming: ['i', 'can', 'on', 'claim', 'the', 'merit', 'that', 'i', 'inst', 'reconsid', 'my', 'posit', 'when', 'howev', 'it', 'becam', 'clear', 'to', 'me', 'that', 'whatev', 'dang', 'threatened', 'an', 'occup', 'of', 'the', 'room', 'could', 'not', 'com', 'eith', 'from', 'the', 'window', 'or', 'the', 'door']\n",
      "Snowball Stemming: ['i', 'can', 'onli', 'claim', 'the', 'merit', 'that', 'i', 'instant', 'reconsid', 'my', 'posit', 'when', 'howev', 'it', 'becam', 'clear', 'to', 'me', 'that', 'whatev', 'danger', 'threaten', 'an', 'occup', 'of', 'the', 'room', 'could', 'not', 'come', 'either', 'from', 'the', 'window', 'or', 'the', 'door']\n"
     ]
    }
   ],
   "execution_count": 76
  }
 ],
 "metadata": {
  "kernelspec": {
   "display_name": "Python 3",
   "language": "python",
   "name": "python3"
  },
  "language_info": {
   "codemirror_mode": {
    "name": "ipython",
    "version": 2
   },
   "file_extension": ".py",
   "mimetype": "text/x-python",
   "name": "python",
   "nbconvert_exporter": "python",
   "pygments_lexer": "ipython2",
   "version": "2.7.6"
  }
 },
 "nbformat": 4,
 "nbformat_minor": 5
}
