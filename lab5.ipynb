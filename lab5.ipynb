{
 "cells": [
  {
   "metadata": {},
   "cell_type": "markdown",
   "source": "# ЛР5 Кривохата Марія ІМ-21",
   "id": "8a77807f92f26ee"
  },
  {
   "metadata": {
    "ExecuteTime": {
     "end_time": "2025-04-26T20:30:01.094615Z",
     "start_time": "2025-04-26T20:30:01.083697Z"
    }
   },
   "cell_type": "code",
   "source": [
    "import random\n",
    "import re\n",
    "import pandas as pd\n",
    "import spacy\n",
    "from spacy.cli import download\n",
    "from sklearn.model_selection import train_test_split\n",
    "from sklearn.metrics import confusion_matrix, accuracy_score\n",
    "from sklearn.feature_extraction.text import TfidfVectorizer\n",
    "from sklearn.svm import LinearSVC\n",
    "from sklearn.preprocessing import StandardScaler\n",
    "from textblob import TextBlob"
   ],
   "id": "7df9140457caed5e",
   "outputs": [],
   "execution_count": 55
  },
  {
   "metadata": {},
   "cell_type": "markdown",
   "source": [
    "Створити програму, яка:\n",
    "1. Зчитує заданий набір даних, виконує попередню обробку (токенізацію,\n",
    "видалення стоп-слів, лематизацію і т.д.) за допомогою бібліотеки spaCy."
   ],
   "id": "34972e062d8708be"
  },
  {
   "metadata": {},
   "cell_type": "markdown",
   "source": [
    " -1 – негативний коментар, 0 – нейтральний, 1 –\n",
    "позитивний. Використати опорні вектори"
   ],
   "id": "4508f30a25693fd0"
  },
  {
   "metadata": {
    "ExecuteTime": {
     "end_time": "2025-04-26T19:36:19.651393Z",
     "start_time": "2025-04-26T19:36:19.549397Z"
    }
   },
   "cell_type": "code",
   "source": [
    "data_df = pd.read_csv('reddit.csv')\n",
    "data_df.head(10)"
   ],
   "id": "202453573e982dc5",
   "outputs": [
    {
     "data": {
      "text/plain": [
       "                                       clean_comment  category\n",
       "0   family mormon have never tried explain them t...         1\n",
       "1  buddhism has very much lot compatible with chr...         1\n",
       "2  seriously don say thing first all they won get...        -1\n",
       "3  what you have learned yours and only yours wha...         0\n",
       "4  for your own benefit you may want read living ...         1\n",
       "5  you should all sit down together and watch the...        -1\n",
       "6   was teens when discovered zen meditation was ...         1\n",
       "7                           jesus was zen meets jew          0\n",
       "8  there are two varieties christians dogmatic th...        -1\n",
       "9  dont worry about trying explain yourself just ...         1"
      ],
      "text/html": [
       "<div>\n",
       "<style scoped>\n",
       "    .dataframe tbody tr th:only-of-type {\n",
       "        vertical-align: middle;\n",
       "    }\n",
       "\n",
       "    .dataframe tbody tr th {\n",
       "        vertical-align: top;\n",
       "    }\n",
       "\n",
       "    .dataframe thead th {\n",
       "        text-align: right;\n",
       "    }\n",
       "</style>\n",
       "<table border=\"1\" class=\"dataframe\">\n",
       "  <thead>\n",
       "    <tr style=\"text-align: right;\">\n",
       "      <th></th>\n",
       "      <th>clean_comment</th>\n",
       "      <th>category</th>\n",
       "    </tr>\n",
       "  </thead>\n",
       "  <tbody>\n",
       "    <tr>\n",
       "      <th>0</th>\n",
       "      <td>family mormon have never tried explain them t...</td>\n",
       "      <td>1</td>\n",
       "    </tr>\n",
       "    <tr>\n",
       "      <th>1</th>\n",
       "      <td>buddhism has very much lot compatible with chr...</td>\n",
       "      <td>1</td>\n",
       "    </tr>\n",
       "    <tr>\n",
       "      <th>2</th>\n",
       "      <td>seriously don say thing first all they won get...</td>\n",
       "      <td>-1</td>\n",
       "    </tr>\n",
       "    <tr>\n",
       "      <th>3</th>\n",
       "      <td>what you have learned yours and only yours wha...</td>\n",
       "      <td>0</td>\n",
       "    </tr>\n",
       "    <tr>\n",
       "      <th>4</th>\n",
       "      <td>for your own benefit you may want read living ...</td>\n",
       "      <td>1</td>\n",
       "    </tr>\n",
       "    <tr>\n",
       "      <th>5</th>\n",
       "      <td>you should all sit down together and watch the...</td>\n",
       "      <td>-1</td>\n",
       "    </tr>\n",
       "    <tr>\n",
       "      <th>6</th>\n",
       "      <td>was teens when discovered zen meditation was ...</td>\n",
       "      <td>1</td>\n",
       "    </tr>\n",
       "    <tr>\n",
       "      <th>7</th>\n",
       "      <td>jesus was zen meets jew</td>\n",
       "      <td>0</td>\n",
       "    </tr>\n",
       "    <tr>\n",
       "      <th>8</th>\n",
       "      <td>there are two varieties christians dogmatic th...</td>\n",
       "      <td>-1</td>\n",
       "    </tr>\n",
       "    <tr>\n",
       "      <th>9</th>\n",
       "      <td>dont worry about trying explain yourself just ...</td>\n",
       "      <td>1</td>\n",
       "    </tr>\n",
       "  </tbody>\n",
       "</table>\n",
       "</div>"
      ]
     },
     "execution_count": 3,
     "metadata": {},
     "output_type": "execute_result"
    }
   ],
   "execution_count": 3
  },
  {
   "metadata": {
    "ExecuteTime": {
     "end_time": "2025-04-26T19:36:21.744862Z",
     "start_time": "2025-04-26T19:36:21.723869Z"
    }
   },
   "cell_type": "code",
   "source": "data_df.info()",
   "id": "4f72d2bf7dbafdd1",
   "outputs": [
    {
     "name": "stdout",
     "output_type": "stream",
     "text": [
      "<class 'pandas.core.frame.DataFrame'>\n",
      "RangeIndex: 37249 entries, 0 to 37248\n",
      "Data columns (total 2 columns):\n",
      " #   Column         Non-Null Count  Dtype \n",
      "---  ------         --------------  ----- \n",
      " 0   clean_comment  37149 non-null  object\n",
      " 1   category       37249 non-null  int64 \n",
      "dtypes: int64(1), object(1)\n",
      "memory usage: 582.1+ KB\n"
     ]
    }
   ],
   "execution_count": 4
  },
  {
   "metadata": {
    "ExecuteTime": {
     "end_time": "2025-04-26T19:36:23.378994Z",
     "start_time": "2025-04-26T19:36:23.338487Z"
    }
   },
   "cell_type": "code",
   "source": [
    "data_df = data_df.dropna(subset=['clean_comment'])\n",
    "data_df = data_df[data_df['clean_comment'].str.strip() != '']"
   ],
   "id": "c7dfa351019d90a7",
   "outputs": [],
   "execution_count": 5
  },
  {
   "metadata": {
    "ExecuteTime": {
     "end_time": "2025-04-26T19:36:24.609182Z",
     "start_time": "2025-04-26T19:36:24.587553Z"
    }
   },
   "cell_type": "code",
   "source": "data_df.info()",
   "id": "7ab07b69d0e98755",
   "outputs": [
    {
     "name": "stdout",
     "output_type": "stream",
     "text": [
      "<class 'pandas.core.frame.DataFrame'>\n",
      "Index: 37028 entries, 0 to 37248\n",
      "Data columns (total 2 columns):\n",
      " #   Column         Non-Null Count  Dtype \n",
      "---  ------         --------------  ----- \n",
      " 0   clean_comment  37028 non-null  object\n",
      " 1   category       37028 non-null  int64 \n",
      "dtypes: int64(1), object(1)\n",
      "memory usage: 867.8+ KB\n"
     ]
    }
   ],
   "execution_count": 6
  },
  {
   "metadata": {
    "ExecuteTime": {
     "end_time": "2025-04-26T19:36:33.071611Z",
     "start_time": "2025-04-26T19:36:26.626051Z"
    }
   },
   "cell_type": "code",
   "source": [
    "download(\"en_core_web_sm\")\n",
    "nlp = spacy.load(\"en_core_web_sm\")"
   ],
   "id": "9e80c14997710b4",
   "outputs": [
    {
     "name": "stdout",
     "output_type": "stream",
     "text": [
      "✔ Download and installation successful\n",
      "You can now load the package via spacy.load('en_core_web_sm')\n"
     ]
    }
   ],
   "execution_count": 7
  },
  {
   "metadata": {
    "ExecuteTime": {
     "end_time": "2025-04-26T20:02:40.998055Z",
     "start_time": "2025-04-26T19:59:28.833502Z"
    }
   },
   "cell_type": "code",
   "source": [
    "def preprocess(text):\n",
    "    text = text.lower()\n",
    "    text = re.sub(r'[^a-z\\s]', '', text)\n",
    "    doc = nlp(text)\n",
    "    tokens = []\n",
    "    for token in doc:\n",
    "        if not token.is_stop and token.is_alpha and len(token.text) > 2:\n",
    "            tokens.append(token.lemma_)\n",
    "    return ' '.join(tokens)\n",
    "\n",
    "data_df['clean_text'] = data_df['clean_comment'].apply(preprocess)\n",
    "data_df.head(10)"
   ],
   "id": "864a10569ac2fa29",
   "outputs": [
    {
     "data": {
      "text/plain": [
       "                                       clean_comment  category  \\\n",
       "0   family mormon have never tried explain them t...         1   \n",
       "1  buddhism has very much lot compatible with chr...         1   \n",
       "2  seriously don say thing first all they won get...        -1   \n",
       "3  what you have learned yours and only yours wha...         0   \n",
       "4  for your own benefit you may want read living ...         1   \n",
       "5  you should all sit down together and watch the...        -1   \n",
       "6   was teens when discovered zen meditation was ...         1   \n",
       "7                           jesus was zen meets jew          0   \n",
       "8  there are two varieties christians dogmatic th...        -1   \n",
       "9  dont worry about trying explain yourself just ...         1   \n",
       "\n",
       "                                          clean_text  \n",
       "0  family mormon try explain stare puzzle time ti...  \n",
       "1  buddhism lot compatible christianity especiall...  \n",
       "2  seriously don thing win complex explain normal...  \n",
       "3  learn want teach different focus goal wrapping...  \n",
       "4  benefit want read living buddha live christ th...  \n",
       "5  sit watch simpson episode lisa buddhist simpso...  \n",
       "6  teen discover zen meditation undiagnosed bpd h...  \n",
       "7                                 jesus zen meet jew  \n",
       "8  variety christians dogmatic dwell word conserv...  \n",
       "9  worry try explain meditate regularly try hard ...  "
      ],
      "text/html": [
       "<div>\n",
       "<style scoped>\n",
       "    .dataframe tbody tr th:only-of-type {\n",
       "        vertical-align: middle;\n",
       "    }\n",
       "\n",
       "    .dataframe tbody tr th {\n",
       "        vertical-align: top;\n",
       "    }\n",
       "\n",
       "    .dataframe thead th {\n",
       "        text-align: right;\n",
       "    }\n",
       "</style>\n",
       "<table border=\"1\" class=\"dataframe\">\n",
       "  <thead>\n",
       "    <tr style=\"text-align: right;\">\n",
       "      <th></th>\n",
       "      <th>clean_comment</th>\n",
       "      <th>category</th>\n",
       "      <th>clean_text</th>\n",
       "    </tr>\n",
       "  </thead>\n",
       "  <tbody>\n",
       "    <tr>\n",
       "      <th>0</th>\n",
       "      <td>family mormon have never tried explain them t...</td>\n",
       "      <td>1</td>\n",
       "      <td>family mormon try explain stare puzzle time ti...</td>\n",
       "    </tr>\n",
       "    <tr>\n",
       "      <th>1</th>\n",
       "      <td>buddhism has very much lot compatible with chr...</td>\n",
       "      <td>1</td>\n",
       "      <td>buddhism lot compatible christianity especiall...</td>\n",
       "    </tr>\n",
       "    <tr>\n",
       "      <th>2</th>\n",
       "      <td>seriously don say thing first all they won get...</td>\n",
       "      <td>-1</td>\n",
       "      <td>seriously don thing win complex explain normal...</td>\n",
       "    </tr>\n",
       "    <tr>\n",
       "      <th>3</th>\n",
       "      <td>what you have learned yours and only yours wha...</td>\n",
       "      <td>0</td>\n",
       "      <td>learn want teach different focus goal wrapping...</td>\n",
       "    </tr>\n",
       "    <tr>\n",
       "      <th>4</th>\n",
       "      <td>for your own benefit you may want read living ...</td>\n",
       "      <td>1</td>\n",
       "      <td>benefit want read living buddha live christ th...</td>\n",
       "    </tr>\n",
       "    <tr>\n",
       "      <th>5</th>\n",
       "      <td>you should all sit down together and watch the...</td>\n",
       "      <td>-1</td>\n",
       "      <td>sit watch simpson episode lisa buddhist simpso...</td>\n",
       "    </tr>\n",
       "    <tr>\n",
       "      <th>6</th>\n",
       "      <td>was teens when discovered zen meditation was ...</td>\n",
       "      <td>1</td>\n",
       "      <td>teen discover zen meditation undiagnosed bpd h...</td>\n",
       "    </tr>\n",
       "    <tr>\n",
       "      <th>7</th>\n",
       "      <td>jesus was zen meets jew</td>\n",
       "      <td>0</td>\n",
       "      <td>jesus zen meet jew</td>\n",
       "    </tr>\n",
       "    <tr>\n",
       "      <th>8</th>\n",
       "      <td>there are two varieties christians dogmatic th...</td>\n",
       "      <td>-1</td>\n",
       "      <td>variety christians dogmatic dwell word conserv...</td>\n",
       "    </tr>\n",
       "    <tr>\n",
       "      <th>9</th>\n",
       "      <td>dont worry about trying explain yourself just ...</td>\n",
       "      <td>1</td>\n",
       "      <td>worry try explain meditate regularly try hard ...</td>\n",
       "    </tr>\n",
       "  </tbody>\n",
       "</table>\n",
       "</div>"
      ]
     },
     "execution_count": 26,
     "metadata": {},
     "output_type": "execute_result"
    }
   ],
   "execution_count": 26
  },
  {
   "metadata": {
    "ExecuteTime": {
     "end_time": "2025-04-26T20:02:41.046057Z",
     "start_time": "2025-04-26T20:02:41.032058Z"
    }
   },
   "cell_type": "code",
   "source": "data_df.info()",
   "id": "d98549b23ce32b99",
   "outputs": [
    {
     "name": "stdout",
     "output_type": "stream",
     "text": [
      "<class 'pandas.core.frame.DataFrame'>\n",
      "Index: 37028 entries, 0 to 37248\n",
      "Data columns (total 3 columns):\n",
      " #   Column         Non-Null Count  Dtype \n",
      "---  ------         --------------  ----- \n",
      " 0   clean_comment  37028 non-null  object\n",
      " 1   category       37028 non-null  int64 \n",
      " 2   clean_text     37028 non-null  object\n",
      "dtypes: int64(1), object(2)\n",
      "memory usage: 1.1+ MB\n"
     ]
    }
   ],
   "execution_count": 27
  },
  {
   "metadata": {},
   "cell_type": "markdown",
   "source": [
    "2. Розбиває дані на навчальні на тестові. Виконує аналіз настроїв за\n",
    "допомогою алгоритмів класифікації (опорних векторів). Виводить матрицю невідповідностей та точність\n",
    "моделі."
   ],
   "id": "ef4b450938017575"
  },
  {
   "metadata": {
    "ExecuteTime": {
     "end_time": "2025-04-26T20:04:26.569942Z",
     "start_time": "2025-04-26T20:04:26.533943Z"
    }
   },
   "cell_type": "code",
   "source": [
    "# Розділення на навчальну і тестову вибірки\n",
    "X_train, X_test, y_train, y_test = train_test_split(\n",
    "    data_df['clean_text'], data_df['category'], test_size=0.2, random_state=47\n",
    ")"
   ],
   "id": "3728a74a974c479",
   "outputs": [],
   "execution_count": 33
  },
  {
   "metadata": {
    "ExecuteTime": {
     "end_time": "2025-04-26T20:04:44.090447Z",
     "start_time": "2025-04-26T20:04:42.585389Z"
    }
   },
   "cell_type": "code",
   "source": [
    "# Векторизація тексту\n",
    "vectorizer = TfidfVectorizer(\n",
    "    ngram_range=(1,2),\n",
    "    max_df=0.9,\n",
    "    min_df=5,\n",
    "    max_features=10000\n",
    ")\n",
    "X_train_vec = vectorizer.fit_transform(X_train)\n",
    "X_test_vec = vectorizer.transform(X_test)\n",
    "\n",
    "# Масштабування\n",
    "scaler = StandardScaler(with_mean=False)\n",
    "X_train_vec = scaler.fit_transform(X_train_vec)\n",
    "X_test_vec = scaler.transform(X_test_vec)"
   ],
   "id": "efe44ea060369572",
   "outputs": [],
   "execution_count": 34
  },
  {
   "metadata": {
    "ExecuteTime": {
     "end_time": "2025-04-26T20:06:48.637587Z",
     "start_time": "2025-04-26T20:04:48.193922Z"
    }
   },
   "cell_type": "code",
   "source": [
    "svm_model = LinearSVC(max_iter=10000, random_state=42)\n",
    "svm_model.fit(X_train_vec, y_train)\n",
    "y_pred_svm = svm_model.predict(X_test_vec)"
   ],
   "id": "61d912a56fbcb3da",
   "outputs": [
    {
     "name": "stderr",
     "output_type": "stream",
     "text": [
      "C:\\Users\\mkriv\\anaconda3\\lib\\site-packages\\sklearn\\svm\\_base.py:1235: ConvergenceWarning: Liblinear failed to converge, increase the number of iterations.\n",
      "  warnings.warn(\n"
     ]
    }
   ],
   "execution_count": 35
  },
  {
   "metadata": {
    "ExecuteTime": {
     "end_time": "2025-04-26T20:13:10.772049Z",
     "start_time": "2025-04-26T20:13:10.747629Z"
    }
   },
   "cell_type": "code",
   "source": [
    "# Матриця невідповідностей та точність SVM\n",
    "conf_matrix_svm = confusion_matrix(y_test, y_pred_svm)\n",
    "accuracy_svm = accuracy_score(y_test, y_pred_svm)\n",
    "\n",
    "print(\"Матриця невідповідностей:\")\n",
    "print(conf_matrix_svm)\n",
    "print(f\"Точність: {accuracy_svm:.2f}\")"
   ],
   "id": "18e519bd7b470f83",
   "outputs": [
    {
     "name": "stdout",
     "output_type": "stream",
     "text": [
      "Матриця невідповідностей:\n",
      "[[ 923  265  482]\n",
      " [ 355 1766  482]\n",
      " [ 519  445 2169]]\n",
      "Точність: 0.66\n"
     ]
    }
   ],
   "execution_count": 38
  },
  {
   "metadata": {},
   "cell_type": "markdown",
   "source": [
    "3. Використовує один з готових лексиконів, наприклад Textblob, для\n",
    "аналізу оцінки настроїв. Також розраховує матрицю невідповідностей, та\n",
    "точність моделі."
   ],
   "id": "68f5eead9c981b38"
  },
  {
   "metadata": {
    "ExecuteTime": {
     "end_time": "2025-04-26T20:28:13.058702Z",
     "start_time": "2025-04-26T20:28:12.221233Z"
    }
   },
   "cell_type": "code",
   "source": [
    "# Аналіз настроїв за допомогою TextBlob\n",
    "def textblob_sentiment(text):\n",
    "    polarity = TextBlob(text).sentiment.polarity\n",
    "    if polarity > 0.1:\n",
    "        return 1\n",
    "    elif polarity < -0.1:\n",
    "        return -1\n",
    "    else:\n",
    "        return 0\n",
    "\n",
    "# Оцінка всіх коментарів у тестовому наборі\n",
    "y_pred_blob = X_test.apply(textblob_sentiment)"
   ],
   "id": "ab57a2fa14cee66c",
   "outputs": [],
   "execution_count": 53
  },
  {
   "metadata": {
    "ExecuteTime": {
     "end_time": "2025-04-26T20:28:15.594518Z",
     "start_time": "2025-04-26T20:28:15.582099Z"
    }
   },
   "cell_type": "code",
   "source": [
    "# Матриця невідповідностей та точність TextBlob\n",
    "conf_matrix_blob = confusion_matrix(y_test, y_pred_blob)\n",
    "accuracy_blob = accuracy_score(y_test, y_pred_blob)\n",
    "\n",
    "print(\"Матриця невідповідностей:\")\n",
    "print(conf_matrix_blob)\n",
    "print(f\"Точність: {accuracy_blob:.2f}\")"
   ],
   "id": "ec453c28a22d1c2b",
   "outputs": [
    {
     "name": "stdout",
     "output_type": "stream",
     "text": [
      "Матриця невідповідностей:\n",
      "[[1022  574   74]\n",
      " [  53 2483   67]\n",
      " [ 108 1066 1959]]\n",
      "Точність: 0.74\n"
     ]
    }
   ],
   "execution_count": 54
  },
  {
   "metadata": {},
   "cell_type": "markdown",
   "source": [
    "4. Обирає три випадкові записи та виводить результати оцінки їх настрою\n",
    "за пунктами 2) і 3)."
   ],
   "id": "3fe4017caf89cbfe"
  },
  {
   "metadata": {
    "ExecuteTime": {
     "end_time": "2025-04-26T20:31:49.860850Z",
     "start_time": "2025-04-26T20:31:49.841974Z"
    }
   },
   "cell_type": "code",
   "source": [
    "random_indices = random.sample(range(len(X_test)), 3)\n",
    "\n",
    "for idx in random_indices:\n",
    "    original_text = X_test.iloc[idx]\n",
    "    true_label = y_test.iloc[idx]\n",
    "    svm_prediction = y_pred_svm[idx]\n",
    "    blob_prediction = y_pred_blob.iloc[idx]\n",
    "    \n",
    "    print(f\"\\nТекст: {data_df['clean_text'].iloc[X_test.index[idx]]}\")\n",
    "    print(f\"Реальна оцінка: {true_label}\")\n",
    "    print(f\"Прогноз SVM: {svm_prediction}\")\n",
    "    print(f\"Прогноз TextBlob: {blob_prediction}\")"
   ],
   "id": "fe63d47e8422a6cd",
   "outputs": [
    {
     "name": "stdout",
     "output_type": "stream",
     "text": [
      "\n",
      "Текст: stop citizen change irrespective party power\n",
      "Реальна оцінка: 0\n",
      "Прогноз SVM: 0\n",
      "Прогноз TextBlob: 0\n",
      "\n",
      "Текст: rujhano mean\n",
      "Реальна оцінка: -1\n",
      "Прогноз SVM: -1\n",
      "Прогноз TextBlob: 1\n",
      "\n",
      "Текст: hardik score india run delivery\n",
      "Реальна оцінка: 0\n",
      "Прогноз SVM: 0\n",
      "Прогноз TextBlob: 0\n"
     ]
    }
   ],
   "execution_count": 57
  }
 ],
 "metadata": {
  "kernelspec": {
   "display_name": "Python 3",
   "language": "python",
   "name": "python3"
  },
  "language_info": {
   "codemirror_mode": {
    "name": "ipython",
    "version": 2
   },
   "file_extension": ".py",
   "mimetype": "text/x-python",
   "name": "python",
   "nbconvert_exporter": "python",
   "pygments_lexer": "ipython2",
   "version": "2.7.6"
  }
 },
 "nbformat": 4,
 "nbformat_minor": 5
}
